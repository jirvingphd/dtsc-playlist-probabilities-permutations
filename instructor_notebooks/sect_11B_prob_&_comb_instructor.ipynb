{
 "cells": [
  {
   "cell_type": "markdown",
   "metadata": {},
   "source": [
    "<div style=\"color:red;font-weight:bold\"> Note to Jeff: You may want to review the sections marked with the notebook emojis 📖  and DEFINITELY should read any red text notes</div>\n",
    "\n",
    "\n",
    "- **Summary of Last Class & Beginning This One:**\n",
    "    - We covered the first half of thus notebook (Sect 11A) and made it through [ORIGINAL END OF 06/12 Study Group](#ORIGINAL-END-OF-06/12-Study-Group).\n",
    "    - but you should recap some material for them so start a bit earlier at:\n",
    "        - [Sect 11B: Conditional Probability & Law of Total Probability - 06/16/20](#Sect-11B:-Conditional-Probability-&-Law-of-Total-Probability---06/16/20)\n",
    "        \n",
    "    - The study group recording is located [here](https://youtu.be/whoXm_6jU8E), in case you'd find that helpful.\n",
    "\n",
    "\n",
    "- **Note: The intro to section 12 at the end is 1000% optional.**\n",
    "\n",
    "\n",
    "<br>\n",
    "<div style=\"color:red;font-weight:bold\">Students questions document</div>\n",
    "\n",
    "- Students queue up questions in the [Questions Doc](https://docs.google.com/document/d/196yIMNSRSRspBdBmjHq7vMhFF-YdpvkyYEHYV5nm8xg/edit?usp=sharing), so you should take a peek at that at the beginning of class\n",
    "\n",
    "<div style=\"color:red;font-weight:bold;\">Warning: the comment pseudocode in the activities doesn't perfectly match the comments in this notebook. You may want to go over the two side by side and copy over any comments that would be helpful in this instructor notebook. </div>\n",
    "___"
   ]
  },
  {
   "cell_type": "markdown",
   "metadata": {
    "colab_type": "text",
    "id": "bTdc9YkWXZz_"
   },
   "source": [
    "# Sect 11A: Combinatorics & Probability (last S.G.)\n"
   ]
  },
  {
   "cell_type": "markdown",
   "metadata": {},
   "source": [
    "- Study Group for: online-ds-pt-041320\n",
    "\n",
    "- 06/12/20\n"
   ]
  },
  {
   "cell_type": "markdown",
   "metadata": {
    "colab_type": "text",
    "id": "MJZRe34uX9qJ"
   },
   "source": [
    "## Learning Objectives"
   ]
  },
  {
   "cell_type": "markdown",
   "metadata": {
    "colab_type": "text",
    "id": "MJZRe34uX9qJ"
   },
   "source": [
    "- Understand what sets are and set operations.\n",
    "- Understand what probability is and how it is calculated.\n",
    "- Understand factorials, permutations, and combinations. \n",
    "\n",
    "- **Activity: Playlist Probabilities**"
   ]
  },
  {
   "cell_type": "markdown",
   "metadata": {},
   "source": [
    "### Links/References:\n",
    "- Study Groups:\n",
    "    - [Reviewing Probability & Combinatorics - M3S17 [2019-07-16]](https://www.youtube.com/watch?v=UBWnkflWvmU&list=PLVoXE6pv5LIgIui2D6u0Nga3oHtQ2ogmY&index=2) - Victor\n",
    "    - [Permutations & Factorials](https://youtu.be/-tzUcmASgC8) - Jeff\n",
    "    - [Permutations/Combinations](https://www.youtube.com/watch?v=WMYnIe2f7to&feature=youtu.be) - Rafael\n"
   ]
  },
  {
   "cell_type": "markdown",
   "metadata": {},
   "source": [
    "## QUESTIONS:"
   ]
  },
  {
   "cell_type": "markdown",
   "metadata": {},
   "source": []
  },
  {
   "cell_type": "markdown",
   "metadata": {},
   "source": [
    "## Part 1: Intro to Probability"
   ]
  },
  {
   "cell_type": "markdown",
   "metadata": {
    "colab_type": "text",
    "id": "NE6mcOGxe7RT"
   },
   "source": [
    "### Sets"
   ]
  },
  {
   "cell_type": "markdown",
   "metadata": {},
   "source": [
    "\n",
    "> A **Set**: *a well-defined collection of unique objects*.\n",
    "\n",
    "**Math notation:**\n",
    "- Define a set as $S$ \n",
    "- If $x$ is an element of set $S$:\n",
    "    - $x \\in S$.\n",
    "- If $x$ is not an element of set $S$:\n",
    "    - $x\\notin S$.\n",
    "        \n",
    "### Subset: \n",
    "> A **Subset**: set $T$ is a subset of set $S$ if *every element* in set $T$ is also in set $S$. \n",
    "\n",
    "**Math Notation**\n",
    "- $T$ is a subset of $S$.   \n",
    "    - $T \\subset S$\n",
    "\n",
    "- $T$ and $S$ can be the SAME population \n",
    "- If $T$ != $S$, but $T \\subset S$, called a 'proper subset'\n",
    "    - Can use notation:  $T \\subsetneq S$ and $T \\subseteq S$ \n",
    "\n",
    "### Universal set:\n",
    "> A **Universal Set**: The collection of all possible outcomes in a certain context or universe.\n",
    "\n",
    "**Math Notation**\n",
    "- Universal set denoted by Omega ($\\Omega$)\n",
    "- Can have infinite # of elements (e.g. the set of all real numbers!)\n",
    "- Example: all possible outcomes of a 6-sided die:\n",
    "    - $\\Omega = \\{1,2,3,4,5,6\\}$\n",
    "\n"
   ]
  },
  {
   "cell_type": "markdown",
   "metadata": {
    "colab_type": "text",
    "id": "c9rKTCYMebwR"
   },
   "source": [
    "### Set operations:"
   ]
  },
  {
   "cell_type": "markdown",
   "metadata": {
    "colab_type": "text",
    "id": "c9rKTCYMebwR"
   },
   "source": [
    "- Data used in examples:\n",
    "\n",
    "Imagine you have two sets of numbers, say the first 4 multiples of 3 in set $S$:\n",
    "\n",
    "$ S = \\{3,6,9,12\\}$\n",
    "\n",
    " and the first 4 multiples of 2 in set $T$:\n",
    " \n",
    "$ T = \\{2,4,6,8\\} $."
   ]
  },
  {
   "cell_type": "markdown",
   "metadata": {
    "colab_type": "text",
    "id": "c9rKTCYMebwR"
   },
   "source": [
    "#### Union (combining elements)"
   ]
  },
  {
   "cell_type": "markdown",
   "metadata": {
    "colab_type": "text",
    "id": "c9rKTCYMebwR"
   },
   "source": [
    "- the union of $S$ and $T$ is denoted as $S \\cup T$\n",
    "<img src=\"https://raw.githubusercontent.com/jirvingphd/dsc-intro-to-sets-online-ds-ft-100719/master/images/new_union.png\" width=200>"
   ]
  },
  {
   "cell_type": "markdown",
   "metadata": {
    "colab_type": "text",
    "id": "c9rKTCYMebwR"
   },
   "source": [
    "#### Intersection"
   ]
  },
  {
   "cell_type": "markdown",
   "metadata": {
    "colab_type": "text",
    "id": "c9rKTCYMebwR"
   },
   "source": [
    "- contains all elements of $S$ that also belong to $T$. \n",
    "    - denoted as $S \\cap T$.\n",
    "\n",
    "<img src=\"https://raw.githubusercontent.com/jirvingphd/dsc-intro-to-sets-online-ds-ft-100719/master/images/new_intersection.png\" width=200>"
   ]
  },
  {
   "cell_type": "markdown",
   "metadata": {
    "colab_type": "text",
    "id": "c9rKTCYMebwR"
   },
   "source": [
    "#### Relative complement / difference"
   ]
  },
  {
   "cell_type": "markdown",
   "metadata": {
    "colab_type": "text",
    "id": "c9rKTCYMebwR"
   },
   "source": [
    "<img src=\"https://raw.githubusercontent.com/jirvingphd/dsc-intro-to-sets-online-ds-ft-100719/master/images/new_rel_comp.png\" width=200>\n",
    "\n",
    "-  the relative complement of S contains all the elements of T that are NOT in S.\n",
    "    - relative complement of S (or $ T\\backslash S $) is $\\{2,4,8\\}$.\n",
    "    - relative complement  of T (or $ S\\backslash T $) is $\\{3,9,12\\}$.\n",
    "    \n",
    "<!img src=\"https://raw.githubusercontent.com/learn-co-students/dsc-1-08-07-introduction-to-sets-online-ds-ft-021119/master/rel_comp.png\" width=300>"
   ]
  },
  {
   "cell_type": "markdown",
   "metadata": {
    "colab_type": "text",
    "id": "c9rKTCYMebwR"
   },
   "source": [
    "#### Absolute complement"
   ]
  },
  {
   "cell_type": "markdown",
   "metadata": {
    "colab_type": "text",
    "id": "c9rKTCYMebwR"
   },
   "source": [
    "<img src=\"https://raw.githubusercontent.com/jirvingphd/dsc-intro-to-sets-online-ds-ft-100719/master/images/new_abs_comp.png\" width=200>\n",
    "\n",
    "\n",
    "- The absolute complement of $S$, with respect to the Universal set $\\Omega$, is the collection of the objects in $\\Omega$ that don't belong to $S$.\n",
    "    -  absolute complement of $S$ is denoted as $S'$ or $S^c$.\n",
    "    \n",
    "<!img src=\"https://raw.githubusercontent.com/learn-co-students/dsc-1-08-07-introduction-to-sets-online-ds-ft-021119/master/abs_comp.png\" width=300>\n",
    "\n",
    "- Example: Let's define $\\Omega$ (box around the two venn diagrams) = multiples of both 2 and 3 until 20.\n",
    "\n",
    "    - Elements of $\\Omega$ are $\\{2,3,4,6,8,9,10,12,14,15,16,18,20\\}$. \n",
    "\n",
    "    - The absolute complement of $S$ (so $S'$ or $S^c$) is then given by $\\{2,4,8,10,14,15,16,18,20\\}$.\n",
    " "
   ]
  },
  {
   "cell_type": "markdown",
   "metadata": {
    "ExecuteTime": {
     "end_time": "2020-01-07T21:54:38.651591Z",
     "start_time": "2020-01-07T21:54:38.645607Z"
    }
   },
   "source": [
    "### Note on Important Number Sets & Their Notation\n",
    "\n",
    "- If you define that the event \"low daily number of text messages sent\" means 20 or fewer text messages, the event space is defined as: $E = \\{x \\mid x \\in \\mathbb{Z}, 0 \\leq x \\leq 20 \\}$\n",
    "- Binge-watch day:  $E = \\{x \\mid x \\in \\mathbb{R}, x \\geq 6 \\}$\n",
    "\n",
    "| SYMBOL | MEANING |\n",
    "| --- | --- |\n",
    "|$\\emptyset$ or $\\{\\}$ | empty set \n",
    "|$ \\mathbb{N}$ | natural numbers |\n",
    "|$\\mathbb{Z}$ | integers (from Zahl, German for number). |\n",
    "|$ \\mathbb{Q}$ | rational numbers (from quotient) |\n",
    "|$\\mathbb{R}$  | real numbers |\n",
    "|$ \\mathbb{C}$ | complex numbers |"
   ]
  },
  {
   "cell_type": "markdown",
   "metadata": {
    "colab_type": "text",
    "id": "c9rKTCYMebwR"
   },
   "source": [
    "### Inclusion Exclusion principle"
   ]
  },
  {
   "cell_type": "markdown",
   "metadata": {
    "colab_type": "text",
    "id": "c9rKTCYMebwR"
   },
   "source": [
    "- Used to calculate the number of elements of each set and the union of all sets.\n",
    "\n",
    "- Note $|S|$ denotes the *cardinality* of S aka the number of element in S\n",
    "\n",
    "<img src=\"https://raw.githubusercontent.com/jirvingphd/dsc-intro-to-sets-online-ds-ft-100719/master/images/new_venn_diagram.png\" width=400>\n",
    "\n",
    "\n",
    "- When combining  2 sets, the method for obtaining the union of two finite sets is given by:\n",
    "\n",
    "    - $\\mid S \\cup T \\mid = \\mid S \\mid + \\mid T \\mid - \\mid S \\cap T \\mid $\n",
    "    \n",
    "        - Horizontal lines denote the *cardinality* of a set, which is the number of elements, considering a finite set. \n",
    "- When combining 3 sets:\n",
    "\n",
    "$\\mid S \\cup T\\cup R \\mid = \\mid S \\mid + \\mid T \\mid + \\mid R \\mid - \\mid S \\cap T \\mid  -\\mid S \\cap R \\mid - \\mid R \\cap T \\mid  + \\mid S \\cap T \\cap R \\mid $\n",
    "        \n",
    "        \n",
    "- *The formula expresses the fact that the sum of the sizes of the two sets may be too large since some elements may be counted twice. For the double-counted elements, one is substracted again.*\n",
    "\n",
    "### Empty \n",
    " - An **empty** set has no elements\n",
    " - denoted by $\\emptyset$ or simply $\\{\\}$\n",
    " \n",
    " "
   ]
  },
  {
   "cell_type": "markdown",
   "metadata": {},
   "source": [
    "### SET OPERATIONS IN PYTHON\n"
   ]
  },
  {
   "cell_type": "markdown",
   "metadata": {
    "colab_type": "text",
    "id": "c9rKTCYMebwR"
   },
   "source": [
    " \n",
    "\n",
    "| Method        |\tEquivalent |\tResult |\n",
    "| ------                    | ------       | ------    |\n",
    "| s.issubset(t)             |\ts <= t     | test whether every element in s is in t\n",
    "| s.issuperset(t)           |\ts >= t     | test whether every element in t is in s\n",
    "| s.union(t)                |\ts $\\mid$ t | new set with elements from both s and t\n",
    "| s.intersection(t)         |\ts & t      | new set with elements common to s and t\n",
    "| s.difference(t)           |\ts - t \t   | new set with elements in s but not in t\n",
    "| s.symmetric_difference(t) |\ts ^ t      | new set with elements in either s or t but not both"
   ]
  },
  {
   "cell_type": "markdown",
   "metadata": {},
   "source": [
    "## Probability\n"
   ]
  },
  {
   "cell_type": "markdown",
   "metadata": {},
   "source": [
    "### What is probability?"
   ]
  },
  {
   "cell_type": "markdown",
   "metadata": {
    "colab_type": "text",
    "id": "hHKVcR-FYNqf"
   },
   "source": [
    "> **Probability is the likelihood of a specific outcome/event occuring out of all possible outcomes, expressed as a fraction between 0 and 1.**\n",
    "<!---\n",
    "Example Probability Qs:\n",
    "- How likely is it to end up with heads when flipping a coin once? (the answer here is 50% - not very surprising)\n",
    "\n",
    "- How likely is it to end up with exactly 2 x heads and 3 x tails when flipping a coin 5 times?\n",
    "\n",
    "- How likely is it to throw tails first, then heads, then tails, then heads, then tails when flipping a coin 5 times?\n",
    "\n",
    "- If you throw 5 dice, what is the probability of throwing a [\"full house\"](http://grail.sourceforge.net/demo/yahtzee/rules.html)?\n",
    "\n",
    "- What is the probability of drawing 2 consecutive aces from a standard deck of cards?\n",
    "\n",
    "> But how do we calculate it? ..._to be continued_...\n",
    "\n",
    "--->"
   ]
  },
  {
   "cell_type": "markdown",
   "metadata": {
    "colab_type": "text",
    "id": "5yI4j_L6XcBp"
   },
   "source": [
    "### Sample Space & Event Space"
   ]
  },
  {
   "cell_type": "markdown",
   "metadata": {
    "colab_type": "text",
    "id": "5yI4j_L6XcBp"
   },
   "source": [
    "##### Sample space:"
   ]
  },
  {
   "cell_type": "markdown",
   "metadata": {
    "colab_type": "text",
    "id": "5yI4j_L6XcBp"
   },
   "source": [
    "$$S = \\{ 1,2,3,4,5,6\\}$$ \n",
    "being the possible outcomes when throwing a dice.\n",
    "- Sample space =  $\\Omega$ "
   ]
  },
  {
   "cell_type": "markdown",
   "metadata": {
    "colab_type": "text",
    "id": "5yI4j_L6XcBp"
   },
   "source": [
    "##### Event space:"
   ]
  },
  {
   "cell_type": "markdown",
   "metadata": {
    "colab_type": "text",
    "id": "5yI4j_L6XcBp"
   },
   "source": [
    "-   The **event space** is a subset of the sample space. It is the **desired outcome** of the experiment.\n",
    "$$E \\subseteq S$$\n",
    "-   Example:\n",
    "    -   Throwing an odd number would lead to an event space $$E = \\{ 1,3,5\\}$$."
   ]
  },
  {
   "cell_type": "markdown",
   "metadata": {},
   "source": [
    "### Probability of an Event"
   ]
  },
  {
   "cell_type": "markdown",
   "metadata": {},
   "source": [
    "$$ P(E) = \\frac{|E|}{|S|} $$\n",
    "probability is the number of possible preferred outcomes over the sample space / all outcomes"
   ]
  },
  {
   "cell_type": "markdown",
   "metadata": {
    "colab_type": "text",
    "id": "5yI4j_L6XcBp"
   },
   "source": [
    "### Law of relative frequency"
   ]
  },
  {
   "cell_type": "markdown",
   "metadata": {
    "colab_type": "text",
    "id": "5yI4j_L6XcBp"
   },
   "source": [
    "- Limit of large infinite outcomes produce fixed numbers .\n",
    "$$ \\large P(E) = \\lim_{n\\to\\infty}\\frac{S(n)}{n}$$\n",
    "    - Probability of Event E having Successful(S) outcomes for $n$ trials\n",
    "    "
   ]
  },
  {
   "cell_type": "markdown",
   "metadata": {
    "colab_type": "text",
    "id": "5yI4j_L6XcBp"
   },
   "source": [
    "### Probability axioms"
   ]
  },
  {
   "cell_type": "markdown",
   "metadata": {
    "colab_type": "text",
    "id": "5yI4j_L6XcBp"
   },
   "source": [
    "1.  Positivity : \n",
    "\n",
    "    - Prob is always $0 <= P(E) <=1$\n",
    "\n",
    "\n",
    "2.  Probability of a certain/guaranteed event:\n",
    "\n",
    "    - $P(S)=1$\n",
    "\n",
    "\n",
    "3.  Additivity Union of 2 exclusive sets = sum prob of individual events happening\n",
    "    \n",
    "    - If $A\\cap B = \\emptyset $, then $P(A\\cup B) = P(A) + P(B)$"
   ]
  },
  {
   "cell_type": "markdown",
   "metadata": {
    "colab_type": "text",
    "id": "5yI4j_L6XcBp"
   },
   "source": [
    "### Addition law of probability "
   ]
  },
  {
   "cell_type": "markdown",
   "metadata": {
    "colab_type": "text",
    "id": "5yI4j_L6XcBp"
   },
   "source": [
    "-   Prob of union of A and B is individual P minus intersection\n",
    "\n",
    "$$ \\large P(A\\cup B) = P(A) + P(B) - P(A \\cap B)$$"
   ]
  },
  {
   "cell_type": "markdown",
   "metadata": {},
   "source": [
    "## Permutations"
   ]
  },
  {
   "cell_type": "markdown",
   "metadata": {},
   "source": [
    "- **Permutations have to do with arranging objects.(Order is important)**\n",
    "\n",
    "> ***How many ways to arrange n elements?***\n",
    "    $$\\large P(n) = n!$$"
   ]
  },
  {
   "cell_type": "markdown",
   "metadata": {},
   "source": [
    "### Factorials\n"
   ]
  },
  {
   "cell_type": "markdown",
   "metadata": {},
   "source": [
    "The factorial of $n$ is calculated by multiplying every number below $n$ together.\n",
    "\n",
    "$$n! = n  \\times (n-1) \\times (n-2)\\times...\\times1$$\n",
    "\n",
    "\n",
    "\n",
    "**Factorial Rules/Operations:**\n",
    "- Negative numbers do not have a factorial.\n",
    "- $0! = 1$\n",
    "- $n! = (n-1)! \\cdot n$\n",
    "- $(n+1)! = n! \\cdot (n+1)$ \n",
    "\n",
    "- $ (n+k)! = n! \\cdot (n+1) \\cdot (n+2) \\cdot... (n+k) $\n",
    "\n",
    "- $ (n-k)! = \\frac{n!}{(n-k+1)\\cdot(n-k+2) \\cdot ... (n-k+k) }$\n",
    "- When $n>k$:\n",
    "    - $\\frac{n!}{k!} = (k+1)\\cdot(k+2)\\cdot...n $"
   ]
  },
  {
   "cell_type": "markdown",
   "metadata": {
    "colab_type": "text",
    "id": "KBImNzwvXb_v"
   },
   "source": [
    "### Permutations of a subset / AKA Permutations without replacement"
   ]
  },
  {
   "cell_type": "markdown",
   "metadata": {
    "colab_type": "text",
    "id": "KBImNzwvXb_v"
   },
   "source": [
    "> ***How many ways to select $k$ elements out of a pool of $n$ objects?***\n",
    "\n",
    "$$ \\large P_{k}^{n}= \\dfrac{n!}{(n-k)!}$$ \n",
    "\n",
    "this is known as the **$k$-permutation of $n$**"
   ]
  },
  {
   "cell_type": "markdown",
   "metadata": {
    "colab_type": "text",
    "id": "KBImNzwvXb_v"
   },
   "source": [
    "### Permutations with replacement "
   ]
  },
  {
   "cell_type": "markdown",
   "metadata": {
    "colab_type": "text",
    "id": "KBImNzwvXb_v"
   },
   "source": [
    "$$ \\large {P}_{j}^{n} = n^j $$\n",
    "- where $n$ = total number of elements\n",
    "- $j$ = number of positions to fill   "
   ]
  },
  {
   "cell_type": "markdown",
   "metadata": {
    "colab_type": "text",
    "id": "KBImNzwvXb_v"
   },
   "source": [
    "### Permutations with repetition"
   ]
  },
  {
   "cell_type": "markdown",
   "metadata": {
    "colab_type": "text",
    "id": "KBImNzwvXb_v"
   },
   "source": [
    "- Permutation where there are some elements that may appear multiple times. \n",
    "    - i.e. looking at the word TENNESSEE by itself, you can swap the 3rd and the 4th letter and have the same word. So the total number is less than $9!$.\n",
    "    \n",
    "    - The solution is to divide $9!$ by the factorials for each letter that is repeated!\n",
    "    - The answer here is then (9 letters, 4 x E, 2 x N, 2 x S)\n",
    "\n",
    "    - $\\dfrac{9!}{4!2!2!} = 3780$\n",
    "\n",
    "The general formula can be written as:\n",
    "\n",
    "$$\\dfrac{n!}{n_1!n_2!\\ldots n_j!}$$\n",
    "\n",
    "where $n_j$ stands for identical objects of type $j$ (the distinct letters in our TENNESSEE example). "
   ]
  },
  {
   "cell_type": "markdown",
   "metadata": {
    "colab_type": "text",
    "id": "opLA_RcuXb9h"
   },
   "source": [
    "## Combinations"
   ]
  },
  {
   "cell_type": "markdown",
   "metadata": {
    "colab_type": "text",
    "id": "opLA_RcuXb9h"
   },
   "source": [
    "- How many ways can we create a subset $k$ out of $n$ objects, when order is not important? \n",
    "\n",
    "\n",
    "$$\\large C_{k}^{n} = \\displaystyle\\binom{n}{k} = \\dfrac{P_{k}^{n}}{k!}=\\dfrac{ \\dfrac{n!}{(n-k)!}}{k!} = \\dfrac{n!}{(n-k)!k!}$$"
   ]
  },
  {
   "cell_type": "markdown",
   "metadata": {
    "ExecuteTime": {
     "end_time": "2020-01-06T22:53:10.213591Z",
     "start_time": "2020-01-06T22:53:10.211467Z"
    }
   },
   "source": [
    "## 📖 Activity: Planning Party Playlists"
   ]
  },
  {
   "cell_type": "markdown",
   "metadata": {
    "ExecuteTime": {
     "end_time": "2020-01-06T22:53:10.213591Z",
     "start_time": "2020-01-06T22:53:10.211467Z"
    }
   },
   "source": [
    "### Activity Pt 1: Playlist Probabilities"
   ]
  },
  {
   "cell_type": "markdown",
   "metadata": {},
   "source": [
    "- **We are constructing a dinner party playlist for a gathering we are planning.** \n",
    "    - We asked our attendees to each provide a handful of songs they would like to be played at the dinner party.\n",
    "    - Their suggestions are saved in csvs located in the `probability_playlists/` folder\n",
    "\n",
    "- **We want the sound-scape of our dinner party to express the tastes of every single attendee, so we will allow for duplicate/repeated songs if multiple people recommended it.**"
   ]
  },
  {
   "cell_type": "code",
   "execution_count": 1,
   "metadata": {
    "ExecuteTime": {
     "end_time": "2020-06-15T00:57:19.401819Z",
     "start_time": "2020-06-15T00:57:15.924057Z"
    },
    "colab": {},
    "colab_type": "code",
    "id": "HhbtNsyeXQIm",
    "scrolled": true
   },
   "outputs": [
    {
     "name": "stdout",
     "output_type": "stream",
     "text": [
      "fsds v0.2.13 loaded.  Read the docs: https://fs-ds.readthedocs.io/en/latest/ \n"
     ]
    },
    {
     "data": {
      "text/html": [
       "<style  type=\"text/css\" >\n",
       "</style><table id=\"T_29e2e7b4_aea3_11ea_8cba_4865ee12e626\" ><caption>Loaded Packages and Handles</caption><thead>    <tr>        <th class=\"col_heading level0 col0\" >Handle</th>        <th class=\"col_heading level0 col1\" >Package</th>        <th class=\"col_heading level0 col2\" >Description</th>    </tr></thead><tbody>\n",
       "                <tr>\n",
       "                                <td id=\"T_29e2e7b4_aea3_11ea_8cba_4865ee12e626row0_col0\" class=\"data row0 col0\" >dp</td>\n",
       "                        <td id=\"T_29e2e7b4_aea3_11ea_8cba_4865ee12e626row0_col1\" class=\"data row0 col1\" >IPython.display</td>\n",
       "                        <td id=\"T_29e2e7b4_aea3_11ea_8cba_4865ee12e626row0_col2\" class=\"data row0 col2\" >Display modules with helpful display and clearing commands.</td>\n",
       "            </tr>\n",
       "            <tr>\n",
       "                                <td id=\"T_29e2e7b4_aea3_11ea_8cba_4865ee12e626row1_col0\" class=\"data row1 col0\" >fs</td>\n",
       "                        <td id=\"T_29e2e7b4_aea3_11ea_8cba_4865ee12e626row1_col1\" class=\"data row1 col1\" >fsds</td>\n",
       "                        <td id=\"T_29e2e7b4_aea3_11ea_8cba_4865ee12e626row1_col2\" class=\"data row1 col2\" >Custom data science bootcamp student package</td>\n",
       "            </tr>\n",
       "            <tr>\n",
       "                                <td id=\"T_29e2e7b4_aea3_11ea_8cba_4865ee12e626row2_col0\" class=\"data row2 col0\" >mpl</td>\n",
       "                        <td id=\"T_29e2e7b4_aea3_11ea_8cba_4865ee12e626row2_col1\" class=\"data row2 col1\" >matplotlib</td>\n",
       "                        <td id=\"T_29e2e7b4_aea3_11ea_8cba_4865ee12e626row2_col2\" class=\"data row2 col2\" >Matplotlib's base OOP module with formatting artists</td>\n",
       "            </tr>\n",
       "            <tr>\n",
       "                                <td id=\"T_29e2e7b4_aea3_11ea_8cba_4865ee12e626row3_col0\" class=\"data row3 col0\" >plt</td>\n",
       "                        <td id=\"T_29e2e7b4_aea3_11ea_8cba_4865ee12e626row3_col1\" class=\"data row3 col1\" >matplotlib.pyplot</td>\n",
       "                        <td id=\"T_29e2e7b4_aea3_11ea_8cba_4865ee12e626row3_col2\" class=\"data row3 col2\" >Matplotlib's matlab-like plotting module</td>\n",
       "            </tr>\n",
       "            <tr>\n",
       "                                <td id=\"T_29e2e7b4_aea3_11ea_8cba_4865ee12e626row4_col0\" class=\"data row4 col0\" >np</td>\n",
       "                        <td id=\"T_29e2e7b4_aea3_11ea_8cba_4865ee12e626row4_col1\" class=\"data row4 col1\" >numpy</td>\n",
       "                        <td id=\"T_29e2e7b4_aea3_11ea_8cba_4865ee12e626row4_col2\" class=\"data row4 col2\" >scientific computing with Python</td>\n",
       "            </tr>\n",
       "            <tr>\n",
       "                                <td id=\"T_29e2e7b4_aea3_11ea_8cba_4865ee12e626row5_col0\" class=\"data row5 col0\" >pd</td>\n",
       "                        <td id=\"T_29e2e7b4_aea3_11ea_8cba_4865ee12e626row5_col1\" class=\"data row5 col1\" >pandas</td>\n",
       "                        <td id=\"T_29e2e7b4_aea3_11ea_8cba_4865ee12e626row5_col2\" class=\"data row5 col2\" >High performance data structures and tools</td>\n",
       "            </tr>\n",
       "            <tr>\n",
       "                                <td id=\"T_29e2e7b4_aea3_11ea_8cba_4865ee12e626row6_col0\" class=\"data row6 col0\" >sns</td>\n",
       "                        <td id=\"T_29e2e7b4_aea3_11ea_8cba_4865ee12e626row6_col1\" class=\"data row6 col1\" >seaborn</td>\n",
       "                        <td id=\"T_29e2e7b4_aea3_11ea_8cba_4865ee12e626row6_col2\" class=\"data row6 col2\" >High-level data visualization library based on matplotlib</td>\n",
       "            </tr>\n",
       "    </tbody></table>"
      ],
      "text/plain": [
       "<pandas.io.formats.style.Styler at 0x1a1ea40b70>"
      ]
     },
     "metadata": {},
     "output_type": "display_data"
    }
   ],
   "source": [
    "!pip install -U fsds\n",
    "\n",
    "from fsds.imports import *\n",
    "from math import factorial"
   ]
  },
  {
   "cell_type": "code",
   "execution_count": 6,
   "metadata": {
    "ExecuteTime": {
     "end_time": "2020-06-15T00:57:48.651255Z",
     "start_time": "2020-06-15T00:57:48.637147Z"
    }
   },
   "outputs": [
    {
     "data": {
      "text/plain": [
       "dict_keys(['joe', 'james', 'anne', 'john', 'samantha'])"
      ]
     },
     "execution_count": 6,
     "metadata": {},
     "output_type": "execute_result"
    }
   ],
   "source": [
    "import os,glob\n",
    "datafolder = \"../probability_playlists/\" ## student filepath\n",
    "rec_files = glob.glob(datafolder+\"*.csv\")\n",
    "\n",
    "playlists = {}\n",
    "for file in rec_files:\n",
    "    key = os.path.basename(file).replace('_recs.csv','')\n",
    "    playlists[key] = pd.read_csv(file)\n",
    "playlists.keys()"
   ]
  },
  {
   "cell_type": "code",
   "execution_count": 7,
   "metadata": {
    "ExecuteTime": {
     "end_time": "2020-06-15T00:57:48.665627Z",
     "start_time": "2020-06-15T00:57:48.652785Z"
    }
   },
   "outputs": [
    {
     "data": {
      "text/html": [
       "<style  type=\"text/css\" >\n",
       "</style><table id=\"T_3b54dd7a_aea3_11ea_90f3_4865ee12e626\" ><caption>joe</caption><thead>    <tr>        <th class=\"blank level0\" ></th>        <th class=\"col_heading level0 col0\" >artist</th>        <th class=\"col_heading level0 col1\" >track</th>        <th class=\"col_heading level0 col2\" >Recommended By</th>    </tr></thead><tbody>\n",
       "                <tr>\n",
       "                        <th id=\"T_3b54dd7a_aea3_11ea_90f3_4865ee12e626level0_row0\" class=\"row_heading level0 row0\" >0</th>\n",
       "                        <td id=\"T_3b54dd7a_aea3_11ea_90f3_4865ee12e626row0_col0\" class=\"data row0 col0\" >Green Day</td>\n",
       "                        <td id=\"T_3b54dd7a_aea3_11ea_90f3_4865ee12e626row0_col1\" class=\"data row0 col1\" >Time of your Life</td>\n",
       "                        <td id=\"T_3b54dd7a_aea3_11ea_90f3_4865ee12e626row0_col2\" class=\"data row0 col2\" >Joe</td>\n",
       "            </tr>\n",
       "            <tr>\n",
       "                        <th id=\"T_3b54dd7a_aea3_11ea_90f3_4865ee12e626level0_row1\" class=\"row_heading level0 row1\" >1</th>\n",
       "                        <td id=\"T_3b54dd7a_aea3_11ea_90f3_4865ee12e626row1_col0\" class=\"data row1 col0\" >B-52s</td>\n",
       "                        <td id=\"T_3b54dd7a_aea3_11ea_90f3_4865ee12e626row1_col1\" class=\"data row1 col1\" >Rock Lobster</td>\n",
       "                        <td id=\"T_3b54dd7a_aea3_11ea_90f3_4865ee12e626row1_col2\" class=\"data row1 col2\" >Joe</td>\n",
       "            </tr>\n",
       "            <tr>\n",
       "                        <th id=\"T_3b54dd7a_aea3_11ea_90f3_4865ee12e626level0_row2\" class=\"row_heading level0 row2\" >2</th>\n",
       "                        <td id=\"T_3b54dd7a_aea3_11ea_90f3_4865ee12e626row2_col0\" class=\"data row2 col0\" >Lady GaGa</td>\n",
       "                        <td id=\"T_3b54dd7a_aea3_11ea_90f3_4865ee12e626row2_col1\" class=\"data row2 col1\" >Poker Face</td>\n",
       "                        <td id=\"T_3b54dd7a_aea3_11ea_90f3_4865ee12e626row2_col2\" class=\"data row2 col2\" >Joe</td>\n",
       "            </tr>\n",
       "            <tr>\n",
       "                        <th id=\"T_3b54dd7a_aea3_11ea_90f3_4865ee12e626level0_row3\" class=\"row_heading level0 row3\" >3</th>\n",
       "                        <td id=\"T_3b54dd7a_aea3_11ea_90f3_4865ee12e626row3_col0\" class=\"data row3 col0\" >John Lennon</td>\n",
       "                        <td id=\"T_3b54dd7a_aea3_11ea_90f3_4865ee12e626row3_col1\" class=\"data row3 col1\" >Imagine</td>\n",
       "                        <td id=\"T_3b54dd7a_aea3_11ea_90f3_4865ee12e626row3_col2\" class=\"data row3 col2\" >Joe</td>\n",
       "            </tr>\n",
       "    </tbody></table>"
      ],
      "text/plain": [
       "<pandas.io.formats.style.Styler at 0x1a1f2b2cc0>"
      ]
     },
     "metadata": {},
     "output_type": "display_data"
    },
    {
     "data": {
      "text/html": [
       "<style  type=\"text/css\" >\n",
       "</style><table id=\"T_3b553998_aea3_11ea_b21e_4865ee12e626\" ><caption>james</caption><thead>    <tr>        <th class=\"blank level0\" ></th>        <th class=\"col_heading level0 col0\" >artist</th>        <th class=\"col_heading level0 col1\" >track</th>        <th class=\"col_heading level0 col2\" >Recommended By</th>    </tr></thead><tbody>\n",
       "                <tr>\n",
       "                        <th id=\"T_3b553998_aea3_11ea_b21e_4865ee12e626level0_row0\" class=\"row_heading level0 row0\" >0</th>\n",
       "                        <td id=\"T_3b553998_aea3_11ea_b21e_4865ee12e626row0_col0\" class=\"data row0 col0\" >Eve 6</td>\n",
       "                        <td id=\"T_3b553998_aea3_11ea_b21e_4865ee12e626row0_col1\" class=\"data row0 col1\" >Here's to the Night</td>\n",
       "                        <td id=\"T_3b553998_aea3_11ea_b21e_4865ee12e626row0_col2\" class=\"data row0 col2\" >James</td>\n",
       "            </tr>\n",
       "            <tr>\n",
       "                        <th id=\"T_3b553998_aea3_11ea_b21e_4865ee12e626level0_row1\" class=\"row_heading level0 row1\" >1</th>\n",
       "                        <td id=\"T_3b553998_aea3_11ea_b21e_4865ee12e626row1_col0\" class=\"data row1 col0\" >Neutral Milk Hotel</td>\n",
       "                        <td id=\"T_3b553998_aea3_11ea_b21e_4865ee12e626row1_col1\" class=\"data row1 col1\" >Into the Aeroplane Over the Sea</td>\n",
       "                        <td id=\"T_3b553998_aea3_11ea_b21e_4865ee12e626row1_col2\" class=\"data row1 col2\" >James</td>\n",
       "            </tr>\n",
       "            <tr>\n",
       "                        <th id=\"T_3b553998_aea3_11ea_b21e_4865ee12e626level0_row2\" class=\"row_heading level0 row2\" >2</th>\n",
       "                        <td id=\"T_3b553998_aea3_11ea_b21e_4865ee12e626row2_col0\" class=\"data row2 col0\" >Rilo Kiley</td>\n",
       "                        <td id=\"T_3b553998_aea3_11ea_b21e_4865ee12e626row2_col1\" class=\"data row2 col1\" >With Arms Outstretched</td>\n",
       "                        <td id=\"T_3b553998_aea3_11ea_b21e_4865ee12e626row2_col2\" class=\"data row2 col2\" >James</td>\n",
       "            </tr>\n",
       "            <tr>\n",
       "                        <th id=\"T_3b553998_aea3_11ea_b21e_4865ee12e626level0_row3\" class=\"row_heading level0 row3\" >3</th>\n",
       "                        <td id=\"T_3b553998_aea3_11ea_b21e_4865ee12e626row3_col0\" class=\"data row3 col0\" >Red Hot Chili Peppers</td>\n",
       "                        <td id=\"T_3b553998_aea3_11ea_b21e_4865ee12e626row3_col1\" class=\"data row3 col1\" >Otherside</td>\n",
       "                        <td id=\"T_3b553998_aea3_11ea_b21e_4865ee12e626row3_col2\" class=\"data row3 col2\" >James</td>\n",
       "            </tr>\n",
       "    </tbody></table>"
      ],
      "text/plain": [
       "<pandas.io.formats.style.Styler at 0x1a1f215e80>"
      ]
     },
     "metadata": {},
     "output_type": "display_data"
    },
    {
     "data": {
      "text/html": [
       "<style  type=\"text/css\" >\n",
       "</style><table id=\"T_3b5590c8_aea3_11ea_bc99_4865ee12e626\" ><caption>anne</caption><thead>    <tr>        <th class=\"blank level0\" ></th>        <th class=\"col_heading level0 col0\" >artist</th>        <th class=\"col_heading level0 col1\" >track</th>        <th class=\"col_heading level0 col2\" >Recommended By</th>    </tr></thead><tbody>\n",
       "                <tr>\n",
       "                        <th id=\"T_3b5590c8_aea3_11ea_bc99_4865ee12e626level0_row0\" class=\"row_heading level0 row0\" >0</th>\n",
       "                        <td id=\"T_3b5590c8_aea3_11ea_bc99_4865ee12e626row0_col0\" class=\"data row0 col0\" >Smashing Pumpkins</td>\n",
       "                        <td id=\"T_3b5590c8_aea3_11ea_bc99_4865ee12e626row0_col1\" class=\"data row0 col1\" >Tonight, Tonight</td>\n",
       "                        <td id=\"T_3b5590c8_aea3_11ea_bc99_4865ee12e626row0_col2\" class=\"data row0 col2\" >Anne</td>\n",
       "            </tr>\n",
       "            <tr>\n",
       "                        <th id=\"T_3b5590c8_aea3_11ea_bc99_4865ee12e626level0_row1\" class=\"row_heading level0 row1\" >1</th>\n",
       "                        <td id=\"T_3b5590c8_aea3_11ea_bc99_4865ee12e626row1_col0\" class=\"data row1 col0\" >Black Eyed Peas</td>\n",
       "                        <td id=\"T_3b5590c8_aea3_11ea_bc99_4865ee12e626row1_col1\" class=\"data row1 col1\" >Let's Get it Started</td>\n",
       "                        <td id=\"T_3b5590c8_aea3_11ea_bc99_4865ee12e626row1_col2\" class=\"data row1 col2\" >Anne</td>\n",
       "            </tr>\n",
       "            <tr>\n",
       "                        <th id=\"T_3b5590c8_aea3_11ea_bc99_4865ee12e626level0_row2\" class=\"row_heading level0 row2\" >2</th>\n",
       "                        <td id=\"T_3b5590c8_aea3_11ea_bc99_4865ee12e626row2_col0\" class=\"data row2 col0\" >Green Day</td>\n",
       "                        <td id=\"T_3b5590c8_aea3_11ea_bc99_4865ee12e626row2_col1\" class=\"data row2 col1\" >Time of your Life</td>\n",
       "                        <td id=\"T_3b5590c8_aea3_11ea_bc99_4865ee12e626row2_col2\" class=\"data row2 col2\" >Anne</td>\n",
       "            </tr>\n",
       "    </tbody></table>"
      ],
      "text/plain": [
       "<pandas.io.formats.style.Styler at 0x1a1f215da0>"
      ]
     },
     "metadata": {},
     "output_type": "display_data"
    },
    {
     "data": {
      "text/html": [
       "<style  type=\"text/css\" >\n",
       "</style><table id=\"T_3b55dbdc_aea3_11ea_9e5c_4865ee12e626\" ><caption>john</caption><thead>    <tr>        <th class=\"blank level0\" ></th>        <th class=\"col_heading level0 col0\" >artist</th>        <th class=\"col_heading level0 col1\" >track</th>        <th class=\"col_heading level0 col2\" >Recommended By</th>    </tr></thead><tbody>\n",
       "                <tr>\n",
       "                        <th id=\"T_3b55dbdc_aea3_11ea_9e5c_4865ee12e626level0_row0\" class=\"row_heading level0 row0\" >0</th>\n",
       "                        <td id=\"T_3b55dbdc_aea3_11ea_9e5c_4865ee12e626row0_col0\" class=\"data row0 col0\" >Black Eyed Peas</td>\n",
       "                        <td id=\"T_3b55dbdc_aea3_11ea_9e5c_4865ee12e626row0_col1\" class=\"data row0 col1\" >Let's Get it Started</td>\n",
       "                        <td id=\"T_3b55dbdc_aea3_11ea_9e5c_4865ee12e626row0_col2\" class=\"data row0 col2\" >John</td>\n",
       "            </tr>\n",
       "            <tr>\n",
       "                        <th id=\"T_3b55dbdc_aea3_11ea_9e5c_4865ee12e626level0_row1\" class=\"row_heading level0 row1\" >1</th>\n",
       "                        <td id=\"T_3b55dbdc_aea3_11ea_9e5c_4865ee12e626row1_col0\" class=\"data row1 col0\" >Lady GaGa</td>\n",
       "                        <td id=\"T_3b55dbdc_aea3_11ea_9e5c_4865ee12e626row1_col1\" class=\"data row1 col1\" >Poker Face</td>\n",
       "                        <td id=\"T_3b55dbdc_aea3_11ea_9e5c_4865ee12e626row1_col2\" class=\"data row1 col2\" >John</td>\n",
       "            </tr>\n",
       "            <tr>\n",
       "                        <th id=\"T_3b55dbdc_aea3_11ea_9e5c_4865ee12e626level0_row2\" class=\"row_heading level0 row2\" >2</th>\n",
       "                        <td id=\"T_3b55dbdc_aea3_11ea_9e5c_4865ee12e626row2_col0\" class=\"data row2 col0\" >Lady GaGa</td>\n",
       "                        <td id=\"T_3b55dbdc_aea3_11ea_9e5c_4865ee12e626row2_col1\" class=\"data row2 col1\" >Bad Romance</td>\n",
       "                        <td id=\"T_3b55dbdc_aea3_11ea_9e5c_4865ee12e626row2_col2\" class=\"data row2 col2\" >John</td>\n",
       "            </tr>\n",
       "            <tr>\n",
       "                        <th id=\"T_3b55dbdc_aea3_11ea_9e5c_4865ee12e626level0_row3\" class=\"row_heading level0 row3\" >3</th>\n",
       "                        <td id=\"T_3b55dbdc_aea3_11ea_9e5c_4865ee12e626row3_col0\" class=\"data row3 col0\" >Lady GaGa</td>\n",
       "                        <td id=\"T_3b55dbdc_aea3_11ea_9e5c_4865ee12e626row3_col1\" class=\"data row3 col1\" >Just Dance</td>\n",
       "                        <td id=\"T_3b55dbdc_aea3_11ea_9e5c_4865ee12e626row3_col2\" class=\"data row3 col2\" >John</td>\n",
       "            </tr>\n",
       "    </tbody></table>"
      ],
      "text/plain": [
       "<pandas.io.formats.style.Styler at 0x1a1f215f60>"
      ]
     },
     "metadata": {},
     "output_type": "display_data"
    },
    {
     "data": {
      "text/html": [
       "<style  type=\"text/css\" >\n",
       "</style><table id=\"T_3b56309e_aea3_11ea_840d_4865ee12e626\" ><caption>samantha</caption><thead>    <tr>        <th class=\"blank level0\" ></th>        <th class=\"col_heading level0 col0\" >artist</th>        <th class=\"col_heading level0 col1\" >track</th>        <th class=\"col_heading level0 col2\" >Recommended By</th>    </tr></thead><tbody>\n",
       "                <tr>\n",
       "                        <th id=\"T_3b56309e_aea3_11ea_840d_4865ee12e626level0_row0\" class=\"row_heading level0 row0\" >0</th>\n",
       "                        <td id=\"T_3b56309e_aea3_11ea_840d_4865ee12e626row0_col0\" class=\"data row0 col0\" >Black Eyed Peas</td>\n",
       "                        <td id=\"T_3b56309e_aea3_11ea_840d_4865ee12e626row0_col1\" class=\"data row0 col1\" >Let's Get it Started</td>\n",
       "                        <td id=\"T_3b56309e_aea3_11ea_840d_4865ee12e626row0_col2\" class=\"data row0 col2\" >Samantha</td>\n",
       "            </tr>\n",
       "            <tr>\n",
       "                        <th id=\"T_3b56309e_aea3_11ea_840d_4865ee12e626level0_row1\" class=\"row_heading level0 row1\" >1</th>\n",
       "                        <td id=\"T_3b56309e_aea3_11ea_840d_4865ee12e626row1_col0\" class=\"data row1 col0\" >Panic at the Disco</td>\n",
       "                        <td id=\"T_3b56309e_aea3_11ea_840d_4865ee12e626row1_col1\" class=\"data row1 col1\" >Hallelujah</td>\n",
       "                        <td id=\"T_3b56309e_aea3_11ea_840d_4865ee12e626row1_col2\" class=\"data row1 col2\" >Samantha</td>\n",
       "            </tr>\n",
       "            <tr>\n",
       "                        <th id=\"T_3b56309e_aea3_11ea_840d_4865ee12e626level0_row2\" class=\"row_heading level0 row2\" >2</th>\n",
       "                        <td id=\"T_3b56309e_aea3_11ea_840d_4865ee12e626row2_col0\" class=\"data row2 col0\" >Adele</td>\n",
       "                        <td id=\"T_3b56309e_aea3_11ea_840d_4865ee12e626row2_col1\" class=\"data row2 col1\" >Set Fire to the Rain</td>\n",
       "                        <td id=\"T_3b56309e_aea3_11ea_840d_4865ee12e626row2_col2\" class=\"data row2 col2\" >Samantha</td>\n",
       "            </tr>\n",
       "    </tbody></table>"
      ],
      "text/plain": [
       "<pandas.io.formats.style.Styler at 0x1a1f3267f0>"
      ]
     },
     "metadata": {},
     "output_type": "display_data"
    }
   ],
   "source": [
    "for name,playlist in playlists.items():\n",
    "    display(playlist.style.set_caption(name))"
   ]
  },
  {
   "cell_type": "markdown",
   "metadata": {},
   "source": [
    "> For now, lets assume we take everyone's recommendations and add them all to our play list, even if the same song has been recommended by someone else. "
   ]
  },
  {
   "cell_type": "code",
   "execution_count": 8,
   "metadata": {
    "ExecuteTime": {
     "end_time": "2020-06-15T00:57:48.682699Z",
     "start_time": "2020-06-15T00:57:48.667410Z"
    },
    "scrolled": false
   },
   "outputs": [
    {
     "data": {
      "text/html": [
       "<div>\n",
       "<style scoped>\n",
       "    .dataframe tbody tr th:only-of-type {\n",
       "        vertical-align: middle;\n",
       "    }\n",
       "\n",
       "    .dataframe tbody tr th {\n",
       "        vertical-align: top;\n",
       "    }\n",
       "\n",
       "    .dataframe thead th {\n",
       "        text-align: right;\n",
       "    }\n",
       "</style>\n",
       "<table border=\"1\" class=\"dataframe\">\n",
       "  <thead>\n",
       "    <tr style=\"text-align: right;\">\n",
       "      <th></th>\n",
       "      <th>artist</th>\n",
       "      <th>track</th>\n",
       "      <th>Recommended By</th>\n",
       "    </tr>\n",
       "  </thead>\n",
       "  <tbody>\n",
       "    <tr>\n",
       "      <td>0</td>\n",
       "      <td>Green Day</td>\n",
       "      <td>Time of your Life</td>\n",
       "      <td>Joe</td>\n",
       "    </tr>\n",
       "    <tr>\n",
       "      <td>1</td>\n",
       "      <td>B-52s</td>\n",
       "      <td>Rock Lobster</td>\n",
       "      <td>Joe</td>\n",
       "    </tr>\n",
       "    <tr>\n",
       "      <td>2</td>\n",
       "      <td>Lady GaGa</td>\n",
       "      <td>Poker Face</td>\n",
       "      <td>Joe</td>\n",
       "    </tr>\n",
       "    <tr>\n",
       "      <td>3</td>\n",
       "      <td>John Lennon</td>\n",
       "      <td>Imagine</td>\n",
       "      <td>Joe</td>\n",
       "    </tr>\n",
       "    <tr>\n",
       "      <td>4</td>\n",
       "      <td>Eve 6</td>\n",
       "      <td>Here's to the Night</td>\n",
       "      <td>James</td>\n",
       "    </tr>\n",
       "    <tr>\n",
       "      <td>5</td>\n",
       "      <td>Neutral Milk Hotel</td>\n",
       "      <td>Into the Aeroplane Over the Sea</td>\n",
       "      <td>James</td>\n",
       "    </tr>\n",
       "    <tr>\n",
       "      <td>6</td>\n",
       "      <td>Rilo Kiley</td>\n",
       "      <td>With Arms Outstretched</td>\n",
       "      <td>James</td>\n",
       "    </tr>\n",
       "    <tr>\n",
       "      <td>7</td>\n",
       "      <td>Red Hot Chili Peppers</td>\n",
       "      <td>Otherside</td>\n",
       "      <td>James</td>\n",
       "    </tr>\n",
       "    <tr>\n",
       "      <td>8</td>\n",
       "      <td>Smashing Pumpkins</td>\n",
       "      <td>Tonight, Tonight</td>\n",
       "      <td>Anne</td>\n",
       "    </tr>\n",
       "    <tr>\n",
       "      <td>9</td>\n",
       "      <td>Black Eyed Peas</td>\n",
       "      <td>Let's Get it Started</td>\n",
       "      <td>Anne</td>\n",
       "    </tr>\n",
       "    <tr>\n",
       "      <td>10</td>\n",
       "      <td>Green Day</td>\n",
       "      <td>Time of your Life</td>\n",
       "      <td>Anne</td>\n",
       "    </tr>\n",
       "    <tr>\n",
       "      <td>11</td>\n",
       "      <td>Black Eyed Peas</td>\n",
       "      <td>Let's Get it Started</td>\n",
       "      <td>John</td>\n",
       "    </tr>\n",
       "    <tr>\n",
       "      <td>12</td>\n",
       "      <td>Lady GaGa</td>\n",
       "      <td>Poker Face</td>\n",
       "      <td>John</td>\n",
       "    </tr>\n",
       "    <tr>\n",
       "      <td>13</td>\n",
       "      <td>Lady GaGa</td>\n",
       "      <td>Bad Romance</td>\n",
       "      <td>John</td>\n",
       "    </tr>\n",
       "    <tr>\n",
       "      <td>14</td>\n",
       "      <td>Lady GaGa</td>\n",
       "      <td>Just Dance</td>\n",
       "      <td>John</td>\n",
       "    </tr>\n",
       "    <tr>\n",
       "      <td>15</td>\n",
       "      <td>Black Eyed Peas</td>\n",
       "      <td>Let's Get it Started</td>\n",
       "      <td>Samantha</td>\n",
       "    </tr>\n",
       "    <tr>\n",
       "      <td>16</td>\n",
       "      <td>Panic at the Disco</td>\n",
       "      <td>Hallelujah</td>\n",
       "      <td>Samantha</td>\n",
       "    </tr>\n",
       "    <tr>\n",
       "      <td>17</td>\n",
       "      <td>Adele</td>\n",
       "      <td>Set Fire to the Rain</td>\n",
       "      <td>Samantha</td>\n",
       "    </tr>\n",
       "  </tbody>\n",
       "</table>\n",
       "</div>"
      ],
      "text/plain": [
       "                   artist                            track Recommended By\n",
       "0               Green Day                Time of your Life            Joe\n",
       "1                   B-52s                     Rock Lobster            Joe\n",
       "2               Lady GaGa                       Poker Face            Joe\n",
       "3             John Lennon                          Imagine            Joe\n",
       "4                   Eve 6              Here's to the Night          James\n",
       "5      Neutral Milk Hotel  Into the Aeroplane Over the Sea          James\n",
       "6              Rilo Kiley           With Arms Outstretched          James\n",
       "7   Red Hot Chili Peppers                        Otherside          James\n",
       "8       Smashing Pumpkins                 Tonight, Tonight           Anne\n",
       "9         Black Eyed Peas             Let's Get it Started           Anne\n",
       "10              Green Day                Time of your Life           Anne\n",
       "11        Black Eyed Peas             Let's Get it Started           John\n",
       "12              Lady GaGa                       Poker Face           John\n",
       "13              Lady GaGa                      Bad Romance           John\n",
       "14              Lady GaGa                       Just Dance           John\n",
       "15        Black Eyed Peas             Let's Get it Started       Samantha\n",
       "16     Panic at the Disco                       Hallelujah       Samantha\n",
       "17                  Adele             Set Fire to the Rain       Samantha"
      ]
     },
     "execution_count": 8,
     "metadata": {},
     "output_type": "execute_result"
    }
   ],
   "source": [
    "df = pd.concat(playlists).reset_index(drop=True)\n",
    "df"
   ]
  },
  {
   "cell_type": "code",
   "execution_count": 9,
   "metadata": {
    "ExecuteTime": {
     "end_time": "2020-06-15T00:57:48.687548Z",
     "start_time": "2020-06-15T00:57:48.684257Z"
    }
   },
   "outputs": [
    {
     "name": "stdout",
     "output_type": "stream",
     "text": [
      "There are 14 unique tracks and 12 unique artists.\n"
     ]
    }
   ],
   "source": [
    "## Making Sample Spaces for Tracks and artists\n",
    "sTracks = set(df['track'])\n",
    "sArtists = set(df['artist'])\n",
    "\n",
    "print(f\"There are {len(sTracks)} unique tracks and {len(sArtists)} unique artists.\")"
   ]
  },
  {
   "cell_type": "markdown",
   "metadata": {},
   "source": [
    "#### Q1: What is the probability of the next song being by Lady GaGa?"
   ]
  },
  {
   "cell_type": "markdown",
   "metadata": {},
   "source": [
    "(**If we just accept everyone's suggestions (full df) and play on shuffle**)"
   ]
  },
  {
   "cell_type": "markdown",
   "metadata": {},
   "source": [
    "$$ P(E) = \\frac{|E|}{|S|} $$\n"
   ]
  },
  {
   "cell_type": "code",
   "execution_count": 10,
   "metadata": {
    "ExecuteTime": {
     "end_time": "2020-06-15T00:57:48.694041Z",
     "start_time": "2020-06-15T00:57:48.688898Z"
    }
   },
   "outputs": [
    {
     "data": {
      "text/plain": [
       "0.2222222222222222"
      ]
     },
     "execution_count": 10,
     "metadata": {},
     "output_type": "execute_result"
    }
   ],
   "source": [
    "num = df['artist'].value_counts()['Lady GaGa']\n",
    "denom =  len(df)\n",
    "num/denom"
   ]
  },
  {
   "cell_type": "code",
   "execution_count": 11,
   "metadata": {
    "ExecuteTime": {
     "end_time": "2020-06-15T00:57:48.703429Z",
     "start_time": "2020-06-15T00:57:48.695211Z"
    }
   },
   "outputs": [
    {
     "data": {
      "text/plain": [
       "Lady GaGa                0.222222\n",
       "Black Eyed Peas          0.166667\n",
       "Green Day                0.111111\n",
       "Red Hot Chili Peppers    0.055556\n",
       "Panic at the Disco       0.055556\n",
       "Rilo Kiley               0.055556\n",
       "B-52s                    0.055556\n",
       "Eve 6                    0.055556\n",
       "John Lennon              0.055556\n",
       "Adele                    0.055556\n",
       "Neutral Milk Hotel       0.055556\n",
       "Smashing Pumpkins        0.055556\n",
       "Name: artist, dtype: float64"
      ]
     },
     "execution_count": 11,
     "metadata": {},
     "output_type": "execute_result"
    }
   ],
   "source": [
    "df['artist'].value_counts(normalize=True)"
   ]
  },
  {
   "cell_type": "code",
   "execution_count": 12,
   "metadata": {
    "ExecuteTime": {
     "end_time": "2020-06-15T00:57:48.710703Z",
     "start_time": "2020-06-15T00:57:48.705268Z"
    }
   },
   "outputs": [
    {
     "data": {
      "text/plain": [
       "Lady GaGa                4\n",
       "Black Eyed Peas          3\n",
       "Green Day                2\n",
       "Red Hot Chili Peppers    1\n",
       "Panic at the Disco       1\n",
       "Rilo Kiley               1\n",
       "B-52s                    1\n",
       "Eve 6                    1\n",
       "John Lennon              1\n",
       "Adele                    1\n",
       "Neutral Milk Hotel       1\n",
       "Smashing Pumpkins        1\n",
       "Name: artist, dtype: int64"
      ]
     },
     "execution_count": 12,
     "metadata": {},
     "output_type": "execute_result"
    }
   ],
   "source": [
    "## get counts for how many times artists appear\n",
    "counts = df['artist'].value_counts()\n",
    "counts"
   ]
  },
  {
   "cell_type": "code",
   "execution_count": 13,
   "metadata": {
    "ExecuteTime": {
     "end_time": "2020-06-15T00:57:48.715689Z",
     "start_time": "2020-06-15T00:57:48.712258Z"
    }
   },
   "outputs": [],
   "source": [
    "## What is the event space?\n",
    "event_space = counts.loc['Lady GaGa']# / len(counts)\n",
    "\n",
    "## What about the sample_space?\n",
    "sample_space = sum(counts)"
   ]
  },
  {
   "cell_type": "code",
   "execution_count": 14,
   "metadata": {
    "ExecuteTime": {
     "end_time": "2020-06-15T00:57:48.720456Z",
     "start_time": "2020-06-15T00:57:48.717145Z"
    }
   },
   "outputs": [
    {
     "data": {
      "text/plain": [
       "0.2222222222222222"
      ]
     },
     "execution_count": 14,
     "metadata": {},
     "output_type": "execute_result"
    }
   ],
   "source": [
    "P_lady_gaga = event_space/sample_space\n",
    "P_lady_gaga"
   ]
  },
  {
   "cell_type": "markdown",
   "metadata": {
    "ExecuteTime": {
     "end_time": "2020-06-10T21:50:53.506424Z",
     "start_time": "2020-06-10T21:50:53.490074Z"
    }
   },
   "source": [
    "#### Q2: What is the probability of the next song being \"Time of Your Life\"?"
   ]
  },
  {
   "cell_type": "code",
   "execution_count": 15,
   "metadata": {
    "ExecuteTime": {
     "end_time": "2020-06-15T00:57:48.726991Z",
     "start_time": "2020-06-15T00:57:48.721742Z"
    }
   },
   "outputs": [
    {
     "data": {
      "text/plain": [
       "Let's Get it Started               3\n",
       "Time of your Life                  2\n",
       "Poker Face                         2\n",
       "Otherside                          1\n",
       "Into the Aeroplane Over the Sea    1\n",
       "Hallelujah                         1\n",
       "With Arms Outstretched             1\n",
       "Tonight, Tonight                   1\n",
       "Just Dance                         1\n",
       "Here's to the Night                1\n",
       "Bad Romance                        1\n",
       "Rock Lobster                       1\n",
       "Imagine                            1\n",
       "Set Fire to the Rain               1\n",
       "Name: track, dtype: int64"
      ]
     },
     "execution_count": 15,
     "metadata": {},
     "output_type": "execute_result"
    }
   ],
   "source": [
    "counts = df['track'].value_counts()\n",
    "counts"
   ]
  },
  {
   "cell_type": "code",
   "execution_count": 16,
   "metadata": {
    "ExecuteTime": {
     "end_time": "2020-06-15T00:57:48.730790Z",
     "start_time": "2020-06-15T00:57:48.728287Z"
    }
   },
   "outputs": [],
   "source": [
    "## What is the cardinality of the event space?\n",
    "event_space = counts.loc['Time of your Life']# / len(counts)\n",
    "\n",
    "## What about the sample_space?\n",
    "sample_space = sum(counts)"
   ]
  },
  {
   "cell_type": "code",
   "execution_count": 17,
   "metadata": {
    "ExecuteTime": {
     "end_time": "2020-06-15T00:57:48.735362Z",
     "start_time": "2020-06-15T00:57:48.732112Z"
    }
   },
   "outputs": [
    {
     "data": {
      "text/plain": [
       "0.1111111111111111"
      ]
     },
     "execution_count": 17,
     "metadata": {},
     "output_type": "execute_result"
    }
   ],
   "source": [
    "P_time_of_your_life = event_space/sample_space\n",
    "P_time_of_your_life"
   ]
  },
  {
   "cell_type": "markdown",
   "metadata": {},
   "source": [
    "## Activity Pt 2: Playlist Permutations"
   ]
  },
  {
   "cell_type": "markdown",
   "metadata": {},
   "source": [
    "#### Q1: How many different ways could we build a playlist using everyone's recommendations (without shuffle, no looping, and no repeated songs)?"
   ]
  },
  {
   "cell_type": "markdown",
   "metadata": {
    "ExecuteTime": {
     "end_time": "2020-01-07T22:40:05.942473Z",
     "start_time": "2020-01-07T22:40:05.940474Z"
    }
   },
   "source": [
    "- Q: Combination or permutation?\n",
    "    -  Permutation"
   ]
  },
  {
   "cell_type": "markdown",
   "metadata": {
    "ExecuteTime": {
     "end_time": "2020-01-07T22:40:05.942473Z",
     "start_time": "2020-01-07T22:40:05.940474Z"
    }
   },
   "source": [
    "- Q: What formula would we use?\n",
    " $$\\large P(n) = n!$$"
   ]
  },
  {
   "cell_type": "code",
   "execution_count": 18,
   "metadata": {
    "ExecuteTime": {
     "end_time": "2020-06-15T00:57:48.740167Z",
     "start_time": "2020-06-15T00:57:48.737017Z"
    }
   },
   "outputs": [
    {
     "data": {
      "text/plain": [
       "87178291200"
      ]
     },
     "execution_count": 18,
     "metadata": {},
     "output_type": "execute_result"
    }
   ],
   "source": [
    "from math import factorial\n",
    "factorial(len(sTracks))"
   ]
  },
  {
   "cell_type": "code",
   "execution_count": 19,
   "metadata": {
    "ExecuteTime": {
     "end_time": "2020-06-15T00:57:48.744766Z",
     "start_time": "2020-06-15T00:57:48.741717Z"
    }
   },
   "outputs": [
    {
     "data": {
      "text/plain": [
       "'87,178,291,200'"
      ]
     },
     "execution_count": 19,
     "metadata": {},
     "output_type": "execute_result"
    }
   ],
   "source": [
    "\"{:,}\".format(factorial(len(sTracks)))"
   ]
  },
  {
   "cell_type": "markdown",
   "metadata": {},
   "source": [
    "#### Q2: What if we limit the playlist to only 10 songs, without replacement? How many possible playlists?"
   ]
  },
  {
   "cell_type": "markdown",
   "metadata": {
    "ExecuteTime": {
     "end_time": "2020-01-07T22:40:05.942473Z",
     "start_time": "2020-01-07T22:40:05.940474Z"
    }
   },
   "source": [
    "- Q: Combination or permutation?\n",
    "    - Permutation"
   ]
  },
  {
   "cell_type": "markdown",
   "metadata": {
    "ExecuteTime": {
     "end_time": "2020-01-07T22:40:05.942473Z",
     "start_time": "2020-01-07T22:40:05.940474Z"
    }
   },
   "source": [
    "- Q: What formula would we use?\n",
    "$$ \\large P_{k}^{n}= \\dfrac{n!}{(n-k)!}$$ \n"
   ]
  },
  {
   "cell_type": "code",
   "execution_count": 20,
   "metadata": {
    "ExecuteTime": {
     "end_time": "2020-06-15T00:57:48.749014Z",
     "start_time": "2020-06-15T00:57:48.745965Z"
    }
   },
   "outputs": [
    {
     "data": {
      "text/plain": [
       "14"
      ]
     },
     "execution_count": 20,
     "metadata": {},
     "output_type": "execute_result"
    }
   ],
   "source": [
    "len(sTracks)"
   ]
  },
  {
   "cell_type": "code",
   "execution_count": 21,
   "metadata": {
    "ExecuteTime": {
     "end_time": "2020-06-15T00:57:48.753813Z",
     "start_time": "2020-06-15T00:57:48.750233Z"
    }
   },
   "outputs": [
    {
     "data": {
      "text/plain": [
       "'3,632,428,800.0'"
      ]
     },
     "execution_count": 21,
     "metadata": {},
     "output_type": "execute_result"
    }
   ],
   "source": [
    "p_10_14 = factorial(len(sTracks)) / factorial(len(sTracks)-10)\n",
    "\"{:,}\".format(p_10_14)"
   ]
  },
  {
   "cell_type": "markdown",
   "metadata": {},
   "source": [
    "#### Q3: what if we limit the playlist to 10 songs, WITH replacement?"
   ]
  },
  {
   "cell_type": "markdown",
   "metadata": {
    "ExecuteTime": {
     "end_time": "2020-01-07T22:40:05.942473Z",
     "start_time": "2020-01-07T22:40:05.940474Z"
    }
   },
   "source": [
    "- Q: Combination or permutation?\n",
    "    - Permutation"
   ]
  },
  {
   "cell_type": "markdown",
   "metadata": {
    "ExecuteTime": {
     "end_time": "2020-01-07T22:40:05.942473Z",
     "start_time": "2020-01-07T22:40:05.940474Z"
    }
   },
   "source": [
    "- Q: What formula would we use?\n",
    "$$ \\large {P}_{j}^{n} = n^j $$\n"
   ]
  },
  {
   "cell_type": "code",
   "execution_count": 22,
   "metadata": {
    "ExecuteTime": {
     "end_time": "2020-06-15T00:57:48.758700Z",
     "start_time": "2020-06-15T00:57:48.755422Z"
    }
   },
   "outputs": [
    {
     "data": {
      "text/plain": [
       "'289,254,654,976'"
      ]
     },
     "execution_count": 22,
     "metadata": {},
     "output_type": "execute_result"
    }
   ],
   "source": [
    "p_10_14R = 14**10\n",
    "\"{:,}\".format(p_10_14R)"
   ]
  },
  {
   "cell_type": "markdown",
   "metadata": {},
   "source": [
    "#### Q4: what if we select 10 songs out of the total number of suggestions and allow for repitition?"
   ]
  },
  {
   "cell_type": "markdown",
   "metadata": {
    "ExecuteTime": {
     "end_time": "2020-01-07T22:40:05.942473Z",
     "start_time": "2020-01-07T22:40:05.940474Z"
    }
   },
   "source": [
    "- Q: Combination or permutation?\n",
    "    - Permutation"
   ]
  },
  {
   "cell_type": "markdown",
   "metadata": {
    "ExecuteTime": {
     "end_time": "2020-01-07T22:40:05.942473Z",
     "start_time": "2020-01-07T22:40:05.940474Z"
    }
   },
   "source": [
    "- Q: What formula would we use?\n",
    "$$\\dfrac{n!}{n_1!n_2!\\ldots n_j!}$$\n"
   ]
  },
  {
   "cell_type": "code",
   "execution_count": 23,
   "metadata": {
    "ExecuteTime": {
     "end_time": "2020-06-15T00:57:48.767054Z",
     "start_time": "2020-06-15T00:57:48.760100Z"
    }
   },
   "outputs": [
    {
     "name": "stdout",
     "output_type": "stream",
     "text": [
      "18\n"
     ]
    },
    {
     "data": {
      "text/plain": [
       "Let's Get it Started               3\n",
       "Time of your Life                  2\n",
       "Poker Face                         2\n",
       "Otherside                          1\n",
       "Into the Aeroplane Over the Sea    1\n",
       "Hallelujah                         1\n",
       "With Arms Outstretched             1\n",
       "Tonight, Tonight                   1\n",
       "Just Dance                         1\n",
       "Here's to the Night                1\n",
       "Bad Romance                        1\n",
       "Rock Lobster                       1\n",
       "Imagine                            1\n",
       "Set Fire to the Rain               1\n",
       "Name: track, dtype: int64"
      ]
     },
     "execution_count": 23,
     "metadata": {},
     "output_type": "execute_result"
    }
   ],
   "source": [
    "print(df['track'].value_counts().sum())\n",
    "df['track'].value_counts()"
   ]
  },
  {
   "cell_type": "code",
   "execution_count": 24,
   "metadata": {
    "ExecuteTime": {
     "end_time": "2020-06-15T00:57:48.771881Z",
     "start_time": "2020-06-15T00:57:48.768448Z"
    }
   },
   "outputs": [
    {
     "data": {
      "text/plain": [
       "'266,765,571,072,000.0'"
      ]
     },
     "execution_count": 24,
     "metadata": {},
     "output_type": "execute_result"
    }
   ],
   "source": [
    "p18R = factorial(18) / (factorial(3)*factorial(2)*factorial(2))\n",
    "\"{:,}\".format(p18R)"
   ]
  },
  {
   "cell_type": "markdown",
   "metadata": {},
   "source": [
    "### So....  We realize we need to relax and not worry about the song-order. That's what Shuffle is for, right? 😅"
   ]
  },
  {
   "cell_type": "markdown",
   "metadata": {},
   "source": [
    "#### Q5: How many playlists can we produce for an 8-track playlist from the unique suggested songs (10)?"
   ]
  },
  {
   "cell_type": "markdown",
   "metadata": {
    "ExecuteTime": {
     "end_time": "2020-01-07T22:40:05.942473Z",
     "start_time": "2020-01-07T22:40:05.940474Z"
    }
   },
   "source": [
    "- Q: Combination or permutation?\n",
    "    - Combination"
   ]
  },
  {
   "cell_type": "markdown",
   "metadata": {
    "ExecuteTime": {
     "end_time": "2020-01-07T22:40:05.942473Z",
     "start_time": "2020-01-07T22:40:05.940474Z"
    }
   },
   "source": [
    "- Q: What formula would we use?\n",
    "$$\\large C_{k}^{n} = \\displaystyle\\binom{n}{k} = \\dfrac{P_{k}^{n}}{k!}=\\dfrac{ \\dfrac{n!}{(n-k)!}}{k!} = \\dfrac{n!}{(n-k)!k!}$$"
   ]
  },
  {
   "cell_type": "code",
   "execution_count": 25,
   "metadata": {
    "ExecuteTime": {
     "end_time": "2020-06-15T00:57:48.776629Z",
     "start_time": "2020-06-15T00:57:48.773229Z"
    }
   },
   "outputs": [
    {
     "data": {
      "text/plain": [
       "'45.0'"
      ]
     },
     "execution_count": 25,
     "metadata": {},
     "output_type": "execute_result"
    }
   ],
   "source": [
    "c_8_10 = factorial(10)/ (factorial((10-8))*factorial(8))\n",
    "\"{:,}\".format(c_8_10)"
   ]
  },
  {
   "cell_type": "markdown",
   "metadata": {
    "ExecuteTime": {
     "end_time": "2020-01-09T21:44:03.999140Z",
     "start_time": "2020-01-09T21:44:03.996502Z"
    }
   },
   "source": [
    "# Sect 11B: Conditional Probability & Law of Total Probability\n"
   ]
  },
  {
   "cell_type": "markdown",
   "metadata": {},
   "source": [
    "- 06/16/20 Study Group"
   ]
  },
  {
   "cell_type": "markdown",
   "metadata": {},
   "source": [
    "## Learning Objectives"
   ]
  },
  {
   "cell_type": "markdown",
   "metadata": {},
   "source": [
    "- We will review Independent, Dependent, vs Disjointed Events before diving deeper into conditional probability.\n",
    "- We will cover conditional probability and its theorems.\n",
    "- We will discuss the Law of Total Probability.\n",
    "\n",
    "\n",
    "\n",
    "- **Activity: We will extend our dinner party activity to a house party to explore conditional probability and the Law of Total Probability**\n",
    "- **Demo: Teaser for Sect 12 (if theres time)**"
   ]
  },
  {
   "cell_type": "markdown",
   "metadata": {},
   "source": [
    "### QUESTIONS?\n",
    "- [Questions Doc](https://docs.google.com/document/d/196yIMNSRSRspBdBmjHq7vMhFF-YdpvkyYEHYV5nm8xg/edit?usp=sharing)\n",
    "\n"
   ]
  },
  {
   "cell_type": "markdown",
   "metadata": {},
   "source": [
    "##  Independent, Dependent, and Disjoint Events\n"
   ]
  },
  {
   "cell_type": "markdown",
   "metadata": {},
   "source": [
    "### Indepdent Events"
   ]
  },
  {
   "cell_type": "markdown",
   "metadata": {},
   "source": [
    "#### If 2 indepedent events:\n",
    "\n",
    "**Events $A$ and $B$ are independent when the occurrence of $A$ has no effect on whether $B$ will occur (or not).**\n",
    "\n",
    "- A and B are independent if:\n",
    "    - $P(A \\cap B) = P(A)\\cdot P(B)$\n",
    "\n",
    " <img src=\"https://raw.githubusercontent.com/jirvingphd/dsc-conditional-probability-online-ds-ft-100719/master/images/Image_67_independent.png\" width=400>\n",
    "\n",
    "- Probability of A or B occurring:\n",
    "    - $P (A \\cup B) = P(A) + P(B) - P(A \\cap B)$\n",
    "\n",
    " Thus, in the case of two independent events, by substitution,\n",
    "\n",
    "$$P (A \\cup B) = P(A) + P(B) - P(A)P(B).$$\n",
    "\n",
    "#### If 3 independent events:\n",
    "- A, B, and C are independent if:\n",
    "    - $P(A \\cap B) = P(A)P(B)$ \n",
    "    - $P(A \\cap C) = P(A)P(C)$ \n",
    "    - $P(B \\cap C) = P(B)P(C)$\n",
    "    - $P(A \\cap B \\cap C) = P(A)P(B)P(C)$\n",
    "    - So you need both *pairwise independence* and *three-way independence*\n"
   ]
  },
  {
   "cell_type": "markdown",
   "metadata": {},
   "source": [
    "### Disjoint Events\n"
   ]
  },
  {
   "cell_type": "markdown",
   "metadata": {},
   "source": [
    "<img src=\"https://raw.githubusercontent.com/jirvingphd/dsc-conditional-probability-online-ds-ft-100719/master/images/Image_68Disjoint.png\" width=400>\n",
    "\n",
    "\n",
    "**Events $A$ and $B$ are disjoint if $A$ occurring means that $B$ cannot occur.**\n",
    "\n",
    "Disjoint events are **mutually exclusive**. $P (A \\cap B)$ is **empty**.\n"
   ]
  },
  {
   "cell_type": "markdown",
   "metadata": {},
   "source": [
    "### Dependent Events"
   ]
  },
  {
   "cell_type": "markdown",
   "metadata": {},
   "source": [
    "**Events $A$ and $B$ are dependent when the occurrence of $A$ somehow has an effect on whether $B$ will occur (or not).**\n",
    "\n",
    "\n",
    "In simple terms, the probability of seeing an event $B$ in the second trial depends on the outcome $A$ of the first trial. We say that $P(B)$ is **conditional** on $P(A)$.\n",
    "\n",
    "A **tree diagram** can be used to explore all possible events.\n",
    "\n",
    "<img src=\"https://raw.githubusercontent.com/jirvingphd/dsc-conditional-probability-online-ds-ft-100719/master/images/Image_71_TreeDiag.png\" width = 500>\n"
   ]
  },
  {
   "cell_type": "markdown",
   "metadata": {},
   "source": [
    "### Conditional Probability Definition"
   ]
  },
  {
   "cell_type": "markdown",
   "metadata": {},
   "source": [
    "**Conditional probability emerges when the outcome a trial may influence the results of the upcoming trials.**\n",
    "\n",
    "The conditional probability (Probability of $A$ **given** $B$) can be written as:\n",
    "$$ P (A \\mid B) = \\dfrac{P(A \\cap B)}{P(B)}$$\n",
    "\n",
    "\n",
    "\n",
    "$P(A|B)$, is the probability A **given** that $B$ has just happened. "
   ]
  },
  {
   "cell_type": "markdown",
   "metadata": {},
   "source": [
    "### Derivation of Conditional Probability\n",
    "Understanding this formula may be easier if you look at two simple Venn Diagrams and use the multiplication rule. Here's how to derive this formula:\n",
    "<img src=\"https://raw.githubusercontent.com/jirvingphd/dsc-conditional-probability-online-ds-ft-100719/master/images/Image_72_Cond4.png\" width=\"300\">\n",
    "\n",
    "\n",
    "\n",
    "Step 1: Write out the multiplication rule:\n",
    "* $P(A \\cap B)= P(B)*P(A\\mid B)$\n",
    "\n",
    "Step 2: Divide both sides of the equation by P(B):\n",
    "* $\\dfrac{P(A \\cap B)}{ P(B)} = \\dfrac{P(B)*P(A\\mid B)}{P(B)}$\n",
    "\n",
    "Step 3: Cancel P(B) on the right side of the equation:\n",
    "* $\\dfrac{P(A \\cap B)}{P(B)} = P(A \\mid B)$\n",
    "\n",
    "Step 4: This is of course equal to:\n",
    "* $ P(A \\mid B)=\\dfrac{P(A \\cap B)}{P(B)} $\n",
    "\n",
    "And this is our conditional probability formula. \n",
    "\n"
   ]
  },
  {
   "cell_type": "markdown",
   "metadata": {},
   "source": [
    "## ORIGINAL END OF 06/12 Study Group\n",
    "___"
   ]
  },
  {
   "cell_type": "markdown",
   "metadata": {},
   "source": [
    "## 🚨Laws & Theorems Based on Conditional Probability\n"
   ]
  },
  {
   "cell_type": "markdown",
   "metadata": {},
   "source": [
    "### Theorem 1: Product Rule\n",
    "\n",
    "The intersection of events $A$ and $B$ can be given by\n",
    "\n",
    "\\begin{align}\n",
    "    P(A \\cap B) = P(B) P(A \\mid B) = P(A) P(B \\mid A)\n",
    "\\end{align}\n",
    "\n",
    "Remember that if $A$ and $B$ are independent, then conditioning on $B$ means nothing (and vice-versa) so:\n",
    "- $P(A|B) = P(A)$, and \n",
    "- $P(A \\cap B) = P(A) P(B)$.\n"
   ]
  },
  {
   "cell_type": "markdown",
   "metadata": {},
   "source": [
    "### Theorem 2: Chain Rule AKA \"General Product Rule\"\n",
    "\n",
    "- Allows calculation of any member of the joint distribution of a set of random variables using _only_ conditional probabilities.\n",
    "\n",
    "- Built on the product rule: \n",
    "$$P(A \\cap B) = P(A \\mid B) P(B)$$\n",
    "\n",
    "- When applied to 3 variables, becomes:\n",
    "\n",
    "\n",
    "$$P(A\\cap B \\cap C) = P(A\\cap( B \\cap C))$$\n",
    "$$ = P(A\\mid B \\cap C) P(B \\cap C)$$\n",
    "$$ = P(A \\mid B \\cap C) P(B \\mid C) P(C)$$\n",
    "\n",
    "And you can keep extending this to $n$ variables:\n",
    "\n",
    "$$P(A_1 \\cap A_2 \\cap \\ldots \\cap A_n) = P(A_1 \\mid A_2 \\cap \\ldots\\cap A_n) P(A_2 \\mid A_3  \\cap \\ldots \\cap \\ A_n) P(A_{n-1}|A_n) P(A_n)$$\n",
    "\n",
    "This idea is known as the **chain rule**.\n",
    "\n"
   ]
  },
  {
   "cell_type": "markdown",
   "metadata": {},
   "source": [
    "### Theorem 3 - Bayes Theorem"
   ]
  },
  {
   "cell_type": "markdown",
   "metadata": {},
   "source": [
    "\n",
    "\n",
    "The **Bayes theorem**, which is the outcome of this section. Below is the formula that we will dig deeper into in upcoming lessons.\n",
    "\n",
    "$$ P(A|B) = \\frac{P(B|A)P(A)}{P(B)} $$\n",
    "\n",
    "- It uses that $P(A \\cap B) = P(B) P(A \\mid B) = P(A) P(B \\mid A)$. \n",
    "- Note that, using Bayes theorem, you **can compute conditional probabilities without explicitly needing to know $P(A \\cap B)$!** "
   ]
  },
  {
   "cell_type": "markdown",
   "metadata": {},
   "source": [
    "\n",
    "### Additional note: the complement of an event\n",
    "\n",
    "You learned about (absolute and relative) complements before, but the complement of an event is also applicable to conditional probabilities.\n",
    "\n",
    "The basic rule is:\n",
    "\n",
    "$P(A) + P(A') = 1$\n",
    "\n",
    "with A' being the complement of A.\n",
    "\n",
    "Similarly, extending this to conditional probabilities:\n",
    "\n",
    "$P(A|B) + P(A'|B) = 1$"
   ]
  },
  {
   "cell_type": "markdown",
   "metadata": {},
   "source": [
    "## Activity Pt 3: Dinner Party Playlist - Conditional Probabilities"
   ]
  },
  {
   "cell_type": "markdown",
   "metadata": {},
   "source": [
    "- Loading in the Data and Adding the Recommendatins of a last minute invitee (Carla)"
   ]
  },
  {
   "cell_type": "code",
   "execution_count": 38,
   "metadata": {
    "ExecuteTime": {
     "end_time": "2020-06-15T00:58:49.240831Z",
     "start_time": "2020-06-15T00:58:49.226522Z"
    }
   },
   "outputs": [
    {
     "data": {
      "text/plain": [
       "dict_keys(['joe', 'james', 'anne', 'john', 'samantha'])"
      ]
     },
     "execution_count": 38,
     "metadata": {},
     "output_type": "execute_result"
    }
   ],
   "source": [
    "import os,glob\n",
    "datafolder = \"../probability_playlists/\" ## student filepath\n",
    "rec_files = glob.glob(datafolder+\"*.csv\")\n",
    "\n",
    "playlists = {}\n",
    "for file in rec_files:\n",
    "    key = os.path.basename(file).replace('_recs.csv','')\n",
    "    playlists[key] = pd.read_csv(file)\n",
    "playlists.keys()"
   ]
  },
  {
   "cell_type": "code",
   "execution_count": 40,
   "metadata": {
    "ExecuteTime": {
     "end_time": "2020-06-15T00:58:54.123718Z",
     "start_time": "2020-06-15T00:58:54.118107Z"
    }
   },
   "outputs": [],
   "source": [
    "### New Attendee, Carla\n",
    "\n",
    "# Carla's Recs:\n",
    "carla_recs = [['artist','track']]\n",
    "carla_recs.append(['Cartman (South Park)','Poker Face'])\n",
    "carla_recs.append(['Nicki Minaj','Right By My Side'])\n",
    "carla_recs.append(['Kelly Clarkson',\"Since You've Been Gone\"])\n",
    "carla_recs.append(['Nicki Minaj',\"Marilyn Monroe\"])\n",
    "carla_recs.append(['Kelly Clarkson',\"Never Again\"])\n",
    "carla_recs.append(['Green Day',\"Minority\"])\n",
    "\n",
    "\n",
    "\n",
    "carla_recs = pd.DataFrame(carla_recs[1:],columns=carla_recs[0])\n",
    "carla_recs['Recommended By'] ='Carla'\n",
    "playlists['carla'] = carla_recs\n"
   ]
  },
  {
   "cell_type": "code",
   "execution_count": 41,
   "metadata": {
    "ExecuteTime": {
     "end_time": "2020-06-15T00:58:54.140851Z",
     "start_time": "2020-06-15T00:58:54.125359Z"
    },
    "scrolled": true
   },
   "outputs": [
    {
     "data": {
      "text/html": [
       "<style  type=\"text/css\" >\n",
       "</style><table id=\"T_625b2eda_aea3_11ea_ba9a_4865ee12e626\" ><caption>joe</caption><thead>    <tr>        <th class=\"blank level0\" ></th>        <th class=\"col_heading level0 col0\" >artist</th>        <th class=\"col_heading level0 col1\" >track</th>        <th class=\"col_heading level0 col2\" >Recommended By</th>    </tr></thead><tbody>\n",
       "                <tr>\n",
       "                        <th id=\"T_625b2eda_aea3_11ea_ba9a_4865ee12e626level0_row0\" class=\"row_heading level0 row0\" >0</th>\n",
       "                        <td id=\"T_625b2eda_aea3_11ea_ba9a_4865ee12e626row0_col0\" class=\"data row0 col0\" >Green Day</td>\n",
       "                        <td id=\"T_625b2eda_aea3_11ea_ba9a_4865ee12e626row0_col1\" class=\"data row0 col1\" >Time of your Life</td>\n",
       "                        <td id=\"T_625b2eda_aea3_11ea_ba9a_4865ee12e626row0_col2\" class=\"data row0 col2\" >Joe</td>\n",
       "            </tr>\n",
       "            <tr>\n",
       "                        <th id=\"T_625b2eda_aea3_11ea_ba9a_4865ee12e626level0_row1\" class=\"row_heading level0 row1\" >1</th>\n",
       "                        <td id=\"T_625b2eda_aea3_11ea_ba9a_4865ee12e626row1_col0\" class=\"data row1 col0\" >B-52s</td>\n",
       "                        <td id=\"T_625b2eda_aea3_11ea_ba9a_4865ee12e626row1_col1\" class=\"data row1 col1\" >Rock Lobster</td>\n",
       "                        <td id=\"T_625b2eda_aea3_11ea_ba9a_4865ee12e626row1_col2\" class=\"data row1 col2\" >Joe</td>\n",
       "            </tr>\n",
       "            <tr>\n",
       "                        <th id=\"T_625b2eda_aea3_11ea_ba9a_4865ee12e626level0_row2\" class=\"row_heading level0 row2\" >2</th>\n",
       "                        <td id=\"T_625b2eda_aea3_11ea_ba9a_4865ee12e626row2_col0\" class=\"data row2 col0\" >Lady GaGa</td>\n",
       "                        <td id=\"T_625b2eda_aea3_11ea_ba9a_4865ee12e626row2_col1\" class=\"data row2 col1\" >Poker Face</td>\n",
       "                        <td id=\"T_625b2eda_aea3_11ea_ba9a_4865ee12e626row2_col2\" class=\"data row2 col2\" >Joe</td>\n",
       "            </tr>\n",
       "            <tr>\n",
       "                        <th id=\"T_625b2eda_aea3_11ea_ba9a_4865ee12e626level0_row3\" class=\"row_heading level0 row3\" >3</th>\n",
       "                        <td id=\"T_625b2eda_aea3_11ea_ba9a_4865ee12e626row3_col0\" class=\"data row3 col0\" >John Lennon</td>\n",
       "                        <td id=\"T_625b2eda_aea3_11ea_ba9a_4865ee12e626row3_col1\" class=\"data row3 col1\" >Imagine</td>\n",
       "                        <td id=\"T_625b2eda_aea3_11ea_ba9a_4865ee12e626row3_col2\" class=\"data row3 col2\" >Joe</td>\n",
       "            </tr>\n",
       "    </tbody></table>"
      ],
      "text/plain": [
       "<pandas.io.formats.style.Styler at 0x1a22707438>"
      ]
     },
     "metadata": {},
     "output_type": "display_data"
    },
    {
     "data": {
      "text/html": [
       "<style  type=\"text/css\" >\n",
       "</style><table id=\"T_625b8970_aea3_11ea_b08a_4865ee12e626\" ><caption>james</caption><thead>    <tr>        <th class=\"blank level0\" ></th>        <th class=\"col_heading level0 col0\" >artist</th>        <th class=\"col_heading level0 col1\" >track</th>        <th class=\"col_heading level0 col2\" >Recommended By</th>    </tr></thead><tbody>\n",
       "                <tr>\n",
       "                        <th id=\"T_625b8970_aea3_11ea_b08a_4865ee12e626level0_row0\" class=\"row_heading level0 row0\" >0</th>\n",
       "                        <td id=\"T_625b8970_aea3_11ea_b08a_4865ee12e626row0_col0\" class=\"data row0 col0\" >Eve 6</td>\n",
       "                        <td id=\"T_625b8970_aea3_11ea_b08a_4865ee12e626row0_col1\" class=\"data row0 col1\" >Here's to the Night</td>\n",
       "                        <td id=\"T_625b8970_aea3_11ea_b08a_4865ee12e626row0_col2\" class=\"data row0 col2\" >James</td>\n",
       "            </tr>\n",
       "            <tr>\n",
       "                        <th id=\"T_625b8970_aea3_11ea_b08a_4865ee12e626level0_row1\" class=\"row_heading level0 row1\" >1</th>\n",
       "                        <td id=\"T_625b8970_aea3_11ea_b08a_4865ee12e626row1_col0\" class=\"data row1 col0\" >Neutral Milk Hotel</td>\n",
       "                        <td id=\"T_625b8970_aea3_11ea_b08a_4865ee12e626row1_col1\" class=\"data row1 col1\" >Into the Aeroplane Over the Sea</td>\n",
       "                        <td id=\"T_625b8970_aea3_11ea_b08a_4865ee12e626row1_col2\" class=\"data row1 col2\" >James</td>\n",
       "            </tr>\n",
       "            <tr>\n",
       "                        <th id=\"T_625b8970_aea3_11ea_b08a_4865ee12e626level0_row2\" class=\"row_heading level0 row2\" >2</th>\n",
       "                        <td id=\"T_625b8970_aea3_11ea_b08a_4865ee12e626row2_col0\" class=\"data row2 col0\" >Rilo Kiley</td>\n",
       "                        <td id=\"T_625b8970_aea3_11ea_b08a_4865ee12e626row2_col1\" class=\"data row2 col1\" >With Arms Outstretched</td>\n",
       "                        <td id=\"T_625b8970_aea3_11ea_b08a_4865ee12e626row2_col2\" class=\"data row2 col2\" >James</td>\n",
       "            </tr>\n",
       "            <tr>\n",
       "                        <th id=\"T_625b8970_aea3_11ea_b08a_4865ee12e626level0_row3\" class=\"row_heading level0 row3\" >3</th>\n",
       "                        <td id=\"T_625b8970_aea3_11ea_b08a_4865ee12e626row3_col0\" class=\"data row3 col0\" >Red Hot Chili Peppers</td>\n",
       "                        <td id=\"T_625b8970_aea3_11ea_b08a_4865ee12e626row3_col1\" class=\"data row3 col1\" >Otherside</td>\n",
       "                        <td id=\"T_625b8970_aea3_11ea_b08a_4865ee12e626row3_col2\" class=\"data row3 col2\" >James</td>\n",
       "            </tr>\n",
       "    </tbody></table>"
      ],
      "text/plain": [
       "<pandas.io.formats.style.Styler at 0x1a20c23f98>"
      ]
     },
     "metadata": {},
     "output_type": "display_data"
    },
    {
     "data": {
      "text/html": [
       "<style  type=\"text/css\" >\n",
       "</style><table id=\"T_625bde48_aea3_11ea_af56_4865ee12e626\" ><caption>anne</caption><thead>    <tr>        <th class=\"blank level0\" ></th>        <th class=\"col_heading level0 col0\" >artist</th>        <th class=\"col_heading level0 col1\" >track</th>        <th class=\"col_heading level0 col2\" >Recommended By</th>    </tr></thead><tbody>\n",
       "                <tr>\n",
       "                        <th id=\"T_625bde48_aea3_11ea_af56_4865ee12e626level0_row0\" class=\"row_heading level0 row0\" >0</th>\n",
       "                        <td id=\"T_625bde48_aea3_11ea_af56_4865ee12e626row0_col0\" class=\"data row0 col0\" >Smashing Pumpkins</td>\n",
       "                        <td id=\"T_625bde48_aea3_11ea_af56_4865ee12e626row0_col1\" class=\"data row0 col1\" >Tonight, Tonight</td>\n",
       "                        <td id=\"T_625bde48_aea3_11ea_af56_4865ee12e626row0_col2\" class=\"data row0 col2\" >Anne</td>\n",
       "            </tr>\n",
       "            <tr>\n",
       "                        <th id=\"T_625bde48_aea3_11ea_af56_4865ee12e626level0_row1\" class=\"row_heading level0 row1\" >1</th>\n",
       "                        <td id=\"T_625bde48_aea3_11ea_af56_4865ee12e626row1_col0\" class=\"data row1 col0\" >Black Eyed Peas</td>\n",
       "                        <td id=\"T_625bde48_aea3_11ea_af56_4865ee12e626row1_col1\" class=\"data row1 col1\" >Let's Get it Started</td>\n",
       "                        <td id=\"T_625bde48_aea3_11ea_af56_4865ee12e626row1_col2\" class=\"data row1 col2\" >Anne</td>\n",
       "            </tr>\n",
       "            <tr>\n",
       "                        <th id=\"T_625bde48_aea3_11ea_af56_4865ee12e626level0_row2\" class=\"row_heading level0 row2\" >2</th>\n",
       "                        <td id=\"T_625bde48_aea3_11ea_af56_4865ee12e626row2_col0\" class=\"data row2 col0\" >Green Day</td>\n",
       "                        <td id=\"T_625bde48_aea3_11ea_af56_4865ee12e626row2_col1\" class=\"data row2 col1\" >Time of your Life</td>\n",
       "                        <td id=\"T_625bde48_aea3_11ea_af56_4865ee12e626row2_col2\" class=\"data row2 col2\" >Anne</td>\n",
       "            </tr>\n",
       "    </tbody></table>"
      ],
      "text/plain": [
       "<pandas.io.formats.style.Styler at 0x1a22707ac8>"
      ]
     },
     "metadata": {},
     "output_type": "display_data"
    },
    {
     "data": {
      "text/html": [
       "<style  type=\"text/css\" >\n",
       "</style><table id=\"T_625c2c90_aea3_11ea_877d_4865ee12e626\" ><caption>john</caption><thead>    <tr>        <th class=\"blank level0\" ></th>        <th class=\"col_heading level0 col0\" >artist</th>        <th class=\"col_heading level0 col1\" >track</th>        <th class=\"col_heading level0 col2\" >Recommended By</th>    </tr></thead><tbody>\n",
       "                <tr>\n",
       "                        <th id=\"T_625c2c90_aea3_11ea_877d_4865ee12e626level0_row0\" class=\"row_heading level0 row0\" >0</th>\n",
       "                        <td id=\"T_625c2c90_aea3_11ea_877d_4865ee12e626row0_col0\" class=\"data row0 col0\" >Black Eyed Peas</td>\n",
       "                        <td id=\"T_625c2c90_aea3_11ea_877d_4865ee12e626row0_col1\" class=\"data row0 col1\" >Let's Get it Started</td>\n",
       "                        <td id=\"T_625c2c90_aea3_11ea_877d_4865ee12e626row0_col2\" class=\"data row0 col2\" >John</td>\n",
       "            </tr>\n",
       "            <tr>\n",
       "                        <th id=\"T_625c2c90_aea3_11ea_877d_4865ee12e626level0_row1\" class=\"row_heading level0 row1\" >1</th>\n",
       "                        <td id=\"T_625c2c90_aea3_11ea_877d_4865ee12e626row1_col0\" class=\"data row1 col0\" >Lady GaGa</td>\n",
       "                        <td id=\"T_625c2c90_aea3_11ea_877d_4865ee12e626row1_col1\" class=\"data row1 col1\" >Poker Face</td>\n",
       "                        <td id=\"T_625c2c90_aea3_11ea_877d_4865ee12e626row1_col2\" class=\"data row1 col2\" >John</td>\n",
       "            </tr>\n",
       "            <tr>\n",
       "                        <th id=\"T_625c2c90_aea3_11ea_877d_4865ee12e626level0_row2\" class=\"row_heading level0 row2\" >2</th>\n",
       "                        <td id=\"T_625c2c90_aea3_11ea_877d_4865ee12e626row2_col0\" class=\"data row2 col0\" >Lady GaGa</td>\n",
       "                        <td id=\"T_625c2c90_aea3_11ea_877d_4865ee12e626row2_col1\" class=\"data row2 col1\" >Bad Romance</td>\n",
       "                        <td id=\"T_625c2c90_aea3_11ea_877d_4865ee12e626row2_col2\" class=\"data row2 col2\" >John</td>\n",
       "            </tr>\n",
       "            <tr>\n",
       "                        <th id=\"T_625c2c90_aea3_11ea_877d_4865ee12e626level0_row3\" class=\"row_heading level0 row3\" >3</th>\n",
       "                        <td id=\"T_625c2c90_aea3_11ea_877d_4865ee12e626row3_col0\" class=\"data row3 col0\" >Lady GaGa</td>\n",
       "                        <td id=\"T_625c2c90_aea3_11ea_877d_4865ee12e626row3_col1\" class=\"data row3 col1\" >Just Dance</td>\n",
       "                        <td id=\"T_625c2c90_aea3_11ea_877d_4865ee12e626row3_col2\" class=\"data row3 col2\" >John</td>\n",
       "            </tr>\n",
       "    </tbody></table>"
      ],
      "text/plain": [
       "<pandas.io.formats.style.Styler at 0x1a22707dd8>"
      ]
     },
     "metadata": {},
     "output_type": "display_data"
    },
    {
     "data": {
      "text/html": [
       "<style  type=\"text/css\" >\n",
       "</style><table id=\"T_625c7b98_aea3_11ea_90fa_4865ee12e626\" ><caption>samantha</caption><thead>    <tr>        <th class=\"blank level0\" ></th>        <th class=\"col_heading level0 col0\" >artist</th>        <th class=\"col_heading level0 col1\" >track</th>        <th class=\"col_heading level0 col2\" >Recommended By</th>    </tr></thead><tbody>\n",
       "                <tr>\n",
       "                        <th id=\"T_625c7b98_aea3_11ea_90fa_4865ee12e626level0_row0\" class=\"row_heading level0 row0\" >0</th>\n",
       "                        <td id=\"T_625c7b98_aea3_11ea_90fa_4865ee12e626row0_col0\" class=\"data row0 col0\" >Black Eyed Peas</td>\n",
       "                        <td id=\"T_625c7b98_aea3_11ea_90fa_4865ee12e626row0_col1\" class=\"data row0 col1\" >Let's Get it Started</td>\n",
       "                        <td id=\"T_625c7b98_aea3_11ea_90fa_4865ee12e626row0_col2\" class=\"data row0 col2\" >Samantha</td>\n",
       "            </tr>\n",
       "            <tr>\n",
       "                        <th id=\"T_625c7b98_aea3_11ea_90fa_4865ee12e626level0_row1\" class=\"row_heading level0 row1\" >1</th>\n",
       "                        <td id=\"T_625c7b98_aea3_11ea_90fa_4865ee12e626row1_col0\" class=\"data row1 col0\" >Panic at the Disco</td>\n",
       "                        <td id=\"T_625c7b98_aea3_11ea_90fa_4865ee12e626row1_col1\" class=\"data row1 col1\" >Hallelujah</td>\n",
       "                        <td id=\"T_625c7b98_aea3_11ea_90fa_4865ee12e626row1_col2\" class=\"data row1 col2\" >Samantha</td>\n",
       "            </tr>\n",
       "            <tr>\n",
       "                        <th id=\"T_625c7b98_aea3_11ea_90fa_4865ee12e626level0_row2\" class=\"row_heading level0 row2\" >2</th>\n",
       "                        <td id=\"T_625c7b98_aea3_11ea_90fa_4865ee12e626row2_col0\" class=\"data row2 col0\" >Adele</td>\n",
       "                        <td id=\"T_625c7b98_aea3_11ea_90fa_4865ee12e626row2_col1\" class=\"data row2 col1\" >Set Fire to the Rain</td>\n",
       "                        <td id=\"T_625c7b98_aea3_11ea_90fa_4865ee12e626row2_col2\" class=\"data row2 col2\" >Samantha</td>\n",
       "            </tr>\n",
       "    </tbody></table>"
      ],
      "text/plain": [
       "<pandas.io.formats.style.Styler at 0x1a210942b0>"
      ]
     },
     "metadata": {},
     "output_type": "display_data"
    },
    {
     "data": {
      "text/html": [
       "<style  type=\"text/css\" >\n",
       "</style><table id=\"T_625cc600_aea3_11ea_aea0_4865ee12e626\" ><caption>carla</caption><thead>    <tr>        <th class=\"blank level0\" ></th>        <th class=\"col_heading level0 col0\" >artist</th>        <th class=\"col_heading level0 col1\" >track</th>        <th class=\"col_heading level0 col2\" >Recommended By</th>    </tr></thead><tbody>\n",
       "                <tr>\n",
       "                        <th id=\"T_625cc600_aea3_11ea_aea0_4865ee12e626level0_row0\" class=\"row_heading level0 row0\" >0</th>\n",
       "                        <td id=\"T_625cc600_aea3_11ea_aea0_4865ee12e626row0_col0\" class=\"data row0 col0\" >Cartman (South Park)</td>\n",
       "                        <td id=\"T_625cc600_aea3_11ea_aea0_4865ee12e626row0_col1\" class=\"data row0 col1\" >Poker Face</td>\n",
       "                        <td id=\"T_625cc600_aea3_11ea_aea0_4865ee12e626row0_col2\" class=\"data row0 col2\" >Carla</td>\n",
       "            </tr>\n",
       "            <tr>\n",
       "                        <th id=\"T_625cc600_aea3_11ea_aea0_4865ee12e626level0_row1\" class=\"row_heading level0 row1\" >1</th>\n",
       "                        <td id=\"T_625cc600_aea3_11ea_aea0_4865ee12e626row1_col0\" class=\"data row1 col0\" >Nicki Minaj</td>\n",
       "                        <td id=\"T_625cc600_aea3_11ea_aea0_4865ee12e626row1_col1\" class=\"data row1 col1\" >Right By My Side</td>\n",
       "                        <td id=\"T_625cc600_aea3_11ea_aea0_4865ee12e626row1_col2\" class=\"data row1 col2\" >Carla</td>\n",
       "            </tr>\n",
       "            <tr>\n",
       "                        <th id=\"T_625cc600_aea3_11ea_aea0_4865ee12e626level0_row2\" class=\"row_heading level0 row2\" >2</th>\n",
       "                        <td id=\"T_625cc600_aea3_11ea_aea0_4865ee12e626row2_col0\" class=\"data row2 col0\" >Kelly Clarkson</td>\n",
       "                        <td id=\"T_625cc600_aea3_11ea_aea0_4865ee12e626row2_col1\" class=\"data row2 col1\" >Since You've Been Gone</td>\n",
       "                        <td id=\"T_625cc600_aea3_11ea_aea0_4865ee12e626row2_col2\" class=\"data row2 col2\" >Carla</td>\n",
       "            </tr>\n",
       "            <tr>\n",
       "                        <th id=\"T_625cc600_aea3_11ea_aea0_4865ee12e626level0_row3\" class=\"row_heading level0 row3\" >3</th>\n",
       "                        <td id=\"T_625cc600_aea3_11ea_aea0_4865ee12e626row3_col0\" class=\"data row3 col0\" >Nicki Minaj</td>\n",
       "                        <td id=\"T_625cc600_aea3_11ea_aea0_4865ee12e626row3_col1\" class=\"data row3 col1\" >Marilyn Monroe</td>\n",
       "                        <td id=\"T_625cc600_aea3_11ea_aea0_4865ee12e626row3_col2\" class=\"data row3 col2\" >Carla</td>\n",
       "            </tr>\n",
       "            <tr>\n",
       "                        <th id=\"T_625cc600_aea3_11ea_aea0_4865ee12e626level0_row4\" class=\"row_heading level0 row4\" >4</th>\n",
       "                        <td id=\"T_625cc600_aea3_11ea_aea0_4865ee12e626row4_col0\" class=\"data row4 col0\" >Kelly Clarkson</td>\n",
       "                        <td id=\"T_625cc600_aea3_11ea_aea0_4865ee12e626row4_col1\" class=\"data row4 col1\" >Never Again</td>\n",
       "                        <td id=\"T_625cc600_aea3_11ea_aea0_4865ee12e626row4_col2\" class=\"data row4 col2\" >Carla</td>\n",
       "            </tr>\n",
       "            <tr>\n",
       "                        <th id=\"T_625cc600_aea3_11ea_aea0_4865ee12e626level0_row5\" class=\"row_heading level0 row5\" >5</th>\n",
       "                        <td id=\"T_625cc600_aea3_11ea_aea0_4865ee12e626row5_col0\" class=\"data row5 col0\" >Green Day</td>\n",
       "                        <td id=\"T_625cc600_aea3_11ea_aea0_4865ee12e626row5_col1\" class=\"data row5 col1\" >Minority</td>\n",
       "                        <td id=\"T_625cc600_aea3_11ea_aea0_4865ee12e626row5_col2\" class=\"data row5 col2\" >Carla</td>\n",
       "            </tr>\n",
       "    </tbody></table>"
      ],
      "text/plain": [
       "<pandas.io.formats.style.Styler at 0x1a1fcf15c0>"
      ]
     },
     "metadata": {},
     "output_type": "display_data"
    }
   ],
   "source": [
    "for name,playlist in playlists.items():\n",
    "    display(playlist.style.set_caption(name))"
   ]
  },
  {
   "cell_type": "markdown",
   "metadata": {},
   "source": [
    "> For now, lets assume we take everyone's recommendations and add them all to our play list, even if the same song has been recommended by someone else. "
   ]
  },
  {
   "cell_type": "code",
   "execution_count": 42,
   "metadata": {
    "ExecuteTime": {
     "end_time": "2020-06-15T00:58:54.154333Z",
     "start_time": "2020-06-15T00:58:54.142421Z"
    },
    "scrolled": true
   },
   "outputs": [
    {
     "data": {
      "text/html": [
       "<div>\n",
       "<style scoped>\n",
       "    .dataframe tbody tr th:only-of-type {\n",
       "        vertical-align: middle;\n",
       "    }\n",
       "\n",
       "    .dataframe tbody tr th {\n",
       "        vertical-align: top;\n",
       "    }\n",
       "\n",
       "    .dataframe thead th {\n",
       "        text-align: right;\n",
       "    }\n",
       "</style>\n",
       "<table border=\"1\" class=\"dataframe\">\n",
       "  <thead>\n",
       "    <tr style=\"text-align: right;\">\n",
       "      <th></th>\n",
       "      <th>artist</th>\n",
       "      <th>track</th>\n",
       "      <th>Recommended By</th>\n",
       "    </tr>\n",
       "  </thead>\n",
       "  <tbody>\n",
       "    <tr>\n",
       "      <td>0</td>\n",
       "      <td>Green Day</td>\n",
       "      <td>Time of your Life</td>\n",
       "      <td>Joe</td>\n",
       "    </tr>\n",
       "    <tr>\n",
       "      <td>1</td>\n",
       "      <td>B-52s</td>\n",
       "      <td>Rock Lobster</td>\n",
       "      <td>Joe</td>\n",
       "    </tr>\n",
       "    <tr>\n",
       "      <td>2</td>\n",
       "      <td>Lady GaGa</td>\n",
       "      <td>Poker Face</td>\n",
       "      <td>Joe</td>\n",
       "    </tr>\n",
       "    <tr>\n",
       "      <td>3</td>\n",
       "      <td>John Lennon</td>\n",
       "      <td>Imagine</td>\n",
       "      <td>Joe</td>\n",
       "    </tr>\n",
       "    <tr>\n",
       "      <td>4</td>\n",
       "      <td>Eve 6</td>\n",
       "      <td>Here's to the Night</td>\n",
       "      <td>James</td>\n",
       "    </tr>\n",
       "    <tr>\n",
       "      <td>5</td>\n",
       "      <td>Neutral Milk Hotel</td>\n",
       "      <td>Into the Aeroplane Over the Sea</td>\n",
       "      <td>James</td>\n",
       "    </tr>\n",
       "    <tr>\n",
       "      <td>6</td>\n",
       "      <td>Rilo Kiley</td>\n",
       "      <td>With Arms Outstretched</td>\n",
       "      <td>James</td>\n",
       "    </tr>\n",
       "    <tr>\n",
       "      <td>7</td>\n",
       "      <td>Red Hot Chili Peppers</td>\n",
       "      <td>Otherside</td>\n",
       "      <td>James</td>\n",
       "    </tr>\n",
       "    <tr>\n",
       "      <td>8</td>\n",
       "      <td>Smashing Pumpkins</td>\n",
       "      <td>Tonight, Tonight</td>\n",
       "      <td>Anne</td>\n",
       "    </tr>\n",
       "    <tr>\n",
       "      <td>9</td>\n",
       "      <td>Black Eyed Peas</td>\n",
       "      <td>Let's Get it Started</td>\n",
       "      <td>Anne</td>\n",
       "    </tr>\n",
       "    <tr>\n",
       "      <td>10</td>\n",
       "      <td>Green Day</td>\n",
       "      <td>Time of your Life</td>\n",
       "      <td>Anne</td>\n",
       "    </tr>\n",
       "    <tr>\n",
       "      <td>11</td>\n",
       "      <td>Black Eyed Peas</td>\n",
       "      <td>Let's Get it Started</td>\n",
       "      <td>John</td>\n",
       "    </tr>\n",
       "    <tr>\n",
       "      <td>12</td>\n",
       "      <td>Lady GaGa</td>\n",
       "      <td>Poker Face</td>\n",
       "      <td>John</td>\n",
       "    </tr>\n",
       "    <tr>\n",
       "      <td>13</td>\n",
       "      <td>Lady GaGa</td>\n",
       "      <td>Bad Romance</td>\n",
       "      <td>John</td>\n",
       "    </tr>\n",
       "    <tr>\n",
       "      <td>14</td>\n",
       "      <td>Lady GaGa</td>\n",
       "      <td>Just Dance</td>\n",
       "      <td>John</td>\n",
       "    </tr>\n",
       "    <tr>\n",
       "      <td>15</td>\n",
       "      <td>Black Eyed Peas</td>\n",
       "      <td>Let's Get it Started</td>\n",
       "      <td>Samantha</td>\n",
       "    </tr>\n",
       "    <tr>\n",
       "      <td>16</td>\n",
       "      <td>Panic at the Disco</td>\n",
       "      <td>Hallelujah</td>\n",
       "      <td>Samantha</td>\n",
       "    </tr>\n",
       "    <tr>\n",
       "      <td>17</td>\n",
       "      <td>Adele</td>\n",
       "      <td>Set Fire to the Rain</td>\n",
       "      <td>Samantha</td>\n",
       "    </tr>\n",
       "    <tr>\n",
       "      <td>18</td>\n",
       "      <td>Cartman (South Park)</td>\n",
       "      <td>Poker Face</td>\n",
       "      <td>Carla</td>\n",
       "    </tr>\n",
       "    <tr>\n",
       "      <td>19</td>\n",
       "      <td>Nicki Minaj</td>\n",
       "      <td>Right By My Side</td>\n",
       "      <td>Carla</td>\n",
       "    </tr>\n",
       "    <tr>\n",
       "      <td>20</td>\n",
       "      <td>Kelly Clarkson</td>\n",
       "      <td>Since You've Been Gone</td>\n",
       "      <td>Carla</td>\n",
       "    </tr>\n",
       "    <tr>\n",
       "      <td>21</td>\n",
       "      <td>Nicki Minaj</td>\n",
       "      <td>Marilyn Monroe</td>\n",
       "      <td>Carla</td>\n",
       "    </tr>\n",
       "    <tr>\n",
       "      <td>22</td>\n",
       "      <td>Kelly Clarkson</td>\n",
       "      <td>Never Again</td>\n",
       "      <td>Carla</td>\n",
       "    </tr>\n",
       "    <tr>\n",
       "      <td>23</td>\n",
       "      <td>Green Day</td>\n",
       "      <td>Minority</td>\n",
       "      <td>Carla</td>\n",
       "    </tr>\n",
       "  </tbody>\n",
       "</table>\n",
       "</div>"
      ],
      "text/plain": [
       "                   artist                            track Recommended By\n",
       "0               Green Day                Time of your Life            Joe\n",
       "1                   B-52s                     Rock Lobster            Joe\n",
       "2               Lady GaGa                       Poker Face            Joe\n",
       "3             John Lennon                          Imagine            Joe\n",
       "4                   Eve 6              Here's to the Night          James\n",
       "5      Neutral Milk Hotel  Into the Aeroplane Over the Sea          James\n",
       "6              Rilo Kiley           With Arms Outstretched          James\n",
       "7   Red Hot Chili Peppers                        Otherside          James\n",
       "8       Smashing Pumpkins                 Tonight, Tonight           Anne\n",
       "9         Black Eyed Peas             Let's Get it Started           Anne\n",
       "10              Green Day                Time of your Life           Anne\n",
       "11        Black Eyed Peas             Let's Get it Started           John\n",
       "12              Lady GaGa                       Poker Face           John\n",
       "13              Lady GaGa                      Bad Romance           John\n",
       "14              Lady GaGa                       Just Dance           John\n",
       "15        Black Eyed Peas             Let's Get it Started       Samantha\n",
       "16     Panic at the Disco                       Hallelujah       Samantha\n",
       "17                  Adele             Set Fire to the Rain       Samantha\n",
       "18   Cartman (South Park)                       Poker Face          Carla\n",
       "19            Nicki Minaj                 Right By My Side          Carla\n",
       "20         Kelly Clarkson           Since You've Been Gone          Carla\n",
       "21            Nicki Minaj                   Marilyn Monroe          Carla\n",
       "22         Kelly Clarkson                      Never Again          Carla\n",
       "23              Green Day                         Minority          Carla"
      ]
     },
     "execution_count": 42,
     "metadata": {},
     "output_type": "execute_result"
    }
   ],
   "source": [
    "df = pd.concat(playlists).reset_index(drop=True)\n",
    "df"
   ]
  },
  {
   "cell_type": "markdown",
   "metadata": {},
   "source": [
    "### Basic Probability Revisited"
   ]
  },
  {
   "cell_type": "markdown",
   "metadata": {},
   "source": [
    "#### **Q: What is the probability of hearing \"Let's Get it started\"?**"
   ]
  },
  {
   "cell_type": "code",
   "execution_count": 43,
   "metadata": {
    "ExecuteTime": {
     "end_time": "2020-06-15T00:58:54.161394Z",
     "start_time": "2020-06-15T00:58:54.155905Z"
    }
   },
   "outputs": [
    {
     "data": {
      "text/plain": [
       "Poker Face                         3\n",
       "Let's Get it Started               3\n",
       "Time of your Life                  2\n",
       "Otherside                          1\n",
       "Just Dance                         1\n",
       "Right By My Side                   1\n",
       "Imagine                            1\n",
       "Rock Lobster                       1\n",
       "Since You've Been Gone             1\n",
       "Bad Romance                        1\n",
       "Here's to the Night                1\n",
       "With Arms Outstretched             1\n",
       "Tonight, Tonight                   1\n",
       "Into the Aeroplane Over the Sea    1\n",
       "Minority                           1\n",
       "Hallelujah                         1\n",
       "Never Again                        1\n",
       "Marilyn Monroe                     1\n",
       "Set Fire to the Rain               1\n",
       "Name: track, dtype: int64"
      ]
     },
     "execution_count": 43,
     "metadata": {},
     "output_type": "execute_result"
    }
   ],
   "source": [
    "counts = df['track'].value_counts()#sum()#sort_values('track')\n",
    "counts"
   ]
  },
  {
   "cell_type": "markdown",
   "metadata": {},
   "source": [
    "$$P(E) = |E| / |S|  $$"
   ]
  },
  {
   "cell_type": "code",
   "execution_count": 44,
   "metadata": {
    "ExecuteTime": {
     "end_time": "2020-06-15T00:58:54.166304Z",
     "start_time": "2020-06-15T00:58:54.162753Z"
    }
   },
   "outputs": [
    {
     "data": {
      "text/plain": [
       "0.125"
      ]
     },
     "execution_count": 44,
     "metadata": {},
     "output_type": "execute_result"
    }
   ],
   "source": [
    "## Get Event Space\n",
    "P_lets_get_it = counts.loc[\"Let's Get it Started\"] / len(df)\n",
    "P_lets_get_it"
   ]
  },
  {
   "cell_type": "markdown",
   "metadata": {},
   "source": [
    "#### **Q: What is the probability of playing a song by Lady GaGa?**"
   ]
  },
  {
   "cell_type": "code",
   "execution_count": 45,
   "metadata": {
    "ExecuteTime": {
     "end_time": "2020-06-15T00:58:54.174932Z",
     "start_time": "2020-06-15T00:58:54.168041Z"
    }
   },
   "outputs": [
    {
     "data": {
      "text/plain": [
       "Lady GaGa                4\n",
       "Black Eyed Peas          3\n",
       "Green Day                3\n",
       "Kelly Clarkson           2\n",
       "Nicki Minaj              2\n",
       "Adele                    1\n",
       "John Lennon              1\n",
       "B-52s                    1\n",
       "Cartman (South Park)     1\n",
       "Neutral Milk Hotel       1\n",
       "Smashing Pumpkins        1\n",
       "Rilo Kiley               1\n",
       "Panic at the Disco       1\n",
       "Eve 6                    1\n",
       "Red Hot Chili Peppers    1\n",
       "Name: artist, dtype: int64"
      ]
     },
     "metadata": {},
     "output_type": "display_data"
    },
    {
     "data": {
      "text/plain": [
       "0.16666666666666666"
      ]
     },
     "execution_count": 45,
     "metadata": {},
     "output_type": "execute_result"
    }
   ],
   "source": [
    "counts = df['artist'].value_counts()\n",
    "display(counts)\n",
    "\n",
    "P_lady_gaga = counts.loc['Lady GaGa'] / len(df)#df['artist'].unique()\n",
    "P_lady_gaga"
   ]
  },
  {
   "cell_type": "code",
   "execution_count": 46,
   "metadata": {
    "ExecuteTime": {
     "end_time": "2020-06-15T00:58:54.182102Z",
     "start_time": "2020-06-15T00:58:54.176471Z"
    }
   },
   "outputs": [
    {
     "data": {
      "text/plain": [
       "Lady GaGa                0.166667\n",
       "Black Eyed Peas          0.125000\n",
       "Green Day                0.125000\n",
       "Kelly Clarkson           0.083333\n",
       "Nicki Minaj              0.083333\n",
       "Adele                    0.041667\n",
       "John Lennon              0.041667\n",
       "B-52s                    0.041667\n",
       "Cartman (South Park)     0.041667\n",
       "Neutral Milk Hotel       0.041667\n",
       "Smashing Pumpkins        0.041667\n",
       "Rilo Kiley               0.041667\n",
       "Panic at the Disco       0.041667\n",
       "Eve 6                    0.041667\n",
       "Red Hot Chili Peppers    0.041667\n",
       "Name: artist, dtype: float64"
      ]
     },
     "execution_count": 46,
     "metadata": {},
     "output_type": "execute_result"
    }
   ],
   "source": [
    "df['artist'].value_counts(normalize=True)"
   ]
  },
  {
   "cell_type": "code",
   "execution_count": 47,
   "metadata": {
    "ExecuteTime": {
     "end_time": "2020-06-15T00:58:54.186385Z",
     "start_time": "2020-06-15T00:58:54.183314Z"
    }
   },
   "outputs": [
    {
     "data": {
      "text/plain": [
       "0.2222222222222222"
      ]
     },
     "execution_count": 47,
     "metadata": {},
     "output_type": "execute_result"
    }
   ],
   "source": [
    "4/18"
   ]
  },
  {
   "cell_type": "markdown",
   "metadata": {},
   "source": [
    "### Conditional Probabilities"
   ]
  },
  {
   "cell_type": "markdown",
   "metadata": {},
   "source": [
    "$$ P (A \\mid B) = \\dfrac{P(A \\cap B)}{P(B)}$$\n"
   ]
  },
  {
   "cell_type": "markdown",
   "metadata": {},
   "source": [
    "#### Q: what is the probability of hearing a \"Poker Face\" given that the song is by Lady GaGa?"
   ]
  },
  {
   "cell_type": "markdown",
   "metadata": {},
   "source": [
    "- **Q1: What would be the formula to calculate $P(\\text{PokerFace}|\\text{LadyGaga})$  ?**"
   ]
  },
  {
   "cell_type": "markdown",
   "metadata": {},
   "source": [
    "A:\n",
    "\n",
    "$$ \\large P(\\text{PokerFace}|\\text{LadyGaga}) =\\frac{P(\\text{Track:\"Poker Face\" & Artist:\"Lady Gaga\"})}{ P(\\text{Lady GaGa})} $$"
   ]
  },
  {
   "cell_type": "code",
   "execution_count": 48,
   "metadata": {
    "ExecuteTime": {
     "end_time": "2020-06-15T00:58:54.194466Z",
     "start_time": "2020-06-15T00:58:54.187729Z"
    }
   },
   "outputs": [
    {
     "data": {
      "text/plain": [
       "Poker Face     2\n",
       "Bad Romance    1\n",
       "Just Dance     1\n",
       "Name: track, dtype: int64"
      ]
     },
     "execution_count": 48,
     "metadata": {},
     "output_type": "execute_result"
    }
   ],
   "source": [
    "## Get Value Counts for all tracks\n",
    "track_counts = df.groupby('artist').get_group('Lady GaGa')['track'].value_counts()\n",
    "track_counts"
   ]
  },
  {
   "cell_type": "markdown",
   "metadata": {},
   "source": [
    "> <div style=\"color:red;\">INSTRUCTOR NOTE: if you simply grab the value counnts of the track column, we will accidentally combine Cartman/South Park's cover of Poker Face with Lady GaGa</div>"
   ]
  },
  {
   "cell_type": "code",
   "execution_count": 49,
   "metadata": {
    "ExecuteTime": {
     "end_time": "2020-06-15T00:58:54.201346Z",
     "start_time": "2020-06-15T00:58:54.196265Z"
    }
   },
   "outputs": [
    {
     "data": {
      "text/plain": [
       "Poker Face                         3\n",
       "Let's Get it Started               3\n",
       "Time of your Life                  2\n",
       "Otherside                          1\n",
       "Just Dance                         1\n",
       "Right By My Side                   1\n",
       "Imagine                            1\n",
       "Rock Lobster                       1\n",
       "Since You've Been Gone             1\n",
       "Bad Romance                        1\n",
       "Here's to the Night                1\n",
       "With Arms Outstretched             1\n",
       "Tonight, Tonight                   1\n",
       "Into the Aeroplane Over the Sea    1\n",
       "Minority                           1\n",
       "Hallelujah                         1\n",
       "Never Again                        1\n",
       "Marilyn Monroe                     1\n",
       "Set Fire to the Rain               1\n",
       "Name: track, dtype: int64"
      ]
     },
     "execution_count": 49,
     "metadata": {},
     "output_type": "execute_result"
    }
   ],
   "source": [
    "# INCORRECT - SEE NOTE ABOVE\n",
    "df['track'].value_counts()"
   ]
  },
  {
   "cell_type": "code",
   "execution_count": 50,
   "metadata": {
    "ExecuteTime": {
     "end_time": "2020-06-15T00:58:54.208185Z",
     "start_time": "2020-06-15T00:58:54.202685Z"
    }
   },
   "outputs": [
    {
     "data": {
      "text/plain": [
       "Lady GaGa                4\n",
       "Black Eyed Peas          3\n",
       "Green Day                3\n",
       "Kelly Clarkson           2\n",
       "Nicki Minaj              2\n",
       "Adele                    1\n",
       "John Lennon              1\n",
       "B-52s                    1\n",
       "Cartman (South Park)     1\n",
       "Neutral Milk Hotel       1\n",
       "Smashing Pumpkins        1\n",
       "Rilo Kiley               1\n",
       "Panic at the Disco       1\n",
       "Eve 6                    1\n",
       "Red Hot Chili Peppers    1\n",
       "Name: artist, dtype: int64"
      ]
     },
     "execution_count": 50,
     "metadata": {},
     "output_type": "execute_result"
    }
   ],
   "source": [
    "artist_counts = df['artist'].value_counts()\n",
    "artist_counts"
   ]
  },
  {
   "cell_type": "code",
   "execution_count": 51,
   "metadata": {
    "ExecuteTime": {
     "end_time": "2020-06-15T00:58:54.213416Z",
     "start_time": "2020-06-15T00:58:54.209500Z"
    }
   },
   "outputs": [
    {
     "data": {
      "text/plain": [
       "0.5"
      ]
     },
     "execution_count": 51,
     "metadata": {},
     "output_type": "execute_result"
    }
   ],
   "source": [
    "## Calculate manually\n",
    "P_poker_face_lady_gaga = track_counts.loc['Poker Face'] / artist_counts.loc['Lady GaGa']\n",
    "P_poker_face_lady_gaga"
   ]
  },
  {
   "cell_type": "code",
   "execution_count": 52,
   "metadata": {
    "ExecuteTime": {
     "end_time": "2020-06-15T00:58:54.221821Z",
     "start_time": "2020-06-15T00:58:54.214807Z"
    }
   },
   "outputs": [
    {
     "data": {
      "text/plain": [
       "Poker Face     0.50\n",
       "Bad Romance    0.25\n",
       "Just Dance     0.25\n",
       "Name: track, dtype: float64"
      ]
     },
     "execution_count": 52,
     "metadata": {},
     "output_type": "execute_result"
    }
   ],
   "source": [
    "## Show how groupby and value_counts gives same answer\n",
    "df.groupby('artist').get_group('Lady GaGa')['track'].value_counts(normalize=True)"
   ]
  },
  {
   "cell_type": "markdown",
   "metadata": {},
   "source": [
    "# Sect 11B Cont'd: LAW OF TOTAL PROBABILITY"
   ]
  },
  {
   "cell_type": "markdown",
   "metadata": {},
   "source": [
    "> <div style=\"color:red\">Instructor Note: Jeff you may want to check/modify this info below to match your preferences</div>"
   ]
  },
  {
   "cell_type": "markdown",
   "metadata": {},
   "source": [
    "- This law allows us to calculate $P(B)$ from partial/conditional probabilitie of subsets ($A_n$).\n",
    "- Requires that the different $A$'s that make up sample space $S$ be disjointed events.\n",
    "\n",
    "S $A_1, A_2, \\dots, A_n$ partition sample space $S$ into disjoint regions that sum up to $S$. In the example, the four regions\n",
    "\n",
    "<img src=\"https://raw.githubusercontent.com/jirvingphd/dsc-law-of-total-probability-online-ds-ft-100719/master/images/Image_55_TotProb.png\">\n",
    "\n",
    "The probability of a random event $B$ (orange area) can be written down as:\n",
    "\n",
    "\\begin{align}\n",
    "    P(B) &= P(B \\cap A_1) + P(B \\cap A_2) + P(B \\cap A_3)+ P(B \\cap A_4) \\\\\n",
    "         &= P(B \\mid A_1)P(A_1) + P(B \\mid A_2)P(A_2) +P(B \\mid A_3)P(A_3)+ P(B \\mid A_4)P(A_4)\n",
    "\\end{align}\n",
    "\n",
    "- using the first theorem above let us find the combined probabilities.\n",
    "\n",
    "\n",
    "#### Law of Total Probability\n",
    "\n",
    "If $B_1$,$B_2$,$B_3$,$\\dots$ is a partition of the sample space S, then for any event A we have\n",
    "\n",
    "$$P(A)= \\sum_i P(A \\cap B_i)= \\sum_i P(A \\mid B_i)P(B_i)$$\n",
    "\n",
    "Using a Venn diagram, we can pictorially see the idea behind the law of total probability. In the figure below, we have\n",
    "\n",
    "* $A_1 = A \\cap B_1$\n",
    "* $A_2 = A \\cap B_2$\n",
    "* $A_3 = A \\cap B_3$\n"
   ]
  },
  {
   "cell_type": "markdown",
   "metadata": {
    "ExecuteTime": {
     "end_time": "2020-01-09T21:50:32.639351Z",
     "start_time": "2020-01-09T21:50:32.637220Z"
    }
   },
   "source": [
    "## Activity: From Dinner Party Playlist to House Party Playlists"
   ]
  },
  {
   "cell_type": "markdown",
   "metadata": {
    "ExecuteTime": {
     "end_time": "2020-01-09T21:51:53.081763Z",
     "start_time": "2020-01-09T21:51:53.077870Z"
    }
   },
   "source": [
    "- We've decided to be a little more adventurous and turn our dinner party into a larger house party.\n",
    "    - The House party spread across 4 rooms that we assume people will spread their time evenly across the various rooms:\n",
    "        - living room\n",
    "        - basement\n",
    "        - back patio\n",
    "        - kitchen\n",
    "        \n",
    "- We have separate play lists playing at each location that were constructed with our dinner party recommendations.\n"
   ]
  },
  {
   "cell_type": "markdown",
   "metadata": {},
   "source": [
    "#### OUR HOUSE PARTY & LAW OF TOTAL PROB\n",
    "- Our House Party is sample space S\n",
    "- The 4 rooms are A1,A2,A3,A4\n",
    "- B represents the probabilty of hearing a specific song or artist as you wander the house.\n",
    "<img src=\"https://raw.githubusercontent.com/jirvingphd/dsc-law-of-total-probability-online-ds-ft-100719/master/images/Image_55_TotProb.png\" width=50%>\n",
    "\n",
    "$$P(A)= \\sum_i P(A \\cap B_i)= \\sum_i P(A \\mid B_i)P(B_i)$$\n",
    "\n",
    "\n"
   ]
  },
  {
   "cell_type": "code",
   "execution_count": 53,
   "metadata": {
    "ExecuteTime": {
     "end_time": "2020-06-15T00:58:54.248116Z",
     "start_time": "2020-06-15T00:58:54.223391Z"
    }
   },
   "outputs": [
    {
     "data": {
      "text/html": [
       "<style  type=\"text/css\" >\n",
       "</style><table id=\"T_626afc0c_aea3_11ea_a93d_4865ee12e626\" ><caption>Playlist for living_room</caption><thead>    <tr>        <th class=\"blank level0\" ></th>        <th class=\"col_heading level0 col0\" >artist</th>        <th class=\"col_heading level0 col1\" >track</th>        <th class=\"col_heading level0 col2\" >Recommended By</th>        <th class=\"col_heading level0 col3\" >Room</th>    </tr></thead><tbody>\n",
       "                <tr>\n",
       "                        <th id=\"T_626afc0c_aea3_11ea_a93d_4865ee12e626level0_row0\" class=\"row_heading level0 row0\" >0</th>\n",
       "                        <td id=\"T_626afc0c_aea3_11ea_a93d_4865ee12e626row0_col0\" class=\"data row0 col0\" >Cartman (South Park)</td>\n",
       "                        <td id=\"T_626afc0c_aea3_11ea_a93d_4865ee12e626row0_col1\" class=\"data row0 col1\" >Poker Face</td>\n",
       "                        <td id=\"T_626afc0c_aea3_11ea_a93d_4865ee12e626row0_col2\" class=\"data row0 col2\" >Carla</td>\n",
       "                        <td id=\"T_626afc0c_aea3_11ea_a93d_4865ee12e626row0_col3\" class=\"data row0 col3\" >living_room</td>\n",
       "            </tr>\n",
       "            <tr>\n",
       "                        <th id=\"T_626afc0c_aea3_11ea_a93d_4865ee12e626level0_row1\" class=\"row_heading level0 row1\" >1</th>\n",
       "                        <td id=\"T_626afc0c_aea3_11ea_a93d_4865ee12e626row1_col0\" class=\"data row1 col0\" >Green Day</td>\n",
       "                        <td id=\"T_626afc0c_aea3_11ea_a93d_4865ee12e626row1_col1\" class=\"data row1 col1\" >Minority</td>\n",
       "                        <td id=\"T_626afc0c_aea3_11ea_a93d_4865ee12e626row1_col2\" class=\"data row1 col2\" >Carla</td>\n",
       "                        <td id=\"T_626afc0c_aea3_11ea_a93d_4865ee12e626row1_col3\" class=\"data row1 col3\" >living_room</td>\n",
       "            </tr>\n",
       "            <tr>\n",
       "                        <th id=\"T_626afc0c_aea3_11ea_a93d_4865ee12e626level0_row2\" class=\"row_heading level0 row2\" >2</th>\n",
       "                        <td id=\"T_626afc0c_aea3_11ea_a93d_4865ee12e626row2_col0\" class=\"data row2 col0\" >Red Hot Chili Peppers</td>\n",
       "                        <td id=\"T_626afc0c_aea3_11ea_a93d_4865ee12e626row2_col1\" class=\"data row2 col1\" >Otherside</td>\n",
       "                        <td id=\"T_626afc0c_aea3_11ea_a93d_4865ee12e626row2_col2\" class=\"data row2 col2\" >James</td>\n",
       "                        <td id=\"T_626afc0c_aea3_11ea_a93d_4865ee12e626row2_col3\" class=\"data row2 col3\" >living_room</td>\n",
       "            </tr>\n",
       "            <tr>\n",
       "                        <th id=\"T_626afc0c_aea3_11ea_a93d_4865ee12e626level0_row3\" class=\"row_heading level0 row3\" >3</th>\n",
       "                        <td id=\"T_626afc0c_aea3_11ea_a93d_4865ee12e626row3_col0\" class=\"data row3 col0\" >Lady GaGa</td>\n",
       "                        <td id=\"T_626afc0c_aea3_11ea_a93d_4865ee12e626row3_col1\" class=\"data row3 col1\" >Just Dance</td>\n",
       "                        <td id=\"T_626afc0c_aea3_11ea_a93d_4865ee12e626row3_col2\" class=\"data row3 col2\" >John</td>\n",
       "                        <td id=\"T_626afc0c_aea3_11ea_a93d_4865ee12e626row3_col3\" class=\"data row3 col3\" >living_room</td>\n",
       "            </tr>\n",
       "            <tr>\n",
       "                        <th id=\"T_626afc0c_aea3_11ea_a93d_4865ee12e626level0_row4\" class=\"row_heading level0 row4\" >4</th>\n",
       "                        <td id=\"T_626afc0c_aea3_11ea_a93d_4865ee12e626row4_col0\" class=\"data row4 col0\" >Green Day</td>\n",
       "                        <td id=\"T_626afc0c_aea3_11ea_a93d_4865ee12e626row4_col1\" class=\"data row4 col1\" >Time of your Life</td>\n",
       "                        <td id=\"T_626afc0c_aea3_11ea_a93d_4865ee12e626row4_col2\" class=\"data row4 col2\" >Anne</td>\n",
       "                        <td id=\"T_626afc0c_aea3_11ea_a93d_4865ee12e626row4_col3\" class=\"data row4 col3\" >living_room</td>\n",
       "            </tr>\n",
       "            <tr>\n",
       "                        <th id=\"T_626afc0c_aea3_11ea_a93d_4865ee12e626level0_row5\" class=\"row_heading level0 row5\" >5</th>\n",
       "                        <td id=\"T_626afc0c_aea3_11ea_a93d_4865ee12e626row5_col0\" class=\"data row5 col0\" >Lady GaGa</td>\n",
       "                        <td id=\"T_626afc0c_aea3_11ea_a93d_4865ee12e626row5_col1\" class=\"data row5 col1\" >Bad Romance</td>\n",
       "                        <td id=\"T_626afc0c_aea3_11ea_a93d_4865ee12e626row5_col2\" class=\"data row5 col2\" >John</td>\n",
       "                        <td id=\"T_626afc0c_aea3_11ea_a93d_4865ee12e626row5_col3\" class=\"data row5 col3\" >living_room</td>\n",
       "            </tr>\n",
       "            <tr>\n",
       "                        <th id=\"T_626afc0c_aea3_11ea_a93d_4865ee12e626level0_row6\" class=\"row_heading level0 row6\" >6</th>\n",
       "                        <td id=\"T_626afc0c_aea3_11ea_a93d_4865ee12e626row6_col0\" class=\"data row6 col0\" >Smashing Pumpkins</td>\n",
       "                        <td id=\"T_626afc0c_aea3_11ea_a93d_4865ee12e626row6_col1\" class=\"data row6 col1\" >Tonight, Tonight</td>\n",
       "                        <td id=\"T_626afc0c_aea3_11ea_a93d_4865ee12e626row6_col2\" class=\"data row6 col2\" >Anne</td>\n",
       "                        <td id=\"T_626afc0c_aea3_11ea_a93d_4865ee12e626row6_col3\" class=\"data row6 col3\" >living_room</td>\n",
       "            </tr>\n",
       "            <tr>\n",
       "                        <th id=\"T_626afc0c_aea3_11ea_a93d_4865ee12e626level0_row7\" class=\"row_heading level0 row7\" >7</th>\n",
       "                        <td id=\"T_626afc0c_aea3_11ea_a93d_4865ee12e626row7_col0\" class=\"data row7 col0\" >Nicki Minaj</td>\n",
       "                        <td id=\"T_626afc0c_aea3_11ea_a93d_4865ee12e626row7_col1\" class=\"data row7 col1\" >Marilyn Monroe</td>\n",
       "                        <td id=\"T_626afc0c_aea3_11ea_a93d_4865ee12e626row7_col2\" class=\"data row7 col2\" >Carla</td>\n",
       "                        <td id=\"T_626afc0c_aea3_11ea_a93d_4865ee12e626row7_col3\" class=\"data row7 col3\" >living_room</td>\n",
       "            </tr>\n",
       "            <tr>\n",
       "                        <th id=\"T_626afc0c_aea3_11ea_a93d_4865ee12e626level0_row8\" class=\"row_heading level0 row8\" >8</th>\n",
       "                        <td id=\"T_626afc0c_aea3_11ea_a93d_4865ee12e626row8_col0\" class=\"data row8 col0\" >Green Day</td>\n",
       "                        <td id=\"T_626afc0c_aea3_11ea_a93d_4865ee12e626row8_col1\" class=\"data row8 col1\" >Time of your Life</td>\n",
       "                        <td id=\"T_626afc0c_aea3_11ea_a93d_4865ee12e626row8_col2\" class=\"data row8 col2\" >Joe</td>\n",
       "                        <td id=\"T_626afc0c_aea3_11ea_a93d_4865ee12e626row8_col3\" class=\"data row8 col3\" >living_room</td>\n",
       "            </tr>\n",
       "            <tr>\n",
       "                        <th id=\"T_626afc0c_aea3_11ea_a93d_4865ee12e626level0_row9\" class=\"row_heading level0 row9\" >9</th>\n",
       "                        <td id=\"T_626afc0c_aea3_11ea_a93d_4865ee12e626row9_col0\" class=\"data row9 col0\" >Black Eyed Peas</td>\n",
       "                        <td id=\"T_626afc0c_aea3_11ea_a93d_4865ee12e626row9_col1\" class=\"data row9 col1\" >Let's Get it Started</td>\n",
       "                        <td id=\"T_626afc0c_aea3_11ea_a93d_4865ee12e626row9_col2\" class=\"data row9 col2\" >Samantha</td>\n",
       "                        <td id=\"T_626afc0c_aea3_11ea_a93d_4865ee12e626row9_col3\" class=\"data row9 col3\" >living_room</td>\n",
       "            </tr>\n",
       "            <tr>\n",
       "                        <th id=\"T_626afc0c_aea3_11ea_a93d_4865ee12e626level0_row10\" class=\"row_heading level0 row10\" >10</th>\n",
       "                        <td id=\"T_626afc0c_aea3_11ea_a93d_4865ee12e626row10_col0\" class=\"data row10 col0\" >Kelly Clarkson</td>\n",
       "                        <td id=\"T_626afc0c_aea3_11ea_a93d_4865ee12e626row10_col1\" class=\"data row10 col1\" >Since You've Been Gone</td>\n",
       "                        <td id=\"T_626afc0c_aea3_11ea_a93d_4865ee12e626row10_col2\" class=\"data row10 col2\" >Carla</td>\n",
       "                        <td id=\"T_626afc0c_aea3_11ea_a93d_4865ee12e626row10_col3\" class=\"data row10 col3\" >living_room</td>\n",
       "            </tr>\n",
       "            <tr>\n",
       "                        <th id=\"T_626afc0c_aea3_11ea_a93d_4865ee12e626level0_row11\" class=\"row_heading level0 row11\" >11</th>\n",
       "                        <td id=\"T_626afc0c_aea3_11ea_a93d_4865ee12e626row11_col0\" class=\"data row11 col0\" >Black Eyed Peas</td>\n",
       "                        <td id=\"T_626afc0c_aea3_11ea_a93d_4865ee12e626row11_col1\" class=\"data row11 col1\" >Let's Get it Started</td>\n",
       "                        <td id=\"T_626afc0c_aea3_11ea_a93d_4865ee12e626row11_col2\" class=\"data row11 col2\" >Anne</td>\n",
       "                        <td id=\"T_626afc0c_aea3_11ea_a93d_4865ee12e626row11_col3\" class=\"data row11 col3\" >living_room</td>\n",
       "            </tr>\n",
       "    </tbody></table>"
      ],
      "text/plain": [
       "<pandas.io.formats.style.Styler at 0x1a225e1400>"
      ]
     },
     "metadata": {},
     "output_type": "display_data"
    },
    {
     "data": {
      "text/html": [
       "<style  type=\"text/css\" >\n",
       "</style><table id=\"T_626bb3d8_aea3_11ea_89ba_4865ee12e626\" ><caption>Playlist for basement</caption><thead>    <tr>        <th class=\"blank level0\" ></th>        <th class=\"col_heading level0 col0\" >artist</th>        <th class=\"col_heading level0 col1\" >track</th>        <th class=\"col_heading level0 col2\" >Recommended By</th>        <th class=\"col_heading level0 col3\" >Room</th>    </tr></thead><tbody>\n",
       "                <tr>\n",
       "                        <th id=\"T_626bb3d8_aea3_11ea_89ba_4865ee12e626level0_row0\" class=\"row_heading level0 row0\" >0</th>\n",
       "                        <td id=\"T_626bb3d8_aea3_11ea_89ba_4865ee12e626row0_col0\" class=\"data row0 col0\" >Lady GaGa</td>\n",
       "                        <td id=\"T_626bb3d8_aea3_11ea_89ba_4865ee12e626row0_col1\" class=\"data row0 col1\" >Bad Romance</td>\n",
       "                        <td id=\"T_626bb3d8_aea3_11ea_89ba_4865ee12e626row0_col2\" class=\"data row0 col2\" >John</td>\n",
       "                        <td id=\"T_626bb3d8_aea3_11ea_89ba_4865ee12e626row0_col3\" class=\"data row0 col3\" >basement</td>\n",
       "            </tr>\n",
       "            <tr>\n",
       "                        <th id=\"T_626bb3d8_aea3_11ea_89ba_4865ee12e626level0_row1\" class=\"row_heading level0 row1\" >1</th>\n",
       "                        <td id=\"T_626bb3d8_aea3_11ea_89ba_4865ee12e626row1_col0\" class=\"data row1 col0\" >Green Day</td>\n",
       "                        <td id=\"T_626bb3d8_aea3_11ea_89ba_4865ee12e626row1_col1\" class=\"data row1 col1\" >Time of your Life</td>\n",
       "                        <td id=\"T_626bb3d8_aea3_11ea_89ba_4865ee12e626row1_col2\" class=\"data row1 col2\" >Joe</td>\n",
       "                        <td id=\"T_626bb3d8_aea3_11ea_89ba_4865ee12e626row1_col3\" class=\"data row1 col3\" >basement</td>\n",
       "            </tr>\n",
       "            <tr>\n",
       "                        <th id=\"T_626bb3d8_aea3_11ea_89ba_4865ee12e626level0_row2\" class=\"row_heading level0 row2\" >2</th>\n",
       "                        <td id=\"T_626bb3d8_aea3_11ea_89ba_4865ee12e626row2_col0\" class=\"data row2 col0\" >Kelly Clarkson</td>\n",
       "                        <td id=\"T_626bb3d8_aea3_11ea_89ba_4865ee12e626row2_col1\" class=\"data row2 col1\" >Never Again</td>\n",
       "                        <td id=\"T_626bb3d8_aea3_11ea_89ba_4865ee12e626row2_col2\" class=\"data row2 col2\" >Carla</td>\n",
       "                        <td id=\"T_626bb3d8_aea3_11ea_89ba_4865ee12e626row2_col3\" class=\"data row2 col3\" >basement</td>\n",
       "            </tr>\n",
       "            <tr>\n",
       "                        <th id=\"T_626bb3d8_aea3_11ea_89ba_4865ee12e626level0_row3\" class=\"row_heading level0 row3\" >3</th>\n",
       "                        <td id=\"T_626bb3d8_aea3_11ea_89ba_4865ee12e626row3_col0\" class=\"data row3 col0\" >Panic at the Disco</td>\n",
       "                        <td id=\"T_626bb3d8_aea3_11ea_89ba_4865ee12e626row3_col1\" class=\"data row3 col1\" >Hallelujah</td>\n",
       "                        <td id=\"T_626bb3d8_aea3_11ea_89ba_4865ee12e626row3_col2\" class=\"data row3 col2\" >Samantha</td>\n",
       "                        <td id=\"T_626bb3d8_aea3_11ea_89ba_4865ee12e626row3_col3\" class=\"data row3 col3\" >basement</td>\n",
       "            </tr>\n",
       "            <tr>\n",
       "                        <th id=\"T_626bb3d8_aea3_11ea_89ba_4865ee12e626level0_row4\" class=\"row_heading level0 row4\" >4</th>\n",
       "                        <td id=\"T_626bb3d8_aea3_11ea_89ba_4865ee12e626row4_col0\" class=\"data row4 col0\" >John Lennon</td>\n",
       "                        <td id=\"T_626bb3d8_aea3_11ea_89ba_4865ee12e626row4_col1\" class=\"data row4 col1\" >Imagine</td>\n",
       "                        <td id=\"T_626bb3d8_aea3_11ea_89ba_4865ee12e626row4_col2\" class=\"data row4 col2\" >Joe</td>\n",
       "                        <td id=\"T_626bb3d8_aea3_11ea_89ba_4865ee12e626row4_col3\" class=\"data row4 col3\" >basement</td>\n",
       "            </tr>\n",
       "            <tr>\n",
       "                        <th id=\"T_626bb3d8_aea3_11ea_89ba_4865ee12e626level0_row5\" class=\"row_heading level0 row5\" >5</th>\n",
       "                        <td id=\"T_626bb3d8_aea3_11ea_89ba_4865ee12e626row5_col0\" class=\"data row5 col0\" >Lady GaGa</td>\n",
       "                        <td id=\"T_626bb3d8_aea3_11ea_89ba_4865ee12e626row5_col1\" class=\"data row5 col1\" >Poker Face</td>\n",
       "                        <td id=\"T_626bb3d8_aea3_11ea_89ba_4865ee12e626row5_col2\" class=\"data row5 col2\" >John</td>\n",
       "                        <td id=\"T_626bb3d8_aea3_11ea_89ba_4865ee12e626row5_col3\" class=\"data row5 col3\" >basement</td>\n",
       "            </tr>\n",
       "            <tr>\n",
       "                        <th id=\"T_626bb3d8_aea3_11ea_89ba_4865ee12e626level0_row6\" class=\"row_heading level0 row6\" >6</th>\n",
       "                        <td id=\"T_626bb3d8_aea3_11ea_89ba_4865ee12e626row6_col0\" class=\"data row6 col0\" >Lady GaGa</td>\n",
       "                        <td id=\"T_626bb3d8_aea3_11ea_89ba_4865ee12e626row6_col1\" class=\"data row6 col1\" >Poker Face</td>\n",
       "                        <td id=\"T_626bb3d8_aea3_11ea_89ba_4865ee12e626row6_col2\" class=\"data row6 col2\" >Joe</td>\n",
       "                        <td id=\"T_626bb3d8_aea3_11ea_89ba_4865ee12e626row6_col3\" class=\"data row6 col3\" >basement</td>\n",
       "            </tr>\n",
       "            <tr>\n",
       "                        <th id=\"T_626bb3d8_aea3_11ea_89ba_4865ee12e626level0_row7\" class=\"row_heading level0 row7\" >7</th>\n",
       "                        <td id=\"T_626bb3d8_aea3_11ea_89ba_4865ee12e626row7_col0\" class=\"data row7 col0\" >Green Day</td>\n",
       "                        <td id=\"T_626bb3d8_aea3_11ea_89ba_4865ee12e626row7_col1\" class=\"data row7 col1\" >Minority</td>\n",
       "                        <td id=\"T_626bb3d8_aea3_11ea_89ba_4865ee12e626row7_col2\" class=\"data row7 col2\" >Carla</td>\n",
       "                        <td id=\"T_626bb3d8_aea3_11ea_89ba_4865ee12e626row7_col3\" class=\"data row7 col3\" >basement</td>\n",
       "            </tr>\n",
       "            <tr>\n",
       "                        <th id=\"T_626bb3d8_aea3_11ea_89ba_4865ee12e626level0_row8\" class=\"row_heading level0 row8\" >8</th>\n",
       "                        <td id=\"T_626bb3d8_aea3_11ea_89ba_4865ee12e626row8_col0\" class=\"data row8 col0\" >Red Hot Chili Peppers</td>\n",
       "                        <td id=\"T_626bb3d8_aea3_11ea_89ba_4865ee12e626row8_col1\" class=\"data row8 col1\" >Otherside</td>\n",
       "                        <td id=\"T_626bb3d8_aea3_11ea_89ba_4865ee12e626row8_col2\" class=\"data row8 col2\" >James</td>\n",
       "                        <td id=\"T_626bb3d8_aea3_11ea_89ba_4865ee12e626row8_col3\" class=\"data row8 col3\" >basement</td>\n",
       "            </tr>\n",
       "            <tr>\n",
       "                        <th id=\"T_626bb3d8_aea3_11ea_89ba_4865ee12e626level0_row9\" class=\"row_heading level0 row9\" >9</th>\n",
       "                        <td id=\"T_626bb3d8_aea3_11ea_89ba_4865ee12e626row9_col0\" class=\"data row9 col0\" >Cartman (South Park)</td>\n",
       "                        <td id=\"T_626bb3d8_aea3_11ea_89ba_4865ee12e626row9_col1\" class=\"data row9 col1\" >Poker Face</td>\n",
       "                        <td id=\"T_626bb3d8_aea3_11ea_89ba_4865ee12e626row9_col2\" class=\"data row9 col2\" >Carla</td>\n",
       "                        <td id=\"T_626bb3d8_aea3_11ea_89ba_4865ee12e626row9_col3\" class=\"data row9 col3\" >basement</td>\n",
       "            </tr>\n",
       "    </tbody></table>"
      ],
      "text/plain": [
       "<pandas.io.formats.style.Styler at 0x1a225e15c0>"
      ]
     },
     "metadata": {},
     "output_type": "display_data"
    },
    {
     "data": {
      "text/html": [
       "<style  type=\"text/css\" >\n",
       "</style><table id=\"T_626c4fa8_aea3_11ea_8594_4865ee12e626\" ><caption>Playlist for back_patio</caption><thead>    <tr>        <th class=\"blank level0\" ></th>        <th class=\"col_heading level0 col0\" >artist</th>        <th class=\"col_heading level0 col1\" >track</th>        <th class=\"col_heading level0 col2\" >Recommended By</th>        <th class=\"col_heading level0 col3\" >Room</th>    </tr></thead><tbody>\n",
       "                <tr>\n",
       "                        <th id=\"T_626c4fa8_aea3_11ea_8594_4865ee12e626level0_row0\" class=\"row_heading level0 row0\" >0</th>\n",
       "                        <td id=\"T_626c4fa8_aea3_11ea_8594_4865ee12e626row0_col0\" class=\"data row0 col0\" >Smashing Pumpkins</td>\n",
       "                        <td id=\"T_626c4fa8_aea3_11ea_8594_4865ee12e626row0_col1\" class=\"data row0 col1\" >Tonight, Tonight</td>\n",
       "                        <td id=\"T_626c4fa8_aea3_11ea_8594_4865ee12e626row0_col2\" class=\"data row0 col2\" >Anne</td>\n",
       "                        <td id=\"T_626c4fa8_aea3_11ea_8594_4865ee12e626row0_col3\" class=\"data row0 col3\" >back_patio</td>\n",
       "            </tr>\n",
       "            <tr>\n",
       "                        <th id=\"T_626c4fa8_aea3_11ea_8594_4865ee12e626level0_row1\" class=\"row_heading level0 row1\" >1</th>\n",
       "                        <td id=\"T_626c4fa8_aea3_11ea_8594_4865ee12e626row1_col0\" class=\"data row1 col0\" >Panic at the Disco</td>\n",
       "                        <td id=\"T_626c4fa8_aea3_11ea_8594_4865ee12e626row1_col1\" class=\"data row1 col1\" >Hallelujah</td>\n",
       "                        <td id=\"T_626c4fa8_aea3_11ea_8594_4865ee12e626row1_col2\" class=\"data row1 col2\" >Samantha</td>\n",
       "                        <td id=\"T_626c4fa8_aea3_11ea_8594_4865ee12e626row1_col3\" class=\"data row1 col3\" >back_patio</td>\n",
       "            </tr>\n",
       "            <tr>\n",
       "                        <th id=\"T_626c4fa8_aea3_11ea_8594_4865ee12e626level0_row2\" class=\"row_heading level0 row2\" >2</th>\n",
       "                        <td id=\"T_626c4fa8_aea3_11ea_8594_4865ee12e626row2_col0\" class=\"data row2 col0\" >Green Day</td>\n",
       "                        <td id=\"T_626c4fa8_aea3_11ea_8594_4865ee12e626row2_col1\" class=\"data row2 col1\" >Time of your Life</td>\n",
       "                        <td id=\"T_626c4fa8_aea3_11ea_8594_4865ee12e626row2_col2\" class=\"data row2 col2\" >Joe</td>\n",
       "                        <td id=\"T_626c4fa8_aea3_11ea_8594_4865ee12e626row2_col3\" class=\"data row2 col3\" >back_patio</td>\n",
       "            </tr>\n",
       "            <tr>\n",
       "                        <th id=\"T_626c4fa8_aea3_11ea_8594_4865ee12e626level0_row3\" class=\"row_heading level0 row3\" >3</th>\n",
       "                        <td id=\"T_626c4fa8_aea3_11ea_8594_4865ee12e626row3_col0\" class=\"data row3 col0\" >Cartman (South Park)</td>\n",
       "                        <td id=\"T_626c4fa8_aea3_11ea_8594_4865ee12e626row3_col1\" class=\"data row3 col1\" >Poker Face</td>\n",
       "                        <td id=\"T_626c4fa8_aea3_11ea_8594_4865ee12e626row3_col2\" class=\"data row3 col2\" >Carla</td>\n",
       "                        <td id=\"T_626c4fa8_aea3_11ea_8594_4865ee12e626row3_col3\" class=\"data row3 col3\" >back_patio</td>\n",
       "            </tr>\n",
       "            <tr>\n",
       "                        <th id=\"T_626c4fa8_aea3_11ea_8594_4865ee12e626level0_row4\" class=\"row_heading level0 row4\" >4</th>\n",
       "                        <td id=\"T_626c4fa8_aea3_11ea_8594_4865ee12e626row4_col0\" class=\"data row4 col0\" >Black Eyed Peas</td>\n",
       "                        <td id=\"T_626c4fa8_aea3_11ea_8594_4865ee12e626row4_col1\" class=\"data row4 col1\" >Let's Get it Started</td>\n",
       "                        <td id=\"T_626c4fa8_aea3_11ea_8594_4865ee12e626row4_col2\" class=\"data row4 col2\" >John</td>\n",
       "                        <td id=\"T_626c4fa8_aea3_11ea_8594_4865ee12e626row4_col3\" class=\"data row4 col3\" >back_patio</td>\n",
       "            </tr>\n",
       "            <tr>\n",
       "                        <th id=\"T_626c4fa8_aea3_11ea_8594_4865ee12e626level0_row5\" class=\"row_heading level0 row5\" >5</th>\n",
       "                        <td id=\"T_626c4fa8_aea3_11ea_8594_4865ee12e626row5_col0\" class=\"data row5 col0\" >Black Eyed Peas</td>\n",
       "                        <td id=\"T_626c4fa8_aea3_11ea_8594_4865ee12e626row5_col1\" class=\"data row5 col1\" >Let's Get it Started</td>\n",
       "                        <td id=\"T_626c4fa8_aea3_11ea_8594_4865ee12e626row5_col2\" class=\"data row5 col2\" >Anne</td>\n",
       "                        <td id=\"T_626c4fa8_aea3_11ea_8594_4865ee12e626row5_col3\" class=\"data row5 col3\" >back_patio</td>\n",
       "            </tr>\n",
       "            <tr>\n",
       "                        <th id=\"T_626c4fa8_aea3_11ea_8594_4865ee12e626level0_row6\" class=\"row_heading level0 row6\" >6</th>\n",
       "                        <td id=\"T_626c4fa8_aea3_11ea_8594_4865ee12e626row6_col0\" class=\"data row6 col0\" >Lady GaGa</td>\n",
       "                        <td id=\"T_626c4fa8_aea3_11ea_8594_4865ee12e626row6_col1\" class=\"data row6 col1\" >Bad Romance</td>\n",
       "                        <td id=\"T_626c4fa8_aea3_11ea_8594_4865ee12e626row6_col2\" class=\"data row6 col2\" >John</td>\n",
       "                        <td id=\"T_626c4fa8_aea3_11ea_8594_4865ee12e626row6_col3\" class=\"data row6 col3\" >back_patio</td>\n",
       "            </tr>\n",
       "            <tr>\n",
       "                        <th id=\"T_626c4fa8_aea3_11ea_8594_4865ee12e626level0_row7\" class=\"row_heading level0 row7\" >7</th>\n",
       "                        <td id=\"T_626c4fa8_aea3_11ea_8594_4865ee12e626row7_col0\" class=\"data row7 col0\" >B-52s</td>\n",
       "                        <td id=\"T_626c4fa8_aea3_11ea_8594_4865ee12e626row7_col1\" class=\"data row7 col1\" >Rock Lobster</td>\n",
       "                        <td id=\"T_626c4fa8_aea3_11ea_8594_4865ee12e626row7_col2\" class=\"data row7 col2\" >Joe</td>\n",
       "                        <td id=\"T_626c4fa8_aea3_11ea_8594_4865ee12e626row7_col3\" class=\"data row7 col3\" >back_patio</td>\n",
       "            </tr>\n",
       "            <tr>\n",
       "                        <th id=\"T_626c4fa8_aea3_11ea_8594_4865ee12e626level0_row8\" class=\"row_heading level0 row8\" >8</th>\n",
       "                        <td id=\"T_626c4fa8_aea3_11ea_8594_4865ee12e626row8_col0\" class=\"data row8 col0\" >Nicki Minaj</td>\n",
       "                        <td id=\"T_626c4fa8_aea3_11ea_8594_4865ee12e626row8_col1\" class=\"data row8 col1\" >Marilyn Monroe</td>\n",
       "                        <td id=\"T_626c4fa8_aea3_11ea_8594_4865ee12e626row8_col2\" class=\"data row8 col2\" >Carla</td>\n",
       "                        <td id=\"T_626c4fa8_aea3_11ea_8594_4865ee12e626row8_col3\" class=\"data row8 col3\" >back_patio</td>\n",
       "            </tr>\n",
       "    </tbody></table>"
      ],
      "text/plain": [
       "<pandas.io.formats.style.Styler at 0x1a225e16d8>"
      ]
     },
     "metadata": {},
     "output_type": "display_data"
    },
    {
     "data": {
      "text/html": [
       "<style  type=\"text/css\" >\n",
       "</style><table id=\"T_626cdec8_aea3_11ea_bfec_4865ee12e626\" ><caption>Playlist for kitchen</caption><thead>    <tr>        <th class=\"blank level0\" ></th>        <th class=\"col_heading level0 col0\" >artist</th>        <th class=\"col_heading level0 col1\" >track</th>        <th class=\"col_heading level0 col2\" >Recommended By</th>        <th class=\"col_heading level0 col3\" >Room</th>    </tr></thead><tbody>\n",
       "                <tr>\n",
       "                        <th id=\"T_626cdec8_aea3_11ea_bfec_4865ee12e626level0_row0\" class=\"row_heading level0 row0\" >0</th>\n",
       "                        <td id=\"T_626cdec8_aea3_11ea_bfec_4865ee12e626row0_col0\" class=\"data row0 col0\" >Red Hot Chili Peppers</td>\n",
       "                        <td id=\"T_626cdec8_aea3_11ea_bfec_4865ee12e626row0_col1\" class=\"data row0 col1\" >Otherside</td>\n",
       "                        <td id=\"T_626cdec8_aea3_11ea_bfec_4865ee12e626row0_col2\" class=\"data row0 col2\" >James</td>\n",
       "                        <td id=\"T_626cdec8_aea3_11ea_bfec_4865ee12e626row0_col3\" class=\"data row0 col3\" >kitchen</td>\n",
       "            </tr>\n",
       "            <tr>\n",
       "                        <th id=\"T_626cdec8_aea3_11ea_bfec_4865ee12e626level0_row1\" class=\"row_heading level0 row1\" >1</th>\n",
       "                        <td id=\"T_626cdec8_aea3_11ea_bfec_4865ee12e626row1_col0\" class=\"data row1 col0\" >Cartman (South Park)</td>\n",
       "                        <td id=\"T_626cdec8_aea3_11ea_bfec_4865ee12e626row1_col1\" class=\"data row1 col1\" >Poker Face</td>\n",
       "                        <td id=\"T_626cdec8_aea3_11ea_bfec_4865ee12e626row1_col2\" class=\"data row1 col2\" >Carla</td>\n",
       "                        <td id=\"T_626cdec8_aea3_11ea_bfec_4865ee12e626row1_col3\" class=\"data row1 col3\" >kitchen</td>\n",
       "            </tr>\n",
       "            <tr>\n",
       "                        <th id=\"T_626cdec8_aea3_11ea_bfec_4865ee12e626level0_row2\" class=\"row_heading level0 row2\" >2</th>\n",
       "                        <td id=\"T_626cdec8_aea3_11ea_bfec_4865ee12e626row2_col0\" class=\"data row2 col0\" >Nicki Minaj</td>\n",
       "                        <td id=\"T_626cdec8_aea3_11ea_bfec_4865ee12e626row2_col1\" class=\"data row2 col1\" >Marilyn Monroe</td>\n",
       "                        <td id=\"T_626cdec8_aea3_11ea_bfec_4865ee12e626row2_col2\" class=\"data row2 col2\" >Carla</td>\n",
       "                        <td id=\"T_626cdec8_aea3_11ea_bfec_4865ee12e626row2_col3\" class=\"data row2 col3\" >kitchen</td>\n",
       "            </tr>\n",
       "            <tr>\n",
       "                        <th id=\"T_626cdec8_aea3_11ea_bfec_4865ee12e626level0_row3\" class=\"row_heading level0 row3\" >3</th>\n",
       "                        <td id=\"T_626cdec8_aea3_11ea_bfec_4865ee12e626row3_col0\" class=\"data row3 col0\" >Nicki Minaj</td>\n",
       "                        <td id=\"T_626cdec8_aea3_11ea_bfec_4865ee12e626row3_col1\" class=\"data row3 col1\" >Right By My Side</td>\n",
       "                        <td id=\"T_626cdec8_aea3_11ea_bfec_4865ee12e626row3_col2\" class=\"data row3 col2\" >Carla</td>\n",
       "                        <td id=\"T_626cdec8_aea3_11ea_bfec_4865ee12e626row3_col3\" class=\"data row3 col3\" >kitchen</td>\n",
       "            </tr>\n",
       "            <tr>\n",
       "                        <th id=\"T_626cdec8_aea3_11ea_bfec_4865ee12e626level0_row4\" class=\"row_heading level0 row4\" >4</th>\n",
       "                        <td id=\"T_626cdec8_aea3_11ea_bfec_4865ee12e626row4_col0\" class=\"data row4 col0\" >Lady GaGa</td>\n",
       "                        <td id=\"T_626cdec8_aea3_11ea_bfec_4865ee12e626row4_col1\" class=\"data row4 col1\" >Poker Face</td>\n",
       "                        <td id=\"T_626cdec8_aea3_11ea_bfec_4865ee12e626row4_col2\" class=\"data row4 col2\" >John</td>\n",
       "                        <td id=\"T_626cdec8_aea3_11ea_bfec_4865ee12e626row4_col3\" class=\"data row4 col3\" >kitchen</td>\n",
       "            </tr>\n",
       "            <tr>\n",
       "                        <th id=\"T_626cdec8_aea3_11ea_bfec_4865ee12e626level0_row5\" class=\"row_heading level0 row5\" >5</th>\n",
       "                        <td id=\"T_626cdec8_aea3_11ea_bfec_4865ee12e626row5_col0\" class=\"data row5 col0\" >Rilo Kiley</td>\n",
       "                        <td id=\"T_626cdec8_aea3_11ea_bfec_4865ee12e626row5_col1\" class=\"data row5 col1\" >With Arms Outstretched</td>\n",
       "                        <td id=\"T_626cdec8_aea3_11ea_bfec_4865ee12e626row5_col2\" class=\"data row5 col2\" >James</td>\n",
       "                        <td id=\"T_626cdec8_aea3_11ea_bfec_4865ee12e626row5_col3\" class=\"data row5 col3\" >kitchen</td>\n",
       "            </tr>\n",
       "            <tr>\n",
       "                        <th id=\"T_626cdec8_aea3_11ea_bfec_4865ee12e626level0_row6\" class=\"row_heading level0 row6\" >6</th>\n",
       "                        <td id=\"T_626cdec8_aea3_11ea_bfec_4865ee12e626row6_col0\" class=\"data row6 col0\" >Lady GaGa</td>\n",
       "                        <td id=\"T_626cdec8_aea3_11ea_bfec_4865ee12e626row6_col1\" class=\"data row6 col1\" >Poker Face</td>\n",
       "                        <td id=\"T_626cdec8_aea3_11ea_bfec_4865ee12e626row6_col2\" class=\"data row6 col2\" >Joe</td>\n",
       "                        <td id=\"T_626cdec8_aea3_11ea_bfec_4865ee12e626row6_col3\" class=\"data row6 col3\" >kitchen</td>\n",
       "            </tr>\n",
       "            <tr>\n",
       "                        <th id=\"T_626cdec8_aea3_11ea_bfec_4865ee12e626level0_row7\" class=\"row_heading level0 row7\" >7</th>\n",
       "                        <td id=\"T_626cdec8_aea3_11ea_bfec_4865ee12e626row7_col0\" class=\"data row7 col0\" >Lady GaGa</td>\n",
       "                        <td id=\"T_626cdec8_aea3_11ea_bfec_4865ee12e626row7_col1\" class=\"data row7 col1\" >Bad Romance</td>\n",
       "                        <td id=\"T_626cdec8_aea3_11ea_bfec_4865ee12e626row7_col2\" class=\"data row7 col2\" >John</td>\n",
       "                        <td id=\"T_626cdec8_aea3_11ea_bfec_4865ee12e626row7_col3\" class=\"data row7 col3\" >kitchen</td>\n",
       "            </tr>\n",
       "    </tbody></table>"
      ],
      "text/plain": [
       "<pandas.io.formats.style.Styler at 0x1a225e17f0>"
      ]
     },
     "metadata": {},
     "output_type": "display_data"
    },
    {
     "data": {
      "text/plain": [
       "dict_keys(['living_room', 'basement', 'back_patio', 'kitchen'])"
      ]
     },
     "execution_count": 53,
     "metadata": {},
     "output_type": "execute_result"
    }
   ],
   "source": [
    "house_party = dict(living_room = df.sample(12,random_state=12).reset_index(drop=True).copy(),\n",
    "                   basement = df.sample(10,random_state=321).reset_index(drop=True).copy(), \n",
    "                   back_patio = df.sample(9,random_state=42).reset_index(drop=True).copy(),\n",
    "                  kitchen=df.sample(8,random_state=3210).reset_index(drop=True).copy())\n",
    "\n",
    "for k,v in house_party.items():\n",
    "    v['Room'] = k \n",
    "    display(v.style.set_caption(f\"Playlist for {k}\"))\n",
    "\n",
    "house_party.keys()"
   ]
  },
  {
   "cell_type": "code",
   "execution_count": 54,
   "metadata": {
    "ExecuteTime": {
     "end_time": "2020-06-15T00:58:54.258009Z",
     "start_time": "2020-06-15T00:58:54.249664Z"
    }
   },
   "outputs": [
    {
     "data": {
      "text/html": [
       "<div>\n",
       "<style scoped>\n",
       "    .dataframe tbody tr th:only-of-type {\n",
       "        vertical-align: middle;\n",
       "    }\n",
       "\n",
       "    .dataframe tbody tr th {\n",
       "        vertical-align: top;\n",
       "    }\n",
       "\n",
       "    .dataframe thead th {\n",
       "        text-align: right;\n",
       "    }\n",
       "</style>\n",
       "<table border=\"1\" class=\"dataframe\">\n",
       "  <thead>\n",
       "    <tr style=\"text-align: right;\">\n",
       "      <th></th>\n",
       "      <th>artist</th>\n",
       "      <th>track</th>\n",
       "      <th>Recommended By</th>\n",
       "      <th>Room</th>\n",
       "    </tr>\n",
       "  </thead>\n",
       "  <tbody>\n",
       "    <tr>\n",
       "      <td>0</td>\n",
       "      <td>Cartman (South Park)</td>\n",
       "      <td>Poker Face</td>\n",
       "      <td>Carla</td>\n",
       "      <td>living_room</td>\n",
       "    </tr>\n",
       "    <tr>\n",
       "      <td>1</td>\n",
       "      <td>Green Day</td>\n",
       "      <td>Minority</td>\n",
       "      <td>Carla</td>\n",
       "      <td>living_room</td>\n",
       "    </tr>\n",
       "    <tr>\n",
       "      <td>2</td>\n",
       "      <td>Red Hot Chili Peppers</td>\n",
       "      <td>Otherside</td>\n",
       "      <td>James</td>\n",
       "      <td>living_room</td>\n",
       "    </tr>\n",
       "    <tr>\n",
       "      <td>3</td>\n",
       "      <td>Lady GaGa</td>\n",
       "      <td>Just Dance</td>\n",
       "      <td>John</td>\n",
       "      <td>living_room</td>\n",
       "    </tr>\n",
       "    <tr>\n",
       "      <td>4</td>\n",
       "      <td>Green Day</td>\n",
       "      <td>Time of your Life</td>\n",
       "      <td>Anne</td>\n",
       "      <td>living_room</td>\n",
       "    </tr>\n",
       "    <tr>\n",
       "      <td>5</td>\n",
       "      <td>Lady GaGa</td>\n",
       "      <td>Bad Romance</td>\n",
       "      <td>John</td>\n",
       "      <td>living_room</td>\n",
       "    </tr>\n",
       "    <tr>\n",
       "      <td>6</td>\n",
       "      <td>Smashing Pumpkins</td>\n",
       "      <td>Tonight, Tonight</td>\n",
       "      <td>Anne</td>\n",
       "      <td>living_room</td>\n",
       "    </tr>\n",
       "    <tr>\n",
       "      <td>7</td>\n",
       "      <td>Nicki Minaj</td>\n",
       "      <td>Marilyn Monroe</td>\n",
       "      <td>Carla</td>\n",
       "      <td>living_room</td>\n",
       "    </tr>\n",
       "    <tr>\n",
       "      <td>8</td>\n",
       "      <td>Green Day</td>\n",
       "      <td>Time of your Life</td>\n",
       "      <td>Joe</td>\n",
       "      <td>living_room</td>\n",
       "    </tr>\n",
       "    <tr>\n",
       "      <td>9</td>\n",
       "      <td>Black Eyed Peas</td>\n",
       "      <td>Let's Get it Started</td>\n",
       "      <td>Samantha</td>\n",
       "      <td>living_room</td>\n",
       "    </tr>\n",
       "    <tr>\n",
       "      <td>10</td>\n",
       "      <td>Kelly Clarkson</td>\n",
       "      <td>Since You've Been Gone</td>\n",
       "      <td>Carla</td>\n",
       "      <td>living_room</td>\n",
       "    </tr>\n",
       "    <tr>\n",
       "      <td>11</td>\n",
       "      <td>Black Eyed Peas</td>\n",
       "      <td>Let's Get it Started</td>\n",
       "      <td>Anne</td>\n",
       "      <td>living_room</td>\n",
       "    </tr>\n",
       "  </tbody>\n",
       "</table>\n",
       "</div>"
      ],
      "text/plain": [
       "                   artist                   track Recommended By         Room\n",
       "0    Cartman (South Park)              Poker Face          Carla  living_room\n",
       "1               Green Day                Minority          Carla  living_room\n",
       "2   Red Hot Chili Peppers               Otherside          James  living_room\n",
       "3               Lady GaGa              Just Dance           John  living_room\n",
       "4               Green Day       Time of your Life           Anne  living_room\n",
       "5               Lady GaGa             Bad Romance           John  living_room\n",
       "6       Smashing Pumpkins        Tonight, Tonight           Anne  living_room\n",
       "7             Nicki Minaj          Marilyn Monroe          Carla  living_room\n",
       "8               Green Day       Time of your Life            Joe  living_room\n",
       "9         Black Eyed Peas    Let's Get it Started       Samantha  living_room\n",
       "10         Kelly Clarkson  Since You've Been Gone          Carla  living_room\n",
       "11        Black Eyed Peas    Let's Get it Started           Anne  living_room"
      ]
     },
     "execution_count": 54,
     "metadata": {},
     "output_type": "execute_result"
    }
   ],
   "source": [
    "house_party['living_room']"
   ]
  },
  {
   "cell_type": "markdown",
   "metadata": {},
   "source": [
    "#### Q1: What is the probability of hearing a Green Day song at the house party at any given moment?"
   ]
  },
  {
   "cell_type": "markdown",
   "metadata": {},
   "source": [
    "####  To Calculate $P(GD)$ for a Room\n",
    "\n",
    "$$ P(\\text{Green Day})=\\sum_i P(\\text{Green Day} \\mid \\text{Room}_i)P(\\text{Room}_i)$$\n",
    "\n",
    "- Q: **With our 4 rooms, what would our equation look like?**\n",
    "    - What is the probability of being in each room?"
   ]
  },
  {
   "cell_type": "markdown",
   "metadata": {},
   "source": [
    "- A:\n",
    "$$P(\\text{Green Day})= P(GD|Room1)\\times \\frac{1}{4} + P(GD|Room2)\\times \\frac{1}{4} + P(GD|Room3)\\times \\frac{1}{4} + P(GD|Room4)\\times \\frac{1}{4} $$"
   ]
  },
  {
   "cell_type": "code",
   "execution_count": 55,
   "metadata": {
    "ExecuteTime": {
     "end_time": "2020-06-15T00:58:54.263211Z",
     "start_time": "2020-06-15T00:58:54.259409Z"
    }
   },
   "outputs": [
    {
     "data": {
      "text/plain": [
       "{'living_room': 0.25, 'basement': 0.25, 'back_patio': 0.25, 'kitchen': 0.25}"
      ]
     },
     "execution_count": 55,
     "metadata": {},
     "output_type": "execute_result"
    }
   ],
   "source": [
    "## Make a dictionary of prob of being in each room\n",
    "house_party_room_odds = {'living_room':0.25, 'basement':0.25,\n",
    "                         'back_patio':0.25, 'kitchen':0.25}#]\n",
    "house_party_room_odds"
   ]
  },
  {
   "cell_type": "code",
   "execution_count": 56,
   "metadata": {
    "ExecuteTime": {
     "end_time": "2020-06-15T00:58:54.269885Z",
     "start_time": "2020-06-15T00:58:54.264595Z"
    }
   },
   "outputs": [
    {
     "data": {
      "text/plain": [
       "Green Day                3\n",
       "Lady GaGa                2\n",
       "Black Eyed Peas          2\n",
       "Smashing Pumpkins        1\n",
       "Cartman (South Park)     1\n",
       "Red Hot Chili Peppers    1\n",
       "Kelly Clarkson           1\n",
       "Nicki Minaj              1\n",
       "Name: artist, dtype: int64"
      ]
     },
     "execution_count": 56,
     "metadata": {},
     "output_type": "execute_result"
    }
   ],
   "source": [
    "liv_room_artists = house_party['living_room']['artist'].value_counts()\n",
    "liv_room_artists"
   ]
  },
  {
   "cell_type": "code",
   "execution_count": 57,
   "metadata": {
    "ExecuteTime": {
     "end_time": "2020-06-15T00:58:54.274898Z",
     "start_time": "2020-06-15T00:58:54.271227Z"
    }
   },
   "outputs": [
    {
     "data": {
      "text/plain": [
       "0.25"
      ]
     },
     "execution_count": 57,
     "metadata": {},
     "output_type": "execute_result"
    }
   ],
   "source": [
    "P_gd_given_liv_room = liv_room_artists.loc['Green Day'] /sum(liv_room_artists)\n",
    "P_gd_given_liv_room"
   ]
  },
  {
   "cell_type": "code",
   "execution_count": 58,
   "metadata": {
    "ExecuteTime": {
     "end_time": "2020-06-15T00:58:54.280482Z",
     "start_time": "2020-06-15T00:58:54.277103Z"
    }
   },
   "outputs": [
    {
     "data": {
      "text/plain": [
       "0.0625"
      ]
     },
     "execution_count": 58,
     "metadata": {},
     "output_type": "execute_result"
    }
   ],
   "source": [
    "P_gd_room1 = P_gd_given_liv_room * house_party_room_odds['living_room']\n",
    "P_gd_room1"
   ]
  },
  {
   "cell_type": "code",
   "execution_count": 59,
   "metadata": {
    "ExecuteTime": {
     "end_time": "2020-06-15T00:58:54.286952Z",
     "start_time": "2020-06-15T00:58:54.282203Z"
    }
   },
   "outputs": [],
   "source": [
    "def get_prob_by_room(house_party, room,sample_column,outcome,display_counts=True):\n",
    "    \"\"\"Calculates the probability of a certain outcome from a specific room\"\"\"\n",
    "    \n",
    "    res = house_party[room][sample_column].value_counts()\n",
    "    \n",
    "    if display_counts:\n",
    "        caption =f\"{sample_column.title()} Counts for {room.title()} (Total= {sum(res)})\"\n",
    "        display(res.to_frame().style.set_caption(caption))#\": {sample_column}={outcome}\"))\n",
    "        \n",
    "    ## In case the song/artist doesn't exist  \n",
    "    try:\n",
    "        prob = res.loc[outcome] / sum(res)\n",
    "    except KeyError:\n",
    "        print(f'{outcome} not found.')\n",
    "        prob=0\n",
    "        \n",
    "    return prob"
   ]
  },
  {
   "cell_type": "code",
   "execution_count": 60,
   "metadata": {
    "ExecuteTime": {
     "end_time": "2020-06-15T00:58:54.295684Z",
     "start_time": "2020-06-15T00:58:54.288294Z"
    }
   },
   "outputs": [
    {
     "data": {
      "text/html": [
       "<style  type=\"text/css\" >\n",
       "</style><table id=\"T_62744258_aea3_11ea_9713_4865ee12e626\" ><caption>Artist Counts for Living_Room (Total= 12)</caption><thead>    <tr>        <th class=\"blank level0\" ></th>        <th class=\"col_heading level0 col0\" >artist</th>    </tr></thead><tbody>\n",
       "                <tr>\n",
       "                        <th id=\"T_62744258_aea3_11ea_9713_4865ee12e626level0_row0\" class=\"row_heading level0 row0\" >Green Day</th>\n",
       "                        <td id=\"T_62744258_aea3_11ea_9713_4865ee12e626row0_col0\" class=\"data row0 col0\" >3</td>\n",
       "            </tr>\n",
       "            <tr>\n",
       "                        <th id=\"T_62744258_aea3_11ea_9713_4865ee12e626level0_row1\" class=\"row_heading level0 row1\" >Lady GaGa</th>\n",
       "                        <td id=\"T_62744258_aea3_11ea_9713_4865ee12e626row1_col0\" class=\"data row1 col0\" >2</td>\n",
       "            </tr>\n",
       "            <tr>\n",
       "                        <th id=\"T_62744258_aea3_11ea_9713_4865ee12e626level0_row2\" class=\"row_heading level0 row2\" >Black Eyed Peas</th>\n",
       "                        <td id=\"T_62744258_aea3_11ea_9713_4865ee12e626row2_col0\" class=\"data row2 col0\" >2</td>\n",
       "            </tr>\n",
       "            <tr>\n",
       "                        <th id=\"T_62744258_aea3_11ea_9713_4865ee12e626level0_row3\" class=\"row_heading level0 row3\" >Smashing Pumpkins</th>\n",
       "                        <td id=\"T_62744258_aea3_11ea_9713_4865ee12e626row3_col0\" class=\"data row3 col0\" >1</td>\n",
       "            </tr>\n",
       "            <tr>\n",
       "                        <th id=\"T_62744258_aea3_11ea_9713_4865ee12e626level0_row4\" class=\"row_heading level0 row4\" >Cartman (South Park)</th>\n",
       "                        <td id=\"T_62744258_aea3_11ea_9713_4865ee12e626row4_col0\" class=\"data row4 col0\" >1</td>\n",
       "            </tr>\n",
       "            <tr>\n",
       "                        <th id=\"T_62744258_aea3_11ea_9713_4865ee12e626level0_row5\" class=\"row_heading level0 row5\" >Red Hot Chili Peppers</th>\n",
       "                        <td id=\"T_62744258_aea3_11ea_9713_4865ee12e626row5_col0\" class=\"data row5 col0\" >1</td>\n",
       "            </tr>\n",
       "            <tr>\n",
       "                        <th id=\"T_62744258_aea3_11ea_9713_4865ee12e626level0_row6\" class=\"row_heading level0 row6\" >Kelly Clarkson</th>\n",
       "                        <td id=\"T_62744258_aea3_11ea_9713_4865ee12e626row6_col0\" class=\"data row6 col0\" >1</td>\n",
       "            </tr>\n",
       "            <tr>\n",
       "                        <th id=\"T_62744258_aea3_11ea_9713_4865ee12e626level0_row7\" class=\"row_heading level0 row7\" >Nicki Minaj</th>\n",
       "                        <td id=\"T_62744258_aea3_11ea_9713_4865ee12e626row7_col0\" class=\"data row7 col0\" >1</td>\n",
       "            </tr>\n",
       "    </tbody></table>"
      ],
      "text/plain": [
       "<pandas.io.formats.style.Styler at 0x1a225e1208>"
      ]
     },
     "metadata": {},
     "output_type": "display_data"
    },
    {
     "data": {
      "text/plain": [
       "0.25"
      ]
     },
     "execution_count": 60,
     "metadata": {},
     "output_type": "execute_result"
    }
   ],
   "source": [
    "get_prob_by_room(house_party,'living_room','artist','Green Day')"
   ]
  },
  {
   "cell_type": "code",
   "execution_count": 61,
   "metadata": {
    "ExecuteTime": {
     "end_time": "2020-06-15T00:58:54.300127Z",
     "start_time": "2020-06-15T00:58:54.296852Z"
    }
   },
   "outputs": [
    {
     "data": {
      "text/plain": [
       "dict_keys(['living_room', 'basement', 'back_patio', 'kitchen'])"
      ]
     },
     "execution_count": 61,
     "metadata": {},
     "output_type": "execute_result"
    }
   ],
   "source": [
    "house_party.keys()"
   ]
  },
  {
   "cell_type": "code",
   "execution_count": 62,
   "metadata": {
    "ExecuteTime": {
     "end_time": "2020-06-15T00:58:54.322792Z",
     "start_time": "2020-06-15T00:58:54.301485Z"
    }
   },
   "outputs": [
    {
     "data": {
      "text/html": [
       "<style  type=\"text/css\" >\n",
       "</style><table id=\"T_62768f18_aea3_11ea_a80d_4865ee12e626\" ><caption>Artist Counts for Living_Room (Total= 12)</caption><thead>    <tr>        <th class=\"blank level0\" ></th>        <th class=\"col_heading level0 col0\" >artist</th>    </tr></thead><tbody>\n",
       "                <tr>\n",
       "                        <th id=\"T_62768f18_aea3_11ea_a80d_4865ee12e626level0_row0\" class=\"row_heading level0 row0\" >Green Day</th>\n",
       "                        <td id=\"T_62768f18_aea3_11ea_a80d_4865ee12e626row0_col0\" class=\"data row0 col0\" >3</td>\n",
       "            </tr>\n",
       "            <tr>\n",
       "                        <th id=\"T_62768f18_aea3_11ea_a80d_4865ee12e626level0_row1\" class=\"row_heading level0 row1\" >Lady GaGa</th>\n",
       "                        <td id=\"T_62768f18_aea3_11ea_a80d_4865ee12e626row1_col0\" class=\"data row1 col0\" >2</td>\n",
       "            </tr>\n",
       "            <tr>\n",
       "                        <th id=\"T_62768f18_aea3_11ea_a80d_4865ee12e626level0_row2\" class=\"row_heading level0 row2\" >Black Eyed Peas</th>\n",
       "                        <td id=\"T_62768f18_aea3_11ea_a80d_4865ee12e626row2_col0\" class=\"data row2 col0\" >2</td>\n",
       "            </tr>\n",
       "            <tr>\n",
       "                        <th id=\"T_62768f18_aea3_11ea_a80d_4865ee12e626level0_row3\" class=\"row_heading level0 row3\" >Smashing Pumpkins</th>\n",
       "                        <td id=\"T_62768f18_aea3_11ea_a80d_4865ee12e626row3_col0\" class=\"data row3 col0\" >1</td>\n",
       "            </tr>\n",
       "            <tr>\n",
       "                        <th id=\"T_62768f18_aea3_11ea_a80d_4865ee12e626level0_row4\" class=\"row_heading level0 row4\" >Cartman (South Park)</th>\n",
       "                        <td id=\"T_62768f18_aea3_11ea_a80d_4865ee12e626row4_col0\" class=\"data row4 col0\" >1</td>\n",
       "            </tr>\n",
       "            <tr>\n",
       "                        <th id=\"T_62768f18_aea3_11ea_a80d_4865ee12e626level0_row5\" class=\"row_heading level0 row5\" >Red Hot Chili Peppers</th>\n",
       "                        <td id=\"T_62768f18_aea3_11ea_a80d_4865ee12e626row5_col0\" class=\"data row5 col0\" >1</td>\n",
       "            </tr>\n",
       "            <tr>\n",
       "                        <th id=\"T_62768f18_aea3_11ea_a80d_4865ee12e626level0_row6\" class=\"row_heading level0 row6\" >Kelly Clarkson</th>\n",
       "                        <td id=\"T_62768f18_aea3_11ea_a80d_4865ee12e626row6_col0\" class=\"data row6 col0\" >1</td>\n",
       "            </tr>\n",
       "            <tr>\n",
       "                        <th id=\"T_62768f18_aea3_11ea_a80d_4865ee12e626level0_row7\" class=\"row_heading level0 row7\" >Nicki Minaj</th>\n",
       "                        <td id=\"T_62768f18_aea3_11ea_a80d_4865ee12e626row7_col0\" class=\"data row7 col0\" >1</td>\n",
       "            </tr>\n",
       "    </tbody></table>"
      ],
      "text/plain": [
       "<pandas.io.formats.style.Styler at 0x1a201ed240>"
      ]
     },
     "metadata": {},
     "output_type": "display_data"
    },
    {
     "name": "stdout",
     "output_type": "stream",
     "text": [
      "Prob living_room = 0.25 * 0.25 = 0.062\n"
     ]
    },
    {
     "data": {
      "text/html": [
       "<style  type=\"text/css\" >\n",
       "</style><table id=\"T_62773a76_aea3_11ea_8c25_4865ee12e626\" ><caption>Artist Counts for Basement (Total= 10)</caption><thead>    <tr>        <th class=\"blank level0\" ></th>        <th class=\"col_heading level0 col0\" >artist</th>    </tr></thead><tbody>\n",
       "                <tr>\n",
       "                        <th id=\"T_62773a76_aea3_11ea_8c25_4865ee12e626level0_row0\" class=\"row_heading level0 row0\" >Lady GaGa</th>\n",
       "                        <td id=\"T_62773a76_aea3_11ea_8c25_4865ee12e626row0_col0\" class=\"data row0 col0\" >3</td>\n",
       "            </tr>\n",
       "            <tr>\n",
       "                        <th id=\"T_62773a76_aea3_11ea_8c25_4865ee12e626level0_row1\" class=\"row_heading level0 row1\" >Green Day</th>\n",
       "                        <td id=\"T_62773a76_aea3_11ea_8c25_4865ee12e626row1_col0\" class=\"data row1 col0\" >2</td>\n",
       "            </tr>\n",
       "            <tr>\n",
       "                        <th id=\"T_62773a76_aea3_11ea_8c25_4865ee12e626level0_row2\" class=\"row_heading level0 row2\" >Red Hot Chili Peppers</th>\n",
       "                        <td id=\"T_62773a76_aea3_11ea_8c25_4865ee12e626row2_col0\" class=\"data row2 col0\" >1</td>\n",
       "            </tr>\n",
       "            <tr>\n",
       "                        <th id=\"T_62773a76_aea3_11ea_8c25_4865ee12e626level0_row3\" class=\"row_heading level0 row3\" >Panic at the Disco</th>\n",
       "                        <td id=\"T_62773a76_aea3_11ea_8c25_4865ee12e626row3_col0\" class=\"data row3 col0\" >1</td>\n",
       "            </tr>\n",
       "            <tr>\n",
       "                        <th id=\"T_62773a76_aea3_11ea_8c25_4865ee12e626level0_row4\" class=\"row_heading level0 row4\" >Cartman (South Park)</th>\n",
       "                        <td id=\"T_62773a76_aea3_11ea_8c25_4865ee12e626row4_col0\" class=\"data row4 col0\" >1</td>\n",
       "            </tr>\n",
       "            <tr>\n",
       "                        <th id=\"T_62773a76_aea3_11ea_8c25_4865ee12e626level0_row5\" class=\"row_heading level0 row5\" >John Lennon</th>\n",
       "                        <td id=\"T_62773a76_aea3_11ea_8c25_4865ee12e626row5_col0\" class=\"data row5 col0\" >1</td>\n",
       "            </tr>\n",
       "            <tr>\n",
       "                        <th id=\"T_62773a76_aea3_11ea_8c25_4865ee12e626level0_row6\" class=\"row_heading level0 row6\" >Kelly Clarkson</th>\n",
       "                        <td id=\"T_62773a76_aea3_11ea_8c25_4865ee12e626row6_col0\" class=\"data row6 col0\" >1</td>\n",
       "            </tr>\n",
       "    </tbody></table>"
      ],
      "text/plain": [
       "<pandas.io.formats.style.Styler at 0x1a1fcf1e10>"
      ]
     },
     "metadata": {},
     "output_type": "display_data"
    },
    {
     "name": "stdout",
     "output_type": "stream",
     "text": [
      "Prob basement = 0.2 * 0.25 = 0.05\n"
     ]
    },
    {
     "data": {
      "text/html": [
       "<style  type=\"text/css\" >\n",
       "</style><table id=\"T_6277dc42_aea3_11ea_822a_4865ee12e626\" ><caption>Artist Counts for Back_Patio (Total= 9)</caption><thead>    <tr>        <th class=\"blank level0\" ></th>        <th class=\"col_heading level0 col0\" >artist</th>    </tr></thead><tbody>\n",
       "                <tr>\n",
       "                        <th id=\"T_6277dc42_aea3_11ea_822a_4865ee12e626level0_row0\" class=\"row_heading level0 row0\" >Black Eyed Peas</th>\n",
       "                        <td id=\"T_6277dc42_aea3_11ea_822a_4865ee12e626row0_col0\" class=\"data row0 col0\" >2</td>\n",
       "            </tr>\n",
       "            <tr>\n",
       "                        <th id=\"T_6277dc42_aea3_11ea_822a_4865ee12e626level0_row1\" class=\"row_heading level0 row1\" >Smashing Pumpkins</th>\n",
       "                        <td id=\"T_6277dc42_aea3_11ea_822a_4865ee12e626row1_col0\" class=\"data row1 col0\" >1</td>\n",
       "            </tr>\n",
       "            <tr>\n",
       "                        <th id=\"T_6277dc42_aea3_11ea_822a_4865ee12e626level0_row2\" class=\"row_heading level0 row2\" >Cartman (South Park)</th>\n",
       "                        <td id=\"T_6277dc42_aea3_11ea_822a_4865ee12e626row2_col0\" class=\"data row2 col0\" >1</td>\n",
       "            </tr>\n",
       "            <tr>\n",
       "                        <th id=\"T_6277dc42_aea3_11ea_822a_4865ee12e626level0_row3\" class=\"row_heading level0 row3\" >Panic at the Disco</th>\n",
       "                        <td id=\"T_6277dc42_aea3_11ea_822a_4865ee12e626row3_col0\" class=\"data row3 col0\" >1</td>\n",
       "            </tr>\n",
       "            <tr>\n",
       "                        <th id=\"T_6277dc42_aea3_11ea_822a_4865ee12e626level0_row4\" class=\"row_heading level0 row4\" >Lady GaGa</th>\n",
       "                        <td id=\"T_6277dc42_aea3_11ea_822a_4865ee12e626row4_col0\" class=\"data row4 col0\" >1</td>\n",
       "            </tr>\n",
       "            <tr>\n",
       "                        <th id=\"T_6277dc42_aea3_11ea_822a_4865ee12e626level0_row5\" class=\"row_heading level0 row5\" >B-52s</th>\n",
       "                        <td id=\"T_6277dc42_aea3_11ea_822a_4865ee12e626row5_col0\" class=\"data row5 col0\" >1</td>\n",
       "            </tr>\n",
       "            <tr>\n",
       "                        <th id=\"T_6277dc42_aea3_11ea_822a_4865ee12e626level0_row6\" class=\"row_heading level0 row6\" >Green Day</th>\n",
       "                        <td id=\"T_6277dc42_aea3_11ea_822a_4865ee12e626row6_col0\" class=\"data row6 col0\" >1</td>\n",
       "            </tr>\n",
       "            <tr>\n",
       "                        <th id=\"T_6277dc42_aea3_11ea_822a_4865ee12e626level0_row7\" class=\"row_heading level0 row7\" >Nicki Minaj</th>\n",
       "                        <td id=\"T_6277dc42_aea3_11ea_822a_4865ee12e626row7_col0\" class=\"data row7 col0\" >1</td>\n",
       "            </tr>\n",
       "    </tbody></table>"
      ],
      "text/plain": [
       "<pandas.io.formats.style.Styler at 0x1a225e17f0>"
      ]
     },
     "metadata": {},
     "output_type": "display_data"
    },
    {
     "name": "stdout",
     "output_type": "stream",
     "text": [
      "Prob back_patio = 0.11 * 0.25 = 0.028\n"
     ]
    },
    {
     "data": {
      "text/html": [
       "<style  type=\"text/css\" >\n",
       "</style><table id=\"T_627882fa_aea3_11ea_ac61_4865ee12e626\" ><caption>Artist Counts for Kitchen (Total= 8)</caption><thead>    <tr>        <th class=\"blank level0\" ></th>        <th class=\"col_heading level0 col0\" >artist</th>    </tr></thead><tbody>\n",
       "                <tr>\n",
       "                        <th id=\"T_627882fa_aea3_11ea_ac61_4865ee12e626level0_row0\" class=\"row_heading level0 row0\" >Lady GaGa</th>\n",
       "                        <td id=\"T_627882fa_aea3_11ea_ac61_4865ee12e626row0_col0\" class=\"data row0 col0\" >3</td>\n",
       "            </tr>\n",
       "            <tr>\n",
       "                        <th id=\"T_627882fa_aea3_11ea_ac61_4865ee12e626level0_row1\" class=\"row_heading level0 row1\" >Nicki Minaj</th>\n",
       "                        <td id=\"T_627882fa_aea3_11ea_ac61_4865ee12e626row1_col0\" class=\"data row1 col0\" >2</td>\n",
       "            </tr>\n",
       "            <tr>\n",
       "                        <th id=\"T_627882fa_aea3_11ea_ac61_4865ee12e626level0_row2\" class=\"row_heading level0 row2\" >Red Hot Chili Peppers</th>\n",
       "                        <td id=\"T_627882fa_aea3_11ea_ac61_4865ee12e626row2_col0\" class=\"data row2 col0\" >1</td>\n",
       "            </tr>\n",
       "            <tr>\n",
       "                        <th id=\"T_627882fa_aea3_11ea_ac61_4865ee12e626level0_row3\" class=\"row_heading level0 row3\" >Rilo Kiley</th>\n",
       "                        <td id=\"T_627882fa_aea3_11ea_ac61_4865ee12e626row3_col0\" class=\"data row3 col0\" >1</td>\n",
       "            </tr>\n",
       "            <tr>\n",
       "                        <th id=\"T_627882fa_aea3_11ea_ac61_4865ee12e626level0_row4\" class=\"row_heading level0 row4\" >Cartman (South Park)</th>\n",
       "                        <td id=\"T_627882fa_aea3_11ea_ac61_4865ee12e626row4_col0\" class=\"data row4 col0\" >1</td>\n",
       "            </tr>\n",
       "    </tbody></table>"
      ],
      "text/plain": [
       "<pandas.io.formats.style.Styler at 0x1a201ed390>"
      ]
     },
     "metadata": {},
     "output_type": "display_data"
    },
    {
     "name": "stdout",
     "output_type": "stream",
     "text": [
      "Green Day not found.\n",
      "Prob kitchen = 0 * 0.25 = 0.0\n",
      "\n",
      "\n",
      "[i] The total probability of hearing Green Day at the party is 0.14\n"
     ]
    }
   ],
   "source": [
    "## NOW CREATE A FOR LOOP TO CALCULATE THE TOTAL PROB OF HEARING GREEN DAY\n",
    "total_prob_green_day = 0\n",
    "sample_column='artist'\n",
    "event='Green Day'\n",
    "\n",
    "## For each room in the house party\n",
    "for room in house_party:\n",
    "    \n",
    "    ## Get prob of event from room's space\n",
    "    prob_event = get_prob_by_room(house_party,room,sample_column,event,\n",
    "                                  display_counts=True)\n",
    "    \n",
    "    ## Get prob of being in taht specific room\n",
    "    prob_room = house_party_room_odds[room]\n",
    "       \n",
    "    ## Calculate P_GD x P_Room\n",
    "    prob_green_day_room = prob_event * prob_room #* house_party_room_odds[room]\n",
    "    \n",
    "    ## \n",
    "    total_prob_green_day = total_prob_green_day + prob_green_day_room\n",
    "    \n",
    "    print(f\"Prob {room} = {round(prob_event,2)} * {prob_room} = {round(prob_green_day_room,3)}\")\n",
    "\n",
    "print(f\"\\n\\n[i] The total probability of hearing Green Day at the party is {round(total_prob_green_day,3)}\")\n",
    "    "
   ]
  },
  {
   "cell_type": "markdown",
   "metadata": {},
   "source": [
    "### But wait...what if we have unequal probabilties for being in each room?\n",
    "\n"
   ]
  },
  {
   "cell_type": "markdown",
   "metadata": {},
   "source": [
    "- The True prob of people being in each room is determined by what is going on in that room.\n",
    "    - The snacks are in the kitchen (prob=0.4)\n",
    "    - The drinks/bar is on the back patio (prob=0.3).\n",
    "    - The living room and basement have no special amenities. (prob=0.15 each)"
   ]
  },
  {
   "cell_type": "code",
   "execution_count": 63,
   "metadata": {
    "ExecuteTime": {
     "end_time": "2020-06-15T00:58:54.328294Z",
     "start_time": "2020-06-15T00:58:54.324263Z"
    }
   },
   "outputs": [
    {
     "data": {
      "text/plain": [
       "{'living_room': 0.15, 'basement': 0.15, 'back_patio': 0.3, 'kitchen': 0.4}"
      ]
     },
     "execution_count": 63,
     "metadata": {},
     "output_type": "execute_result"
    }
   ],
   "source": [
    "## Update house_party_room_odds\n",
    "house_party_room_odds['kitchen'] = 0.4\n",
    "house_party_room_odds['back_patio'] = 0.3\n",
    "house_party_room_odds['living_room'] =0.15\n",
    "house_party_room_odds['basement'] =0.15\n",
    "house_party_room_odds"
   ]
  },
  {
   "cell_type": "code",
   "execution_count": 64,
   "metadata": {
    "ExecuteTime": {
     "end_time": "2020-06-15T00:58:54.333271Z",
     "start_time": "2020-06-15T00:58:54.329573Z"
    }
   },
   "outputs": [
    {
     "data": {
      "text/plain": [
       "1.0"
      ]
     },
     "execution_count": 64,
     "metadata": {},
     "output_type": "execute_result"
    }
   ],
   "source": [
    "np.sum(list(house_party_room_odds.values()))"
   ]
  },
  {
   "cell_type": "markdown",
   "metadata": {},
   "source": [
    "#### Q1: What is the probability of hearing a Lady GaGa song at the house party at any given moment with the new room probabilities?"
   ]
  },
  {
   "cell_type": "code",
   "execution_count": 65,
   "metadata": {
    "ExecuteTime": {
     "end_time": "2020-06-15T00:58:54.355300Z",
     "start_time": "2020-06-15T00:58:54.334617Z"
    }
   },
   "outputs": [
    {
     "data": {
      "text/html": [
       "<style  type=\"text/css\" >\n",
       "</style><table id=\"T_627ba336_aea3_11ea_a7b3_4865ee12e626\" ><caption>Artist Counts for Living_Room (Total= 12)</caption><thead>    <tr>        <th class=\"blank level0\" ></th>        <th class=\"col_heading level0 col0\" >artist</th>    </tr></thead><tbody>\n",
       "                <tr>\n",
       "                        <th id=\"T_627ba336_aea3_11ea_a7b3_4865ee12e626level0_row0\" class=\"row_heading level0 row0\" >Green Day</th>\n",
       "                        <td id=\"T_627ba336_aea3_11ea_a7b3_4865ee12e626row0_col0\" class=\"data row0 col0\" >3</td>\n",
       "            </tr>\n",
       "            <tr>\n",
       "                        <th id=\"T_627ba336_aea3_11ea_a7b3_4865ee12e626level0_row1\" class=\"row_heading level0 row1\" >Lady GaGa</th>\n",
       "                        <td id=\"T_627ba336_aea3_11ea_a7b3_4865ee12e626row1_col0\" class=\"data row1 col0\" >2</td>\n",
       "            </tr>\n",
       "            <tr>\n",
       "                        <th id=\"T_627ba336_aea3_11ea_a7b3_4865ee12e626level0_row2\" class=\"row_heading level0 row2\" >Black Eyed Peas</th>\n",
       "                        <td id=\"T_627ba336_aea3_11ea_a7b3_4865ee12e626row2_col0\" class=\"data row2 col0\" >2</td>\n",
       "            </tr>\n",
       "            <tr>\n",
       "                        <th id=\"T_627ba336_aea3_11ea_a7b3_4865ee12e626level0_row3\" class=\"row_heading level0 row3\" >Smashing Pumpkins</th>\n",
       "                        <td id=\"T_627ba336_aea3_11ea_a7b3_4865ee12e626row3_col0\" class=\"data row3 col0\" >1</td>\n",
       "            </tr>\n",
       "            <tr>\n",
       "                        <th id=\"T_627ba336_aea3_11ea_a7b3_4865ee12e626level0_row4\" class=\"row_heading level0 row4\" >Cartman (South Park)</th>\n",
       "                        <td id=\"T_627ba336_aea3_11ea_a7b3_4865ee12e626row4_col0\" class=\"data row4 col0\" >1</td>\n",
       "            </tr>\n",
       "            <tr>\n",
       "                        <th id=\"T_627ba336_aea3_11ea_a7b3_4865ee12e626level0_row5\" class=\"row_heading level0 row5\" >Red Hot Chili Peppers</th>\n",
       "                        <td id=\"T_627ba336_aea3_11ea_a7b3_4865ee12e626row5_col0\" class=\"data row5 col0\" >1</td>\n",
       "            </tr>\n",
       "            <tr>\n",
       "                        <th id=\"T_627ba336_aea3_11ea_a7b3_4865ee12e626level0_row6\" class=\"row_heading level0 row6\" >Kelly Clarkson</th>\n",
       "                        <td id=\"T_627ba336_aea3_11ea_a7b3_4865ee12e626row6_col0\" class=\"data row6 col0\" >1</td>\n",
       "            </tr>\n",
       "            <tr>\n",
       "                        <th id=\"T_627ba336_aea3_11ea_a7b3_4865ee12e626level0_row7\" class=\"row_heading level0 row7\" >Nicki Minaj</th>\n",
       "                        <td id=\"T_627ba336_aea3_11ea_a7b3_4865ee12e626row7_col0\" class=\"data row7 col0\" >1</td>\n",
       "            </tr>\n",
       "    </tbody></table>"
      ],
      "text/plain": [
       "<pandas.io.formats.style.Styler at 0x1a225c22e8>"
      ]
     },
     "metadata": {},
     "output_type": "display_data"
    },
    {
     "name": "stdout",
     "output_type": "stream",
     "text": [
      "Prob living_room = 0.17 * 0.15 = 0.025\n"
     ]
    },
    {
     "data": {
      "text/html": [
       "<style  type=\"text/css\" >\n",
       "</style><table id=\"T_627c32ba_aea3_11ea_a168_4865ee12e626\" ><caption>Artist Counts for Basement (Total= 10)</caption><thead>    <tr>        <th class=\"blank level0\" ></th>        <th class=\"col_heading level0 col0\" >artist</th>    </tr></thead><tbody>\n",
       "                <tr>\n",
       "                        <th id=\"T_627c32ba_aea3_11ea_a168_4865ee12e626level0_row0\" class=\"row_heading level0 row0\" >Lady GaGa</th>\n",
       "                        <td id=\"T_627c32ba_aea3_11ea_a168_4865ee12e626row0_col0\" class=\"data row0 col0\" >3</td>\n",
       "            </tr>\n",
       "            <tr>\n",
       "                        <th id=\"T_627c32ba_aea3_11ea_a168_4865ee12e626level0_row1\" class=\"row_heading level0 row1\" >Green Day</th>\n",
       "                        <td id=\"T_627c32ba_aea3_11ea_a168_4865ee12e626row1_col0\" class=\"data row1 col0\" >2</td>\n",
       "            </tr>\n",
       "            <tr>\n",
       "                        <th id=\"T_627c32ba_aea3_11ea_a168_4865ee12e626level0_row2\" class=\"row_heading level0 row2\" >Red Hot Chili Peppers</th>\n",
       "                        <td id=\"T_627c32ba_aea3_11ea_a168_4865ee12e626row2_col0\" class=\"data row2 col0\" >1</td>\n",
       "            </tr>\n",
       "            <tr>\n",
       "                        <th id=\"T_627c32ba_aea3_11ea_a168_4865ee12e626level0_row3\" class=\"row_heading level0 row3\" >Panic at the Disco</th>\n",
       "                        <td id=\"T_627c32ba_aea3_11ea_a168_4865ee12e626row3_col0\" class=\"data row3 col0\" >1</td>\n",
       "            </tr>\n",
       "            <tr>\n",
       "                        <th id=\"T_627c32ba_aea3_11ea_a168_4865ee12e626level0_row4\" class=\"row_heading level0 row4\" >Cartman (South Park)</th>\n",
       "                        <td id=\"T_627c32ba_aea3_11ea_a168_4865ee12e626row4_col0\" class=\"data row4 col0\" >1</td>\n",
       "            </tr>\n",
       "            <tr>\n",
       "                        <th id=\"T_627c32ba_aea3_11ea_a168_4865ee12e626level0_row5\" class=\"row_heading level0 row5\" >John Lennon</th>\n",
       "                        <td id=\"T_627c32ba_aea3_11ea_a168_4865ee12e626row5_col0\" class=\"data row5 col0\" >1</td>\n",
       "            </tr>\n",
       "            <tr>\n",
       "                        <th id=\"T_627c32ba_aea3_11ea_a168_4865ee12e626level0_row6\" class=\"row_heading level0 row6\" >Kelly Clarkson</th>\n",
       "                        <td id=\"T_627c32ba_aea3_11ea_a168_4865ee12e626row6_col0\" class=\"data row6 col0\" >1</td>\n",
       "            </tr>\n",
       "    </tbody></table>"
      ],
      "text/plain": [
       "<pandas.io.formats.style.Styler at 0x1a225c2438>"
      ]
     },
     "metadata": {},
     "output_type": "display_data"
    },
    {
     "name": "stdout",
     "output_type": "stream",
     "text": [
      "Prob basement = 0.3 * 0.15 = 0.045\n"
     ]
    },
    {
     "data": {
      "text/html": [
       "<style  type=\"text/css\" >\n",
       "</style><table id=\"T_627ccb3a_aea3_11ea_bea3_4865ee12e626\" ><caption>Artist Counts for Back_Patio (Total= 9)</caption><thead>    <tr>        <th class=\"blank level0\" ></th>        <th class=\"col_heading level0 col0\" >artist</th>    </tr></thead><tbody>\n",
       "                <tr>\n",
       "                        <th id=\"T_627ccb3a_aea3_11ea_bea3_4865ee12e626level0_row0\" class=\"row_heading level0 row0\" >Black Eyed Peas</th>\n",
       "                        <td id=\"T_627ccb3a_aea3_11ea_bea3_4865ee12e626row0_col0\" class=\"data row0 col0\" >2</td>\n",
       "            </tr>\n",
       "            <tr>\n",
       "                        <th id=\"T_627ccb3a_aea3_11ea_bea3_4865ee12e626level0_row1\" class=\"row_heading level0 row1\" >Smashing Pumpkins</th>\n",
       "                        <td id=\"T_627ccb3a_aea3_11ea_bea3_4865ee12e626row1_col0\" class=\"data row1 col0\" >1</td>\n",
       "            </tr>\n",
       "            <tr>\n",
       "                        <th id=\"T_627ccb3a_aea3_11ea_bea3_4865ee12e626level0_row2\" class=\"row_heading level0 row2\" >Cartman (South Park)</th>\n",
       "                        <td id=\"T_627ccb3a_aea3_11ea_bea3_4865ee12e626row2_col0\" class=\"data row2 col0\" >1</td>\n",
       "            </tr>\n",
       "            <tr>\n",
       "                        <th id=\"T_627ccb3a_aea3_11ea_bea3_4865ee12e626level0_row3\" class=\"row_heading level0 row3\" >Panic at the Disco</th>\n",
       "                        <td id=\"T_627ccb3a_aea3_11ea_bea3_4865ee12e626row3_col0\" class=\"data row3 col0\" >1</td>\n",
       "            </tr>\n",
       "            <tr>\n",
       "                        <th id=\"T_627ccb3a_aea3_11ea_bea3_4865ee12e626level0_row4\" class=\"row_heading level0 row4\" >Lady GaGa</th>\n",
       "                        <td id=\"T_627ccb3a_aea3_11ea_bea3_4865ee12e626row4_col0\" class=\"data row4 col0\" >1</td>\n",
       "            </tr>\n",
       "            <tr>\n",
       "                        <th id=\"T_627ccb3a_aea3_11ea_bea3_4865ee12e626level0_row5\" class=\"row_heading level0 row5\" >B-52s</th>\n",
       "                        <td id=\"T_627ccb3a_aea3_11ea_bea3_4865ee12e626row5_col0\" class=\"data row5 col0\" >1</td>\n",
       "            </tr>\n",
       "            <tr>\n",
       "                        <th id=\"T_627ccb3a_aea3_11ea_bea3_4865ee12e626level0_row6\" class=\"row_heading level0 row6\" >Green Day</th>\n",
       "                        <td id=\"T_627ccb3a_aea3_11ea_bea3_4865ee12e626row6_col0\" class=\"data row6 col0\" >1</td>\n",
       "            </tr>\n",
       "            <tr>\n",
       "                        <th id=\"T_627ccb3a_aea3_11ea_bea3_4865ee12e626level0_row7\" class=\"row_heading level0 row7\" >Nicki Minaj</th>\n",
       "                        <td id=\"T_627ccb3a_aea3_11ea_bea3_4865ee12e626row7_col0\" class=\"data row7 col0\" >1</td>\n",
       "            </tr>\n",
       "    </tbody></table>"
      ],
      "text/plain": [
       "<pandas.io.formats.style.Styler at 0x1a225c26a0>"
      ]
     },
     "metadata": {},
     "output_type": "display_data"
    },
    {
     "name": "stdout",
     "output_type": "stream",
     "text": [
      "Prob back_patio = 0.11 * 0.3 = 0.033\n"
     ]
    },
    {
     "data": {
      "text/html": [
       "<style  type=\"text/css\" >\n",
       "</style><table id=\"T_627d60b8_aea3_11ea_80db_4865ee12e626\" ><caption>Artist Counts for Kitchen (Total= 8)</caption><thead>    <tr>        <th class=\"blank level0\" ></th>        <th class=\"col_heading level0 col0\" >artist</th>    </tr></thead><tbody>\n",
       "                <tr>\n",
       "                        <th id=\"T_627d60b8_aea3_11ea_80db_4865ee12e626level0_row0\" class=\"row_heading level0 row0\" >Lady GaGa</th>\n",
       "                        <td id=\"T_627d60b8_aea3_11ea_80db_4865ee12e626row0_col0\" class=\"data row0 col0\" >3</td>\n",
       "            </tr>\n",
       "            <tr>\n",
       "                        <th id=\"T_627d60b8_aea3_11ea_80db_4865ee12e626level0_row1\" class=\"row_heading level0 row1\" >Nicki Minaj</th>\n",
       "                        <td id=\"T_627d60b8_aea3_11ea_80db_4865ee12e626row1_col0\" class=\"data row1 col0\" >2</td>\n",
       "            </tr>\n",
       "            <tr>\n",
       "                        <th id=\"T_627d60b8_aea3_11ea_80db_4865ee12e626level0_row2\" class=\"row_heading level0 row2\" >Red Hot Chili Peppers</th>\n",
       "                        <td id=\"T_627d60b8_aea3_11ea_80db_4865ee12e626row2_col0\" class=\"data row2 col0\" >1</td>\n",
       "            </tr>\n",
       "            <tr>\n",
       "                        <th id=\"T_627d60b8_aea3_11ea_80db_4865ee12e626level0_row3\" class=\"row_heading level0 row3\" >Rilo Kiley</th>\n",
       "                        <td id=\"T_627d60b8_aea3_11ea_80db_4865ee12e626row3_col0\" class=\"data row3 col0\" >1</td>\n",
       "            </tr>\n",
       "            <tr>\n",
       "                        <th id=\"T_627d60b8_aea3_11ea_80db_4865ee12e626level0_row4\" class=\"row_heading level0 row4\" >Cartman (South Park)</th>\n",
       "                        <td id=\"T_627d60b8_aea3_11ea_80db_4865ee12e626row4_col0\" class=\"data row4 col0\" >1</td>\n",
       "            </tr>\n",
       "    </tbody></table>"
      ],
      "text/plain": [
       "<pandas.io.formats.style.Styler at 0x1a225c2898>"
      ]
     },
     "metadata": {},
     "output_type": "display_data"
    },
    {
     "name": "stdout",
     "output_type": "stream",
     "text": [
      "Prob kitchen = 0.38 * 0.4 = 0.15\n"
     ]
    },
    {
     "data": {
      "text/plain": [
       "0.25333333333333335"
      ]
     },
     "execution_count": 65,
     "metadata": {},
     "output_type": "execute_result"
    }
   ],
   "source": [
    "total_prob_gaga = 0\n",
    "sample_column='artist'\n",
    "event='Lady GaGa'\n",
    "\n",
    "## For each room in the house party\n",
    "for room in house_party:\n",
    "    \n",
    "    ## Get prob of event from room's space\n",
    "    prob_event = get_prob_by_room(house_party,room,sample_column,event,\n",
    "                                  display_counts=True)\n",
    "    \n",
    "    ## Get prob of being in taht specific room\n",
    "    prob_room = house_party_room_odds[room]\n",
    "       \n",
    "    ## Calculate P_LG x P_Room\n",
    "    prob_gaga_room = prob_event * prob_room\n",
    "    \n",
    "    ## Add the room's prob to the total prob calculation\n",
    "    total_prob_gaga = total_prob_gaga + prob_gaga_room\n",
    "    \n",
    "    print(f\"Prob {room} = {round(prob_event,2)} * {prob_room} = {round(prob_gaga_room,3)}\")\n",
    "\n",
    "total_prob_gaga"
   ]
  },
  {
   "cell_type": "markdown",
   "metadata": {},
   "source": [
    "___"
   ]
  },
  {
   "cell_type": "markdown",
   "metadata": {},
   "source": [
    "#### Q: what is the probability of hearing a song recommend by Anne?"
   ]
  },
  {
   "cell_type": "code",
   "execution_count": 66,
   "metadata": {
    "ExecuteTime": {
     "end_time": "2020-06-15T00:58:54.363933Z",
     "start_time": "2020-06-15T00:58:54.356404Z"
    }
   },
   "outputs": [
    {
     "data": {
      "text/html": [
       "<div>\n",
       "<style scoped>\n",
       "    .dataframe tbody tr th:only-of-type {\n",
       "        vertical-align: middle;\n",
       "    }\n",
       "\n",
       "    .dataframe tbody tr th {\n",
       "        vertical-align: top;\n",
       "    }\n",
       "\n",
       "    .dataframe thead th {\n",
       "        text-align: right;\n",
       "    }\n",
       "</style>\n",
       "<table border=\"1\" class=\"dataframe\">\n",
       "  <thead>\n",
       "    <tr style=\"text-align: right;\">\n",
       "      <th></th>\n",
       "      <th>artist</th>\n",
       "      <th>track</th>\n",
       "      <th>Recommended By</th>\n",
       "      <th>Room</th>\n",
       "    </tr>\n",
       "  </thead>\n",
       "  <tbody>\n",
       "    <tr>\n",
       "      <td>0</td>\n",
       "      <td>Smashing Pumpkins</td>\n",
       "      <td>Tonight, Tonight</td>\n",
       "      <td>Anne</td>\n",
       "      <td>back_patio</td>\n",
       "    </tr>\n",
       "    <tr>\n",
       "      <td>1</td>\n",
       "      <td>Panic at the Disco</td>\n",
       "      <td>Hallelujah</td>\n",
       "      <td>Samantha</td>\n",
       "      <td>back_patio</td>\n",
       "    </tr>\n",
       "    <tr>\n",
       "      <td>2</td>\n",
       "      <td>Green Day</td>\n",
       "      <td>Time of your Life</td>\n",
       "      <td>Joe</td>\n",
       "      <td>back_patio</td>\n",
       "    </tr>\n",
       "    <tr>\n",
       "      <td>3</td>\n",
       "      <td>Cartman (South Park)</td>\n",
       "      <td>Poker Face</td>\n",
       "      <td>Carla</td>\n",
       "      <td>back_patio</td>\n",
       "    </tr>\n",
       "    <tr>\n",
       "      <td>4</td>\n",
       "      <td>Black Eyed Peas</td>\n",
       "      <td>Let's Get it Started</td>\n",
       "      <td>John</td>\n",
       "      <td>back_patio</td>\n",
       "    </tr>\n",
       "    <tr>\n",
       "      <td>5</td>\n",
       "      <td>Black Eyed Peas</td>\n",
       "      <td>Let's Get it Started</td>\n",
       "      <td>Anne</td>\n",
       "      <td>back_patio</td>\n",
       "    </tr>\n",
       "    <tr>\n",
       "      <td>6</td>\n",
       "      <td>Lady GaGa</td>\n",
       "      <td>Bad Romance</td>\n",
       "      <td>John</td>\n",
       "      <td>back_patio</td>\n",
       "    </tr>\n",
       "    <tr>\n",
       "      <td>7</td>\n",
       "      <td>B-52s</td>\n",
       "      <td>Rock Lobster</td>\n",
       "      <td>Joe</td>\n",
       "      <td>back_patio</td>\n",
       "    </tr>\n",
       "    <tr>\n",
       "      <td>8</td>\n",
       "      <td>Nicki Minaj</td>\n",
       "      <td>Marilyn Monroe</td>\n",
       "      <td>Carla</td>\n",
       "      <td>back_patio</td>\n",
       "    </tr>\n",
       "  </tbody>\n",
       "</table>\n",
       "</div>"
      ],
      "text/plain": [
       "                 artist                 track Recommended By        Room\n",
       "0     Smashing Pumpkins      Tonight, Tonight           Anne  back_patio\n",
       "1    Panic at the Disco            Hallelujah       Samantha  back_patio\n",
       "2             Green Day     Time of your Life            Joe  back_patio\n",
       "3  Cartman (South Park)            Poker Face          Carla  back_patio\n",
       "4       Black Eyed Peas  Let's Get it Started           John  back_patio\n",
       "5       Black Eyed Peas  Let's Get it Started           Anne  back_patio\n",
       "6             Lady GaGa           Bad Romance           John  back_patio\n",
       "7                 B-52s          Rock Lobster            Joe  back_patio\n",
       "8           Nicki Minaj        Marilyn Monroe          Carla  back_patio"
      ]
     },
     "execution_count": 66,
     "metadata": {},
     "output_type": "execute_result"
    }
   ],
   "source": [
    "house_party['back_patio']"
   ]
  },
  {
   "cell_type": "markdown",
   "metadata": {},
   "source": [
    "$$ P(AnneRec)=\\sum_i P(AnneRec \\mid Room_i)P(Room_i)$$\n"
   ]
  },
  {
   "cell_type": "code",
   "execution_count": 67,
   "metadata": {
    "ExecuteTime": {
     "end_time": "2020-06-15T00:58:54.385260Z",
     "start_time": "2020-06-15T00:58:54.366065Z"
    },
    "scrolled": true
   },
   "outputs": [
    {
     "data": {
      "text/html": [
       "<style  type=\"text/css\" >\n",
       "</style><table id=\"T_62804936_aea3_11ea_b39b_4865ee12e626\" ><caption>Recommended By Counts for Living_Room (Total= 12)</caption><thead>    <tr>        <th class=\"blank level0\" ></th>        <th class=\"col_heading level0 col0\" >Recommended By</th>    </tr></thead><tbody>\n",
       "                <tr>\n",
       "                        <th id=\"T_62804936_aea3_11ea_b39b_4865ee12e626level0_row0\" class=\"row_heading level0 row0\" >Carla</th>\n",
       "                        <td id=\"T_62804936_aea3_11ea_b39b_4865ee12e626row0_col0\" class=\"data row0 col0\" >4</td>\n",
       "            </tr>\n",
       "            <tr>\n",
       "                        <th id=\"T_62804936_aea3_11ea_b39b_4865ee12e626level0_row1\" class=\"row_heading level0 row1\" >Anne</th>\n",
       "                        <td id=\"T_62804936_aea3_11ea_b39b_4865ee12e626row1_col0\" class=\"data row1 col0\" >3</td>\n",
       "            </tr>\n",
       "            <tr>\n",
       "                        <th id=\"T_62804936_aea3_11ea_b39b_4865ee12e626level0_row2\" class=\"row_heading level0 row2\" >John</th>\n",
       "                        <td id=\"T_62804936_aea3_11ea_b39b_4865ee12e626row2_col0\" class=\"data row2 col0\" >2</td>\n",
       "            </tr>\n",
       "            <tr>\n",
       "                        <th id=\"T_62804936_aea3_11ea_b39b_4865ee12e626level0_row3\" class=\"row_heading level0 row3\" >Samantha</th>\n",
       "                        <td id=\"T_62804936_aea3_11ea_b39b_4865ee12e626row3_col0\" class=\"data row3 col0\" >1</td>\n",
       "            </tr>\n",
       "            <tr>\n",
       "                        <th id=\"T_62804936_aea3_11ea_b39b_4865ee12e626level0_row4\" class=\"row_heading level0 row4\" >James</th>\n",
       "                        <td id=\"T_62804936_aea3_11ea_b39b_4865ee12e626row4_col0\" class=\"data row4 col0\" >1</td>\n",
       "            </tr>\n",
       "            <tr>\n",
       "                        <th id=\"T_62804936_aea3_11ea_b39b_4865ee12e626level0_row5\" class=\"row_heading level0 row5\" >Joe</th>\n",
       "                        <td id=\"T_62804936_aea3_11ea_b39b_4865ee12e626row5_col0\" class=\"data row5 col0\" >1</td>\n",
       "            </tr>\n",
       "    </tbody></table>"
      ],
      "text/plain": [
       "<pandas.io.formats.style.Styler at 0x1a225c2cc0>"
      ]
     },
     "metadata": {},
     "output_type": "display_data"
    },
    {
     "name": "stdout",
     "output_type": "stream",
     "text": [
      "Prob living_room = 0.25 * 0.15 = 0.038\n"
     ]
    },
    {
     "data": {
      "text/html": [
       "<style  type=\"text/css\" >\n",
       "</style><table id=\"T_6280c886_aea3_11ea_a7af_4865ee12e626\" ><caption>Recommended By Counts for Basement (Total= 10)</caption><thead>    <tr>        <th class=\"blank level0\" ></th>        <th class=\"col_heading level0 col0\" >Recommended By</th>    </tr></thead><tbody>\n",
       "                <tr>\n",
       "                        <th id=\"T_6280c886_aea3_11ea_a7af_4865ee12e626level0_row0\" class=\"row_heading level0 row0\" >Carla</th>\n",
       "                        <td id=\"T_6280c886_aea3_11ea_a7af_4865ee12e626row0_col0\" class=\"data row0 col0\" >3</td>\n",
       "            </tr>\n",
       "            <tr>\n",
       "                        <th id=\"T_6280c886_aea3_11ea_a7af_4865ee12e626level0_row1\" class=\"row_heading level0 row1\" >Joe</th>\n",
       "                        <td id=\"T_6280c886_aea3_11ea_a7af_4865ee12e626row1_col0\" class=\"data row1 col0\" >3</td>\n",
       "            </tr>\n",
       "            <tr>\n",
       "                        <th id=\"T_6280c886_aea3_11ea_a7af_4865ee12e626level0_row2\" class=\"row_heading level0 row2\" >John</th>\n",
       "                        <td id=\"T_6280c886_aea3_11ea_a7af_4865ee12e626row2_col0\" class=\"data row2 col0\" >2</td>\n",
       "            </tr>\n",
       "            <tr>\n",
       "                        <th id=\"T_6280c886_aea3_11ea_a7af_4865ee12e626level0_row3\" class=\"row_heading level0 row3\" >Samantha</th>\n",
       "                        <td id=\"T_6280c886_aea3_11ea_a7af_4865ee12e626row3_col0\" class=\"data row3 col0\" >1</td>\n",
       "            </tr>\n",
       "            <tr>\n",
       "                        <th id=\"T_6280c886_aea3_11ea_a7af_4865ee12e626level0_row4\" class=\"row_heading level0 row4\" >James</th>\n",
       "                        <td id=\"T_6280c886_aea3_11ea_a7af_4865ee12e626row4_col0\" class=\"data row4 col0\" >1</td>\n",
       "            </tr>\n",
       "    </tbody></table>"
      ],
      "text/plain": [
       "<pandas.io.formats.style.Styler at 0x1a225c27b8>"
      ]
     },
     "metadata": {},
     "output_type": "display_data"
    },
    {
     "name": "stdout",
     "output_type": "stream",
     "text": [
      "Anne not found.\n",
      "Prob basement = 0 * 0.15 = 0.0\n"
     ]
    },
    {
     "data": {
      "text/html": [
       "<style  type=\"text/css\" >\n",
       "</style><table id=\"T_62815a2e_aea3_11ea_9baf_4865ee12e626\" ><caption>Recommended By Counts for Back_Patio (Total= 9)</caption><thead>    <tr>        <th class=\"blank level0\" ></th>        <th class=\"col_heading level0 col0\" >Recommended By</th>    </tr></thead><tbody>\n",
       "                <tr>\n",
       "                        <th id=\"T_62815a2e_aea3_11ea_9baf_4865ee12e626level0_row0\" class=\"row_heading level0 row0\" >John</th>\n",
       "                        <td id=\"T_62815a2e_aea3_11ea_9baf_4865ee12e626row0_col0\" class=\"data row0 col0\" >2</td>\n",
       "            </tr>\n",
       "            <tr>\n",
       "                        <th id=\"T_62815a2e_aea3_11ea_9baf_4865ee12e626level0_row1\" class=\"row_heading level0 row1\" >Carla</th>\n",
       "                        <td id=\"T_62815a2e_aea3_11ea_9baf_4865ee12e626row1_col0\" class=\"data row1 col0\" >2</td>\n",
       "            </tr>\n",
       "            <tr>\n",
       "                        <th id=\"T_62815a2e_aea3_11ea_9baf_4865ee12e626level0_row2\" class=\"row_heading level0 row2\" >Anne</th>\n",
       "                        <td id=\"T_62815a2e_aea3_11ea_9baf_4865ee12e626row2_col0\" class=\"data row2 col0\" >2</td>\n",
       "            </tr>\n",
       "            <tr>\n",
       "                        <th id=\"T_62815a2e_aea3_11ea_9baf_4865ee12e626level0_row3\" class=\"row_heading level0 row3\" >Joe</th>\n",
       "                        <td id=\"T_62815a2e_aea3_11ea_9baf_4865ee12e626row3_col0\" class=\"data row3 col0\" >2</td>\n",
       "            </tr>\n",
       "            <tr>\n",
       "                        <th id=\"T_62815a2e_aea3_11ea_9baf_4865ee12e626level0_row4\" class=\"row_heading level0 row4\" >Samantha</th>\n",
       "                        <td id=\"T_62815a2e_aea3_11ea_9baf_4865ee12e626row4_col0\" class=\"data row4 col0\" >1</td>\n",
       "            </tr>\n",
       "    </tbody></table>"
      ],
      "text/plain": [
       "<pandas.io.formats.style.Styler at 0x1a22707da0>"
      ]
     },
     "metadata": {},
     "output_type": "display_data"
    },
    {
     "name": "stdout",
     "output_type": "stream",
     "text": [
      "Prob back_patio = 0.22 * 0.3 = 0.067\n"
     ]
    },
    {
     "data": {
      "text/html": [
       "<style  type=\"text/css\" >\n",
       "</style><table id=\"T_6281f19e_aea3_11ea_891d_4865ee12e626\" ><caption>Recommended By Counts for Kitchen (Total= 8)</caption><thead>    <tr>        <th class=\"blank level0\" ></th>        <th class=\"col_heading level0 col0\" >Recommended By</th>    </tr></thead><tbody>\n",
       "                <tr>\n",
       "                        <th id=\"T_6281f19e_aea3_11ea_891d_4865ee12e626level0_row0\" class=\"row_heading level0 row0\" >Carla</th>\n",
       "                        <td id=\"T_6281f19e_aea3_11ea_891d_4865ee12e626row0_col0\" class=\"data row0 col0\" >3</td>\n",
       "            </tr>\n",
       "            <tr>\n",
       "                        <th id=\"T_6281f19e_aea3_11ea_891d_4865ee12e626level0_row1\" class=\"row_heading level0 row1\" >John</th>\n",
       "                        <td id=\"T_6281f19e_aea3_11ea_891d_4865ee12e626row1_col0\" class=\"data row1 col0\" >2</td>\n",
       "            </tr>\n",
       "            <tr>\n",
       "                        <th id=\"T_6281f19e_aea3_11ea_891d_4865ee12e626level0_row2\" class=\"row_heading level0 row2\" >James</th>\n",
       "                        <td id=\"T_6281f19e_aea3_11ea_891d_4865ee12e626row2_col0\" class=\"data row2 col0\" >2</td>\n",
       "            </tr>\n",
       "            <tr>\n",
       "                        <th id=\"T_6281f19e_aea3_11ea_891d_4865ee12e626level0_row3\" class=\"row_heading level0 row3\" >Joe</th>\n",
       "                        <td id=\"T_6281f19e_aea3_11ea_891d_4865ee12e626row3_col0\" class=\"data row3 col0\" >1</td>\n",
       "            </tr>\n",
       "    </tbody></table>"
      ],
      "text/plain": [
       "<pandas.io.formats.style.Styler at 0x1a225e1208>"
      ]
     },
     "metadata": {},
     "output_type": "display_data"
    },
    {
     "name": "stdout",
     "output_type": "stream",
     "text": [
      "Anne not found.\n",
      "Prob kitchen = 0 * 0.4 = 0.0\n"
     ]
    },
    {
     "data": {
      "text/plain": [
       "0.25333333333333335"
      ]
     },
     "execution_count": 67,
     "metadata": {},
     "output_type": "execute_result"
    }
   ],
   "source": [
    "totel_prob_anne = 0\n",
    "sample_column='Recommended By'\n",
    "event='Anne'\n",
    "\n",
    "## For each room in the house party\n",
    "for room in house_party:\n",
    "    \n",
    "    ## Get prob of event from room's space\n",
    "    prob_event = get_prob_by_room(house_party,room,sample_column,event,\n",
    "                                  display_counts=True)\n",
    "    \n",
    "    ## Get prob of being in taht specific room\n",
    "    prob_room = house_party_room_odds[room]\n",
    "       \n",
    "    ## Calculate P_LG x P_Room\n",
    "    prob_gaga_room = prob_event * prob_room\n",
    "    \n",
    "    ## Add the room's prob to the total prob calculation\n",
    "    totel_prob_anne = totel_prob_anne + prob_gaga_room\n",
    "    \n",
    "    print(f\"Prob {room} = {round(prob_event,2)} * {prob_room} = {round(prob_gaga_room,3)}\")\n",
    "\n",
    "total_prob_gaga"
   ]
  },
  {
   "cell_type": "markdown",
   "metadata": {},
   "source": [
    "# Intro to Section 12 - Statistical Distributions (if time)"
   ]
  },
  {
   "cell_type": "markdown",
   "metadata": {},
   "source": [
    "- Distributions are directly related to probability, which is a critical concept we will explore more with Hypothesis Testing in Module 3."
   ]
  },
  {
   "cell_type": "markdown",
   "metadata": {},
   "source": [
    "### Probability Mass Function (AKA Probability Distribution Function)"
   ]
  },
  {
   "cell_type": "markdown",
   "metadata": {
    "ExecuteTime": {
     "end_time": "2020-01-09T22:23:40.299352Z",
     "start_time": "2020-01-09T22:23:40.296088Z"
    }
   },
   "source": [
    "#### Flipping a coin"
   ]
  },
  {
   "cell_type": "code",
   "execution_count": 68,
   "metadata": {
    "ExecuteTime": {
     "end_time": "2020-06-15T00:58:54.390720Z",
     "start_time": "2020-06-15T00:58:54.386629Z"
    }
   },
   "outputs": [],
   "source": [
    "from collections import Counter\n",
    "np.random.seed(3210)\n",
    "def coin_toss(n_flips=10,outcomes=None,verbose=True,ret_outcomes=True):\n",
    "    if outcomes is None:\n",
    "        outcomes = []\n",
    "    \n",
    "    for toss in range(n_flips):\n",
    "        result = 'H' if np.random.random() >0.5 else 'T'\n",
    "        outcomes.append(result)\n",
    "        \n",
    "        if verbose: print(f\"Toss {toss}: \\t{result}\")\n",
    "            \n",
    "#     if ret_outcomes:\n",
    "    return outcomes\n",
    "#     else:        \n",
    "#         counter = Counter(outcomes)\n",
    "#         return counter"
   ]
  },
  {
   "cell_type": "code",
   "execution_count": 69,
   "metadata": {
    "ExecuteTime": {
     "end_time": "2020-06-15T00:58:54.395926Z",
     "start_time": "2020-06-15T00:58:54.391921Z"
    }
   },
   "outputs": [
    {
     "name": "stdout",
     "output_type": "stream",
     "text": [
      "Toss 0: \tT\n",
      "Toss 1: \tT\n",
      "Toss 2: \tT\n",
      "Toss 3: \tH\n"
     ]
    },
    {
     "data": {
      "text/plain": [
       "['T', 'T', 'T', 'H']"
      ]
     },
     "execution_count": 69,
     "metadata": {},
     "output_type": "execute_result"
    }
   ],
   "source": [
    "outcomes = coin_toss(n_flips=4)\n",
    "outcomes"
   ]
  },
  {
   "cell_type": "code",
   "execution_count": 70,
   "metadata": {
    "ExecuteTime": {
     "end_time": "2020-06-15T00:58:54.400854Z",
     "start_time": "2020-06-15T00:58:54.397139Z"
    }
   },
   "outputs": [
    {
     "data": {
      "text/plain": [
       "Counter({'T': 3, 'H': 1})"
      ]
     },
     "execution_count": 70,
     "metadata": {},
     "output_type": "execute_result"
    }
   ],
   "source": [
    "from collections import Counter\n",
    "counter= Counter(outcomes)\n",
    "counter"
   ]
  },
  {
   "cell_type": "code",
   "execution_count": 71,
   "metadata": {
    "ExecuteTime": {
     "end_time": "2020-06-15T00:58:54.407327Z",
     "start_time": "2020-06-15T00:58:54.402088Z"
    }
   },
   "outputs": [],
   "source": [
    "def plot_pmf_vs_hist(counter):\n",
    "    if isinstance(counter,list):\n",
    "        from collections import Counter\n",
    "        counter = Counter(counter)\n",
    "\n",
    "    fig,ax=plt.subplots(ncols=2,figsize=(12,4))\n",
    "    pmf = [] \n",
    "\n",
    "    for k,v in counter.items():\n",
    "        pmf.append(round(v/len(outcomes),2))\n",
    "\n",
    "\n",
    "    ax[0].bar(counter.keys(),pmf)\n",
    "    ax[0].set(title=f'PMF (sum={np.sum(pmf)})',ylabel='Frequency',xlabel='Outcomes')\n",
    "    \n",
    "    ax[1].hist(outcomes)#counter.keys(),counter.values())\n",
    "    ax[1].set(title=f'Histogram (sum={np.sum(list(counter.values()))})',ylabel='Counts',xlabel='Outcomes')\n",
    "    plt.tight_layout()\n",
    "    return fig,ax"
   ]
  },
  {
   "cell_type": "code",
   "execution_count": 72,
   "metadata": {
    "ExecuteTime": {
     "end_time": "2020-06-15T00:58:54.681678Z",
     "start_time": "2020-06-15T00:58:54.408657Z"
    }
   },
   "outputs": [
    {
     "data": {
      "text/plain": [
       "(<Figure size 864x288 with 2 Axes>,\n",
       " array([<matplotlib.axes._subplots.AxesSubplot object at 0x1a225c2cc0>,\n",
       "        <matplotlib.axes._subplots.AxesSubplot object at 0x1a228c12e8>],\n",
       "       dtype=object))"
      ]
     },
     "execution_count": 72,
     "metadata": {},
     "output_type": "execute_result"
    },
    {
     "data": {
      "image/png": "[encoded data removed]",
      "text/plain": [
       "<Figure size 864x288 with 2 Axes>"
      ]
     },
     "metadata": {
      "needs_background": "light"
     },
     "output_type": "display_data"
    }
   ],
   "source": [
    "plot_pmf_vs_hist(counter)"
   ]
  },
  {
   "cell_type": "code",
   "execution_count": 73,
   "metadata": {
    "ExecuteTime": {
     "end_time": "2020-06-15T00:58:54.955625Z",
     "start_time": "2020-06-15T00:58:54.683360Z"
    }
   },
   "outputs": [
    {
     "name": "stdout",
     "output_type": "stream",
     "text": [
      "Toss 0: \tH\n",
      "Toss 1: \tT\n",
      "Toss 2: \tT\n",
      "Toss 3: \tH\n",
      "Toss 4: \tT\n",
      "Toss 5: \tT\n",
      "Toss 6: \tT\n",
      "Toss 7: \tH\n",
      "Toss 8: \tT\n",
      "Toss 9: \tT\n",
      "Toss 10: \tT\n",
      "Toss 11: \tT\n"
     ]
    },
    {
     "data": {
      "text/plain": [
       "(<Figure size 864x288 with 2 Axes>,\n",
       " array([<matplotlib.axes._subplots.AxesSubplot object at 0x1a2016a588>,\n",
       "        <matplotlib.axes._subplots.AxesSubplot object at 0x1a22d472e8>],\n",
       "       dtype=object))"
      ]
     },
     "execution_count": 73,
     "metadata": {},
     "output_type": "execute_result"
    },
    {
     "data": {
      "image/png": "[encoded data removed]",
      "text/plain": [
       "<Figure size 864x288 with 2 Axes>"
      ]
     },
     "metadata": {
      "needs_background": "light"
     },
     "output_type": "display_data"
    }
   ],
   "source": [
    "outcomes = coin_toss(n_flips=12,outcomes=outcomes)\n",
    "plot_pmf_vs_hist(outcomes)"
   ]
  },
  {
   "cell_type": "code",
   "execution_count": 74,
   "metadata": {
    "ExecuteTime": {
     "end_time": "2020-06-15T00:58:55.227268Z",
     "start_time": "2020-06-15T00:58:54.956996Z"
    }
   },
   "outputs": [
    {
     "name": "stdout",
     "output_type": "stream",
     "text": [
      "Toss 0: \tT\n",
      "Toss 1: \tH\n",
      "Toss 2: \tH\n",
      "Toss 3: \tT\n",
      "Toss 4: \tH\n",
      "Toss 5: \tH\n",
      "Toss 6: \tT\n",
      "Toss 7: \tH\n",
      "Toss 8: \tT\n",
      "Toss 9: \tT\n",
      "Toss 10: \tH\n",
      "Toss 11: \tT\n",
      "Toss 12: \tH\n",
      "Toss 13: \tT\n",
      "Toss 14: \tH\n",
      "Toss 15: \tT\n",
      "Toss 16: \tT\n",
      "Toss 17: \tH\n",
      "Toss 18: \tT\n",
      "Toss 19: \tH\n",
      "Toss 20: \tT\n"
     ]
    },
    {
     "data": {
      "text/plain": [
       "(<Figure size 864x288 with 2 Axes>,\n",
       " array([<matplotlib.axes._subplots.AxesSubplot object at 0x1a2289a2e8>,\n",
       "        <matplotlib.axes._subplots.AxesSubplot object at 0x1a1fc23828>],\n",
       "       dtype=object))"
      ]
     },
     "execution_count": 74,
     "metadata": {},
     "output_type": "execute_result"
    },
    {
     "data": {
      "image/png": "[encoded data removed]",
      "text/plain": [
       "<Figure size 864x288 with 2 Axes>"
      ]
     },
     "metadata": {
      "needs_background": "light"
     },
     "output_type": "display_data"
    }
   ],
   "source": [
    "outcomes = coin_toss(n_flips=21,outcomes=outcomes)\n",
    "plot_pmf_vs_hist(outcomes)"
   ]
  },
  {
   "cell_type": "code",
   "execution_count": 75,
   "metadata": {
    "ExecuteTime": {
     "end_time": "2020-06-15T00:58:55.513566Z",
     "start_time": "2020-06-15T00:58:55.228820Z"
    }
   },
   "outputs": [
    {
     "name": "stdout",
     "output_type": "stream",
     "text": [
      "Toss 0: \tT\n",
      "Toss 1: \tH\n",
      "Toss 2: \tH\n",
      "Toss 3: \tT\n",
      "Toss 4: \tH\n",
      "Toss 5: \tT\n",
      "Toss 6: \tT\n",
      "Toss 7: \tH\n",
      "Toss 8: \tH\n",
      "Toss 9: \tH\n",
      "Toss 10: \tT\n",
      "Toss 11: \tT\n",
      "Toss 12: \tT\n",
      "Toss 13: \tT\n",
      "Toss 14: \tH\n",
      "Toss 15: \tH\n",
      "Toss 16: \tT\n",
      "Toss 17: \tT\n",
      "Toss 18: \tT\n",
      "Toss 19: \tT\n"
     ]
    },
    {
     "data": {
      "text/plain": [
       "(<Figure size 864x288 with 2 Axes>,\n",
       " array([<matplotlib.axes._subplots.AxesSubplot object at 0x1a1fc05da0>,\n",
       "        <matplotlib.axes._subplots.AxesSubplot object at 0x1a2167f978>],\n",
       "       dtype=object))"
      ]
     },
     "execution_count": 75,
     "metadata": {},
     "output_type": "execute_result"
    },
    {
     "data": {
      "image/png": "[encoded data removed]",
      "text/plain": [
       "<Figure size 864x288 with 2 Axes>"
      ]
     },
     "metadata": {
      "needs_background": "light"
     },
     "output_type": "display_data"
    }
   ],
   "source": [
    "outcomes = coin_toss(n_flips=20,outcomes=outcomes)\n",
    "plot_pmf_vs_hist(outcomes)"
   ]
  },
  {
   "cell_type": "code",
   "execution_count": 76,
   "metadata": {
    "ExecuteTime": {
     "end_time": "2020-06-15T00:58:55.785631Z",
     "start_time": "2020-06-15T00:58:55.514863Z"
    },
    "scrolled": false
   },
   "outputs": [
    {
     "name": "stdout",
     "output_type": "stream",
     "text": [
      "Toss 0: \tT\n",
      "Toss 1: \tT\n",
      "Toss 2: \tH\n",
      "Toss 3: \tH\n",
      "Toss 4: \tH\n",
      "Toss 5: \tH\n",
      "Toss 6: \tH\n",
      "Toss 7: \tT\n",
      "Toss 8: \tH\n",
      "Toss 9: \tT\n",
      "Toss 10: \tH\n",
      "Toss 11: \tH\n",
      "Toss 12: \tH\n",
      "Toss 13: \tH\n",
      "Toss 14: \tH\n",
      "Toss 15: \tT\n",
      "Toss 16: \tH\n",
      "Toss 17: \tT\n",
      "Toss 18: \tH\n",
      "Toss 19: \tH\n",
      "Toss 20: \tH\n",
      "Toss 21: \tH\n",
      "Toss 22: \tT\n",
      "Toss 23: \tT\n",
      "Toss 24: \tT\n",
      "Toss 25: \tH\n",
      "Toss 26: \tH\n",
      "Toss 27: \tH\n",
      "Toss 28: \tH\n",
      "Toss 29: \tT\n",
      "Toss 30: \tH\n",
      "Toss 31: \tT\n",
      "Toss 32: \tH\n",
      "Toss 33: \tH\n",
      "Toss 34: \tT\n",
      "Toss 35: \tT\n",
      "Toss 36: \tT\n",
      "Toss 37: \tT\n",
      "Toss 38: \tT\n",
      "Toss 39: \tH\n",
      "Toss 40: \tH\n",
      "Toss 41: \tT\n",
      "Toss 42: \tT\n",
      "Toss 43: \tH\n",
      "Toss 44: \tT\n",
      "Toss 45: \tH\n",
      "Toss 46: \tH\n",
      "Toss 47: \tT\n",
      "Toss 48: \tT\n",
      "Toss 49: \tT\n",
      "Toss 50: \tT\n",
      "Toss 51: \tH\n",
      "Toss 52: \tH\n",
      "Toss 53: \tT\n",
      "Toss 54: \tT\n",
      "Toss 55: \tH\n",
      "Toss 56: \tH\n",
      "Toss 57: \tH\n",
      "Toss 58: \tT\n",
      "Toss 59: \tT\n",
      "Toss 60: \tT\n",
      "Toss 61: \tH\n",
      "Toss 62: \tT\n",
      "Toss 63: \tT\n",
      "Toss 64: \tT\n",
      "Toss 65: \tT\n",
      "Toss 66: \tT\n",
      "Toss 67: \tH\n",
      "Toss 68: \tH\n",
      "Toss 69: \tT\n",
      "Toss 70: \tH\n",
      "Toss 71: \tH\n",
      "Toss 72: \tH\n",
      "Toss 73: \tH\n",
      "Toss 74: \tH\n",
      "Toss 75: \tH\n",
      "Toss 76: \tH\n",
      "Toss 77: \tT\n",
      "Toss 78: \tT\n",
      "Toss 79: \tH\n",
      "Toss 80: \tH\n",
      "Toss 81: \tH\n",
      "Toss 82: \tT\n",
      "Toss 83: \tT\n",
      "Toss 84: \tH\n",
      "Toss 85: \tT\n",
      "Toss 86: \tT\n",
      "Toss 87: \tT\n",
      "Toss 88: \tT\n",
      "Toss 89: \tT\n",
      "Toss 90: \tT\n",
      "Toss 91: \tT\n",
      "Toss 92: \tH\n",
      "Toss 93: \tH\n",
      "Toss 94: \tH\n",
      "Toss 95: \tH\n",
      "Toss 96: \tH\n",
      "Toss 97: \tT\n",
      "Toss 98: \tH\n",
      "Toss 99: \tT\n",
      "Toss 100: \tT\n",
      "Toss 101: \tT\n",
      "Toss 102: \tH\n",
      "Toss 103: \tH\n",
      "Toss 104: \tT\n",
      "Toss 105: \tH\n",
      "Toss 106: \tH\n",
      "Toss 107: \tT\n",
      "Toss 108: \tT\n",
      "Toss 109: \tT\n",
      "Toss 110: \tH\n",
      "Toss 111: \tT\n",
      "Toss 112: \tT\n",
      "Toss 113: \tT\n",
      "Toss 114: \tT\n",
      "Toss 115: \tH\n",
      "Toss 116: \tT\n",
      "Toss 117: \tT\n",
      "Toss 118: \tH\n",
      "Toss 119: \tH\n",
      "Toss 120: \tT\n",
      "Toss 121: \tT\n",
      "Toss 122: \tT\n",
      "Toss 123: \tT\n",
      "Toss 124: \tT\n",
      "Toss 125: \tH\n",
      "Toss 126: \tT\n",
      "Toss 127: \tT\n",
      "Toss 128: \tH\n",
      "Toss 129: \tT\n",
      "Toss 130: \tH\n",
      "Toss 131: \tT\n",
      "Toss 132: \tH\n",
      "Toss 133: \tT\n",
      "Toss 134: \tT\n",
      "Toss 135: \tT\n",
      "Toss 136: \tT\n",
      "Toss 137: \tH\n",
      "Toss 138: \tH\n",
      "Toss 139: \tH\n",
      "Toss 140: \tH\n",
      "Toss 141: \tH\n",
      "Toss 142: \tT\n",
      "Toss 143: \tH\n",
      "Toss 144: \tH\n",
      "Toss 145: \tH\n",
      "Toss 146: \tH\n",
      "Toss 147: \tH\n",
      "Toss 148: \tH\n",
      "Toss 149: \tH\n",
      "Toss 150: \tH\n",
      "Toss 151: \tT\n",
      "Toss 152: \tT\n",
      "Toss 153: \tH\n",
      "Toss 154: \tH\n",
      "Toss 155: \tT\n",
      "Toss 156: \tT\n",
      "Toss 157: \tT\n",
      "Toss 158: \tT\n",
      "Toss 159: \tT\n",
      "Toss 160: \tH\n",
      "Toss 161: \tH\n",
      "Toss 162: \tH\n",
      "Toss 163: \tH\n",
      "Toss 164: \tT\n",
      "Toss 165: \tH\n",
      "Toss 166: \tH\n",
      "Toss 167: \tH\n",
      "Toss 168: \tH\n",
      "Toss 169: \tT\n",
      "Toss 170: \tH\n",
      "Toss 171: \tT\n",
      "Toss 172: \tH\n",
      "Toss 173: \tT\n",
      "Toss 174: \tH\n",
      "Toss 175: \tT\n",
      "Toss 176: \tH\n",
      "Toss 177: \tH\n",
      "Toss 178: \tT\n",
      "Toss 179: \tT\n",
      "Toss 180: \tT\n",
      "Toss 181: \tH\n",
      "Toss 182: \tH\n",
      "Toss 183: \tH\n",
      "Toss 184: \tH\n",
      "Toss 185: \tH\n",
      "Toss 186: \tT\n",
      "Toss 187: \tT\n",
      "Toss 188: \tT\n",
      "Toss 189: \tT\n",
      "Toss 190: \tT\n",
      "Toss 191: \tH\n",
      "Toss 192: \tH\n",
      "Toss 193: \tH\n",
      "Toss 194: \tH\n",
      "Toss 195: \tH\n",
      "Toss 196: \tT\n",
      "Toss 197: \tH\n",
      "Toss 198: \tT\n",
      "Toss 199: \tH\n"
     ]
    },
    {
     "data": {
      "text/plain": [
       "(<Figure size 864x288 with 2 Axes>,\n",
       " array([<matplotlib.axes._subplots.AxesSubplot object at 0x1a220f7da0>,\n",
       "        <matplotlib.axes._subplots.AxesSubplot object at 0x1a22116e10>],\n",
       "       dtype=object))"
      ]
     },
     "execution_count": 76,
     "metadata": {},
     "output_type": "execute_result"
    },
    {
     "data": {
      "image/png": "[encoded data removed]",
      "text/plain": [
       "<Figure size 864x288 with 2 Axes>"
      ]
     },
     "metadata": {
      "needs_background": "light"
     },
     "output_type": "display_data"
    }
   ],
   "source": [
    "outcomes = coin_toss(n_flips=200,outcomes=outcomes)\n",
    "plot_pmf_vs_hist(outcomes)"
   ]
  },
  {
   "cell_type": "code",
   "execution_count": null,
   "metadata": {},
   "outputs": [],
   "source": []
  }
 ],
 "metadata": {
  "colab": {
   "collapsed_sections": [],
   "name": "sect_17_prob_&_comb.ipynb",
   "provenance": []
  },
  "kernelspec": {
   "display_name": "Python [conda env:learn-env] *",
   "language": "python",
   "name": "conda-env-learn-env-py"
  },
  "language_info": {
   "codemirror_mode": {
    "name": "ipython",
    "version": 3
   },
   "file_extension": ".py",
   "mimetype": "text/x-python",
   "name": "python",
   "nbconvert_exporter": "python",
   "pygments_lexer": "ipython3",
   "version": "3.6.9"
  },
  "toc": {
   "base_numbering": 1,
   "nav_menu": {},
   "number_sections": true,
   "sideBar": true,
   "skip_h1_title": false,
   "title_cell": "Table of Contents",
   "title_sidebar": "Contents",
   "toc_cell": false,
   "toc_position": {
    "height": "508px",
    "left": "54px",
    "top": "110px",
    "width": "256px"
   },
   "toc_section_display": true,
   "toc_window_display": true
  },
  "varInspector": {
   "cols": {
    "lenName": 16,
    "lenType": 16,
    "lenVar": 40
   },
   "kernels_config": {
    "python": {
     "delete_cmd_postfix": "",
     "delete_cmd_prefix": "del ",
     "library": "var_list.py",
     "varRefreshCmd": "print(var_dic_list())"
    },
    "r": {
     "delete_cmd_postfix": ") ",
     "delete_cmd_prefix": "rm(",
     "library": "var_list.r",
     "varRefreshCmd": "cat(var_dic_list()) "
    }
   },
   "types_to_exclude": [
    "module",
    "function",
    "builtin_function_or_method",
    "instance",
    "_Feature"
   ],
   "window_display": false
  }
 },
 "nbformat": 4,
 "nbformat_minor": 1
}
